{
 "cells": [
  {
   "cell_type": "code",
   "execution_count": 66,
   "metadata": {},
   "outputs": [],
   "source": [
    "# imports\n",
    "import panel as pn\n",
    "pn.extension('plotly')\n",
    "import plotly.express as px\n",
    "import pandas as pd\n",
    "import hvplot.pandas\n",
    "import matplotlib.pyplot as plt\n",
    "import os\n",
    "from pathlib import Path\n",
    "from dotenv import load_dotenv  "
   ]
  },
  {
   "cell_type": "code",
   "execution_count": 3,
   "metadata": {},
   "outputs": [],
   "source": [
    "# Initialize the Panel Extensions (for Plotly)\n",
    "import panel as pn\n",
    "pn.extension(\"plotly\")  "
   ]
  },
  {
   "cell_type": "code",
   "execution_count": 67,
   "metadata": {},
   "outputs": [],
   "source": [
    "# Read the Mapbox API key\n",
    "load_dotenv()\n",
    "map_box_api = os.getenv(\"MAPBOX_API_KEY\")\n",
    "px.set_mapbox_access_token(map_box_api)\n",
    " "
   ]
  },
  {
   "cell_type": "code",
   "execution_count": 68,
   "metadata": {},
   "outputs": [],
   "source": [
    "# Import the CSVs to Pandas DataFrames\n",
    "file_path = Path(\"../PyViz-Homework/toronto_neighbourhoods_census_data.csv\")\n",
    "to_data = pd.read_csv(file_path, index_col=\"year\")\n",
    "\n",
    "file_path = Path(\"../PyViz-Homework/toronto_neighbourhoods_coordinates.csv\")\n",
    "neighbourhood_locations = pd.read_csv(file_path)"
   ]
  },
  {
   "cell_type": "code",
   "execution_count": 69,
   "metadata": {},
   "outputs": [
    {
     "data": {
      "text/html": [
       "<div>\n",
       "<style scoped>\n",
       "    .dataframe tbody tr th:only-of-type {\n",
       "        vertical-align: middle;\n",
       "    }\n",
       "\n",
       "    .dataframe tbody tr th {\n",
       "        vertical-align: top;\n",
       "    }\n",
       "\n",
       "    .dataframe thead th {\n",
       "        text-align: right;\n",
       "    }\n",
       "</style>\n",
       "<table border=\"1\" class=\"dataframe\">\n",
       "  <thead>\n",
       "    <tr style=\"text-align: right;\">\n",
       "      <th></th>\n",
       "      <th>single_detached_house</th>\n",
       "      <th>apartment_five_storeys_plus</th>\n",
       "      <th>movable_dwelling</th>\n",
       "      <th>semi_detached_house</th>\n",
       "      <th>row_house</th>\n",
       "      <th>duplex</th>\n",
       "      <th>apartment_five_storeys_less</th>\n",
       "      <th>other_house</th>\n",
       "      <th>average_house_value</th>\n",
       "      <th>shelter_costs_owned</th>\n",
       "      <th>shelter_costs_rented</th>\n",
       "    </tr>\n",
       "    <tr>\n",
       "      <th>neighbourhood</th>\n",
       "      <th></th>\n",
       "      <th></th>\n",
       "      <th></th>\n",
       "      <th></th>\n",
       "      <th></th>\n",
       "      <th></th>\n",
       "      <th></th>\n",
       "      <th></th>\n",
       "      <th></th>\n",
       "      <th></th>\n",
       "      <th></th>\n",
       "    </tr>\n",
       "  </thead>\n",
       "  <tbody>\n",
       "    <tr>\n",
       "      <th>Bridle Path-Sunnybrook-York Mills</th>\n",
       "      <td>2260.00</td>\n",
       "      <td>331.25</td>\n",
       "      <td>0.00</td>\n",
       "      <td>36.25</td>\n",
       "      <td>90.00</td>\n",
       "      <td>25.0</td>\n",
       "      <td>40.00</td>\n",
       "      <td>0.00</td>\n",
       "      <td>1526485.75</td>\n",
       "      <td>2360.75</td>\n",
       "      <td>2321.75</td>\n",
       "    </tr>\n",
       "    <tr>\n",
       "      <th>Forest Hill South</th>\n",
       "      <td>1742.50</td>\n",
       "      <td>2031.25</td>\n",
       "      <td>1.25</td>\n",
       "      <td>61.25</td>\n",
       "      <td>45.00</td>\n",
       "      <td>75.0</td>\n",
       "      <td>1027.50</td>\n",
       "      <td>3.75</td>\n",
       "      <td>1195992.50</td>\n",
       "      <td>1781.00</td>\n",
       "      <td>1313.75</td>\n",
       "    </tr>\n",
       "    <tr>\n",
       "      <th>Lawrence Park South</th>\n",
       "      <td>3472.50</td>\n",
       "      <td>773.75</td>\n",
       "      <td>0.00</td>\n",
       "      <td>126.25</td>\n",
       "      <td>38.75</td>\n",
       "      <td>225.0</td>\n",
       "      <td>966.25</td>\n",
       "      <td>16.25</td>\n",
       "      <td>1094027.75</td>\n",
       "      <td>1954.00</td>\n",
       "      <td>1372.75</td>\n",
       "    </tr>\n",
       "    <tr>\n",
       "      <th>Rosedale-Moore Park</th>\n",
       "      <td>2498.75</td>\n",
       "      <td>4641.25</td>\n",
       "      <td>0.00</td>\n",
       "      <td>486.25</td>\n",
       "      <td>245.00</td>\n",
       "      <td>327.5</td>\n",
       "      <td>1618.75</td>\n",
       "      <td>2.50</td>\n",
       "      <td>1093640.00</td>\n",
       "      <td>1909.75</td>\n",
       "      <td>1537.25</td>\n",
       "    </tr>\n",
       "    <tr>\n",
       "      <th>St.Andrew-Windfields</th>\n",
       "      <td>3225.00</td>\n",
       "      <td>1670.00</td>\n",
       "      <td>0.00</td>\n",
       "      <td>185.00</td>\n",
       "      <td>552.50</td>\n",
       "      <td>97.5</td>\n",
       "      <td>586.25</td>\n",
       "      <td>5.00</td>\n",
       "      <td>999107.00</td>\n",
       "      <td>1880.25</td>\n",
       "      <td>1384.50</td>\n",
       "    </tr>\n",
       "    <tr>\n",
       "      <th>Casa Loma</th>\n",
       "      <td>916.25</td>\n",
       "      <td>2310.00</td>\n",
       "      <td>0.00</td>\n",
       "      <td>288.75</td>\n",
       "      <td>201.25</td>\n",
       "      <td>162.5</td>\n",
       "      <td>1192.50</td>\n",
       "      <td>2.50</td>\n",
       "      <td>981064.25</td>\n",
       "      <td>1873.75</td>\n",
       "      <td>1547.75</td>\n",
       "    </tr>\n",
       "    <tr>\n",
       "      <th>Bedford Park-Nortown</th>\n",
       "      <td>4865.00</td>\n",
       "      <td>1981.25</td>\n",
       "      <td>0.00</td>\n",
       "      <td>43.75</td>\n",
       "      <td>57.50</td>\n",
       "      <td>287.5</td>\n",
       "      <td>1275.00</td>\n",
       "      <td>88.75</td>\n",
       "      <td>930415.25</td>\n",
       "      <td>1786.75</td>\n",
       "      <td>1255.00</td>\n",
       "    </tr>\n",
       "    <tr>\n",
       "      <th>Forest Hill North</th>\n",
       "      <td>1488.75</td>\n",
       "      <td>3392.50</td>\n",
       "      <td>0.00</td>\n",
       "      <td>12.50</td>\n",
       "      <td>16.25</td>\n",
       "      <td>82.5</td>\n",
       "      <td>402.50</td>\n",
       "      <td>1.25</td>\n",
       "      <td>851680.50</td>\n",
       "      <td>1722.75</td>\n",
       "      <td>1245.50</td>\n",
       "    </tr>\n",
       "    <tr>\n",
       "      <th>Kingsway South</th>\n",
       "      <td>2326.25</td>\n",
       "      <td>576.25</td>\n",
       "      <td>0.00</td>\n",
       "      <td>66.25</td>\n",
       "      <td>48.75</td>\n",
       "      <td>20.0</td>\n",
       "      <td>336.25</td>\n",
       "      <td>2.50</td>\n",
       "      <td>843234.25</td>\n",
       "      <td>1736.75</td>\n",
       "      <td>1622.00</td>\n",
       "    </tr>\n",
       "    <tr>\n",
       "      <th>Yonge-St.Clair</th>\n",
       "      <td>565.00</td>\n",
       "      <td>3948.75</td>\n",
       "      <td>0.00</td>\n",
       "      <td>425.00</td>\n",
       "      <td>212.50</td>\n",
       "      <td>172.5</td>\n",
       "      <td>1308.75</td>\n",
       "      <td>6.25</td>\n",
       "      <td>813220.25</td>\n",
       "      <td>1680.75</td>\n",
       "      <td>1369.00</td>\n",
       "    </tr>\n",
       "  </tbody>\n",
       "</table>\n",
       "</div>"
      ],
      "text/plain": [
       "                                   single_detached_house  \\\n",
       "neighbourhood                                              \n",
       "Bridle Path-Sunnybrook-York Mills                2260.00   \n",
       "Forest Hill South                                1742.50   \n",
       "Lawrence Park South                              3472.50   \n",
       "Rosedale-Moore Park                              2498.75   \n",
       "St.Andrew-Windfields                             3225.00   \n",
       "Casa Loma                                         916.25   \n",
       "Bedford Park-Nortown                             4865.00   \n",
       "Forest Hill North                                1488.75   \n",
       "Kingsway South                                   2326.25   \n",
       "Yonge-St.Clair                                    565.00   \n",
       "\n",
       "                                   apartment_five_storeys_plus  \\\n",
       "neighbourhood                                                    \n",
       "Bridle Path-Sunnybrook-York Mills                       331.25   \n",
       "Forest Hill South                                      2031.25   \n",
       "Lawrence Park South                                     773.75   \n",
       "Rosedale-Moore Park                                    4641.25   \n",
       "St.Andrew-Windfields                                   1670.00   \n",
       "Casa Loma                                              2310.00   \n",
       "Bedford Park-Nortown                                   1981.25   \n",
       "Forest Hill North                                      3392.50   \n",
       "Kingsway South                                          576.25   \n",
       "Yonge-St.Clair                                         3948.75   \n",
       "\n",
       "                                   movable_dwelling  semi_detached_house  \\\n",
       "neighbourhood                                                              \n",
       "Bridle Path-Sunnybrook-York Mills              0.00                36.25   \n",
       "Forest Hill South                              1.25                61.25   \n",
       "Lawrence Park South                            0.00               126.25   \n",
       "Rosedale-Moore Park                            0.00               486.25   \n",
       "St.Andrew-Windfields                           0.00               185.00   \n",
       "Casa Loma                                      0.00               288.75   \n",
       "Bedford Park-Nortown                           0.00                43.75   \n",
       "Forest Hill North                              0.00                12.50   \n",
       "Kingsway South                                 0.00                66.25   \n",
       "Yonge-St.Clair                                 0.00               425.00   \n",
       "\n",
       "                                   row_house  duplex  \\\n",
       "neighbourhood                                          \n",
       "Bridle Path-Sunnybrook-York Mills      90.00    25.0   \n",
       "Forest Hill South                      45.00    75.0   \n",
       "Lawrence Park South                    38.75   225.0   \n",
       "Rosedale-Moore Park                   245.00   327.5   \n",
       "St.Andrew-Windfields                  552.50    97.5   \n",
       "Casa Loma                             201.25   162.5   \n",
       "Bedford Park-Nortown                   57.50   287.5   \n",
       "Forest Hill North                      16.25    82.5   \n",
       "Kingsway South                         48.75    20.0   \n",
       "Yonge-St.Clair                        212.50   172.5   \n",
       "\n",
       "                                   apartment_five_storeys_less  other_house  \\\n",
       "neighbourhood                                                                 \n",
       "Bridle Path-Sunnybrook-York Mills                        40.00         0.00   \n",
       "Forest Hill South                                      1027.50         3.75   \n",
       "Lawrence Park South                                     966.25        16.25   \n",
       "Rosedale-Moore Park                                    1618.75         2.50   \n",
       "St.Andrew-Windfields                                    586.25         5.00   \n",
       "Casa Loma                                              1192.50         2.50   \n",
       "Bedford Park-Nortown                                   1275.00        88.75   \n",
       "Forest Hill North                                       402.50         1.25   \n",
       "Kingsway South                                          336.25         2.50   \n",
       "Yonge-St.Clair                                         1308.75         6.25   \n",
       "\n",
       "                                   average_house_value  shelter_costs_owned  \\\n",
       "neighbourhood                                                                 \n",
       "Bridle Path-Sunnybrook-York Mills           1526485.75              2360.75   \n",
       "Forest Hill South                           1195992.50              1781.00   \n",
       "Lawrence Park South                         1094027.75              1954.00   \n",
       "Rosedale-Moore Park                         1093640.00              1909.75   \n",
       "St.Andrew-Windfields                         999107.00              1880.25   \n",
       "Casa Loma                                    981064.25              1873.75   \n",
       "Bedford Park-Nortown                         930415.25              1786.75   \n",
       "Forest Hill North                            851680.50              1722.75   \n",
       "Kingsway South                               843234.25              1736.75   \n",
       "Yonge-St.Clair                               813220.25              1680.75   \n",
       "\n",
       "                                   shelter_costs_rented  \n",
       "neighbourhood                                            \n",
       "Bridle Path-Sunnybrook-York Mills               2321.75  \n",
       "Forest Hill South                               1313.75  \n",
       "Lawrence Park South                             1372.75  \n",
       "Rosedale-Moore Park                             1537.25  \n",
       "St.Andrew-Windfields                            1384.50  \n",
       "Casa Loma                                       1547.75  \n",
       "Bedford Park-Nortown                            1255.00  \n",
       "Forest Hill North                               1245.50  \n",
       "Kingsway South                                  1622.00  \n",
       "Yonge-St.Clair                                  1369.00  "
      ]
     },
     "execution_count": 69,
     "metadata": {},
     "output_type": "execute_result"
    }
   ],
   "source": [
    "# Getting the data from the top 10 expensive neighbourhoods\n",
    "ten_most_expensive = to_data.groupby('neighbourhood').mean().sort_values(ascending=False, by='average_house_value')\n",
    "ten_most_expensive.head(10)"
   ]
  },
  {
   "cell_type": "code",
   "execution_count": 70,
   "metadata": {},
   "outputs": [
    {
     "data": {
      "text/html": [
       "<div>\n",
       "<style scoped>\n",
       "    .dataframe tbody tr th:only-of-type {\n",
       "        vertical-align: middle;\n",
       "    }\n",
       "\n",
       "    .dataframe tbody tr th {\n",
       "        vertical-align: top;\n",
       "    }\n",
       "\n",
       "    .dataframe thead th {\n",
       "        text-align: right;\n",
       "    }\n",
       "</style>\n",
       "<table border=\"1\" class=\"dataframe\">\n",
       "  <thead>\n",
       "    <tr style=\"text-align: right;\">\n",
       "      <th></th>\n",
       "      <th>single_detached_house</th>\n",
       "      <th>apartment_five_storeys_plus</th>\n",
       "      <th>movable_dwelling</th>\n",
       "      <th>semi_detached_house</th>\n",
       "      <th>row_house</th>\n",
       "      <th>duplex</th>\n",
       "      <th>apartment_five_storeys_less</th>\n",
       "      <th>other_house</th>\n",
       "    </tr>\n",
       "    <tr>\n",
       "      <th>year</th>\n",
       "      <th></th>\n",
       "      <th></th>\n",
       "      <th></th>\n",
       "      <th></th>\n",
       "      <th></th>\n",
       "      <th></th>\n",
       "      <th></th>\n",
       "      <th></th>\n",
       "    </tr>\n",
       "  </thead>\n",
       "  <tbody>\n",
       "    <tr>\n",
       "      <th>2001</th>\n",
       "      <td>2149.500000</td>\n",
       "      <td>2535.821429</td>\n",
       "      <td>0.535714</td>\n",
       "      <td>649.964286</td>\n",
       "      <td>373.964286</td>\n",
       "      <td>169.892857</td>\n",
       "      <td>835.000000</td>\n",
       "      <td>21.714286</td>\n",
       "    </tr>\n",
       "    <tr>\n",
       "      <th>2006</th>\n",
       "      <td>1906.142857</td>\n",
       "      <td>2710.000000</td>\n",
       "      <td>1.178571</td>\n",
       "      <td>495.928571</td>\n",
       "      <td>390.642857</td>\n",
       "      <td>314.964286</td>\n",
       "      <td>1163.214286</td>\n",
       "      <td>9.535714</td>\n",
       "    </tr>\n",
       "    <tr>\n",
       "      <th>2011</th>\n",
       "      <td>1963.857143</td>\n",
       "      <td>3065.857143</td>\n",
       "      <td>0.714286</td>\n",
       "      <td>517.714286</td>\n",
       "      <td>431.107143</td>\n",
       "      <td>319.642857</td>\n",
       "      <td>1170.678571</td>\n",
       "      <td>15.464286</td>\n",
       "    </tr>\n",
       "    <tr>\n",
       "      <th>2016</th>\n",
       "      <td>1926.285714</td>\n",
       "      <td>3523.357143</td>\n",
       "      <td>0.678571</td>\n",
       "      <td>508.571429</td>\n",
       "      <td>439.750000</td>\n",
       "      <td>347.035714</td>\n",
       "      <td>1182.678571</td>\n",
       "      <td>20.321429</td>\n",
       "    </tr>\n",
       "  </tbody>\n",
       "</table>\n",
       "</div>"
      ],
      "text/plain": [
       "      single_detached_house  apartment_five_storeys_plus  movable_dwelling  \\\n",
       "year                                                                         \n",
       "2001            2149.500000                  2535.821429          0.535714   \n",
       "2006            1906.142857                  2710.000000          1.178571   \n",
       "2011            1963.857143                  3065.857143          0.714286   \n",
       "2016            1926.285714                  3523.357143          0.678571   \n",
       "\n",
       "      semi_detached_house   row_house      duplex  \\\n",
       "year                                                \n",
       "2001           649.964286  373.964286  169.892857   \n",
       "2006           495.928571  390.642857  314.964286   \n",
       "2011           517.714286  431.107143  319.642857   \n",
       "2016           508.571429  439.750000  347.035714   \n",
       "\n",
       "      apartment_five_storeys_less  other_house  \n",
       "year                                            \n",
       "2001                   835.000000    21.714286  \n",
       "2006                  1163.214286     9.535714  \n",
       "2011                  1170.678571    15.464286  \n",
       "2016                  1182.678571    20.321429  "
      ]
     },
     "execution_count": 70,
     "metadata": {},
     "output_type": "execute_result"
    }
   ],
   "source": [
    "# Calculate the mean number of dwelling types units per year\n",
    "dwelling_types = to_data.groupby('year').mean()\n",
    "dwelling_types.head()\n",
    "dwelling_types.drop(columns=['average_house_value', 'shelter_costs_owned', 'shelter_costs_rented'])"
   ]
  },
  {
   "cell_type": "code",
   "execution_count": 71,
   "metadata": {},
   "outputs": [
    {
     "data": {
      "text/html": [
       "<div>\n",
       "<style scoped>\n",
       "    .dataframe tbody tr th:only-of-type {\n",
       "        vertical-align: middle;\n",
       "    }\n",
       "\n",
       "    .dataframe tbody tr th {\n",
       "        vertical-align: top;\n",
       "    }\n",
       "\n",
       "    .dataframe thead th {\n",
       "        text-align: right;\n",
       "    }\n",
       "</style>\n",
       "<table border=\"1\" class=\"dataframe\">\n",
       "  <thead>\n",
       "    <tr style=\"text-align: right;\">\n",
       "      <th></th>\n",
       "      <th>shelter_costs_owned</th>\n",
       "      <th>shelter_costs_rented</th>\n",
       "    </tr>\n",
       "    <tr>\n",
       "      <th>year</th>\n",
       "      <th></th>\n",
       "      <th></th>\n",
       "    </tr>\n",
       "  </thead>\n",
       "  <tbody>\n",
       "    <tr>\n",
       "      <th>2001</th>\n",
       "      <td>846.878571</td>\n",
       "      <td>1085.935714</td>\n",
       "    </tr>\n",
       "    <tr>\n",
       "      <th>2006</th>\n",
       "      <td>1316.800000</td>\n",
       "      <td>925.414286</td>\n",
       "    </tr>\n",
       "    <tr>\n",
       "      <th>2011</th>\n",
       "      <td>1448.214286</td>\n",
       "      <td>1019.792857</td>\n",
       "    </tr>\n",
       "    <tr>\n",
       "      <th>2016</th>\n",
       "      <td>1761.314286</td>\n",
       "      <td>1256.321429</td>\n",
       "    </tr>\n",
       "  </tbody>\n",
       "</table>\n",
       "</div>"
      ],
      "text/plain": [
       "      shelter_costs_owned  shelter_costs_rented\n",
       "year                                           \n",
       "2001           846.878571           1085.935714\n",
       "2006          1316.800000            925.414286\n",
       "2011          1448.214286           1019.792857\n",
       "2016          1761.314286           1256.321429"
      ]
     },
     "execution_count": 71,
     "metadata": {},
     "output_type": "execute_result"
    }
   ],
   "source": [
    "# Calculate the average monthly shelter costs for owned and rented dwellings\n",
    "to_data = pd.read_csv(Path(\"../PyViz-Homework/toronto_neighbourhoods_census_data.csv\"))\n",
    "avg_monthly_costs = to_data.groupby('year').mean()\n",
    "avg_monthly_costs.head()\n",
    "avg_monthly_costs.drop(columns=['single_detached_house', 'apartment_five_storeys_plus', 'movable_dwelling', 'semi_detached_house', 'row_house', 'duplex', 'apartment_five_storeys_less', 'other_house', 'average_house_value'])"
   ]
  },
  {
   "cell_type": "code",
   "execution_count": 72,
   "metadata": {},
   "outputs": [
    {
     "data": {
      "application/vnd.plotly.v1+json": {
       "config": {
        "plotlyServerURL": "https://plot.ly"
       },
       "data": [
        {
         "customdata": [
          [
           3435,
           1947.5,
           2.5,
           863.75,
           1406.25,
           512.5,
           547.5,
           10
          ],
          [
           2897.5,
           2180,
           1.25,
           375,
           456.25,
           523.75,
           628.75,
           32.5
          ],
          [
           2903.75,
           302.5,
           1.25,
           503.75,
           76.25,
           302.5,
           502.5,
           1.25
          ],
          [
           751.25,
           7235,
           1.25,
           1375,
           613.75,
           355,
           4605,
           83.75
          ],
          [
           3572.5,
           5388.75,
           1.25,
           273.75,
           626.25,
           32.5,
           1340,
           0
          ],
          [
           2131.25,
           1815,
           0,
           151.25,
           70,
           677.5,
           973.75,
           8.75
          ],
          [
           3.75,
           10470,
           0,
           1.25,
           18.75,
           1.25,
           271.25,
           2.5
          ],
          [
           2101.25,
           3222.5,
           2.5,
           141.25,
           830,
           70,
           500,
           2.5
          ],
          [
           1585,
           1700,
           0,
           580,
           175,
           86.25,
           522.5,
           1.25
          ],
          [
           4865,
           1981.25,
           0,
           43.75,
           57.5,
           287.5,
           1275,
           88.75
          ],
          [
           686.25,
           671.25,
           0,
           70,
           16.25,
           97.5,
           1060,
           3.75
          ],
          [
           3993.75,
           3582.5,
           2.5,
           323.75,
           258.75,
           921.25,
           330,
           10
          ],
          [
           5045,
           920,
           0,
           418.75,
           47.5,
           781.25,
           1957.5,
           26.25
          ],
          [
           732.5,
           4356.25,
           0,
           685,
           1116.25,
           113.75,
           238.75,
           2.5
          ],
          [
           526.25,
           491.25,
           0,
           810,
           380,
           151.25,
           748.75,
           25
          ],
          [
           1713.75,
           2401.25,
           0,
           150,
           37.5,
           351.25,
           1035,
           5
          ],
          [
           2260,
           331.25,
           0,
           36.25,
           90,
           25,
           40,
           0
          ],
          [
           880,
           3213.75,
           0,
           448.75,
           81.25,
           112.5,
           793.75,
           1.25
          ],
          [
           1775,
           3568.75,
           0,
           255,
           8.75,
           108.75,
           501.25,
           6.25
          ],
          [
           268.75,
           3322.5,
           0,
           451.25,
           615,
           127.5,
           1422.5,
           12.5
          ],
          [
           1757.5,
           166.25,
           0,
           421.25,
           18.75,
           371.25,
           853.75,
           5
          ],
          [
           916.25,
           2310,
           0,
           288.75,
           201.25,
           162.5,
           1192.5,
           2.5
          ],
          [
           3341.25,
           0,
           2.5,
           166.25,
           420,
           125,
           40,
           5
          ],
          [
           28.75,
           15042.5,
           1.25,
           32.5,
           231.25,
           38.75,
           1337.5,
           27.5
          ],
          [
           3223.75,
           1746.25,
           2.5,
           890,
           525,
           563.75,
           1020,
           28.75
          ],
          [
           2480,
           1352.5,
           6.25,
           11.25,
           12.5,
           517.5,
           1256.25,
           15
          ],
          [
           3407.5,
           1317.5,
           1.25,
           63.75,
           342.5,
           372.5,
           147.5,
           43.75
          ],
          [
           1451.25,
           3.75,
           0,
           1375,
           103.75,
           482.5,
           1811.25,
           35
          ],
          [
           708.75,
           337.5,
           0,
           1350,
           33.75,
           197.5,
           1275,
           30
          ],
          [
           3001.25,
           778.75,
           0,
           1721.25,
           32.5,
           512.5,
           856.25,
           30
          ],
          [
           2155,
           5256.25,
           1.25,
           397.5,
           1438.75,
           120,
           247.5,
           2.5
          ],
          [
           2106.25,
           3743.75,
           0,
           326.25,
           1318.75,
           405,
           413.75,
           3.75
          ],
          [
           1901.25,
           1666.25,
           2.5,
           2683.75,
           927.5,
           867.5,
           5661.25,
           105
          ],
          [
           4328.75,
           3183.75,
           2.5,
           893.75,
           535,
           330,
           3415,
           15
          ],
          [
           402.5,
           1235,
           0,
           713.75,
           112.5,
           296.25,
           2322.5,
           35
          ],
          [
           1835,
           2061.25,
           2.5,
           1973.75,
           445,
           460,
           2093.75,
           40
          ],
          [
           2570,
           2071.25,
           0,
           90,
           131.25,
           43.75,
           1043.75,
           1.25
          ],
          [
           1637.5,
           5045,
           0,
           108.75,
           403.75,
           481.25,
           251.25,
           6.25
          ],
          [
           1036.25,
           1377.5,
           0,
           75,
           476.25,
           153.75,
           50,
           0
          ],
          [
           2052.5,
           2722.5,
           0,
           27.5,
           262.5,
           423.75,
           2502.5,
           7.5
          ],
          [
           3951.25,
           1742.5,
           0,
           326.25,
           553.75,
           93.75,
           70,
           6.25
          ],
          [
           987.5,
           2772.5,
           0,
           96.25,
           222.5,
           45,
           56.25,
           10
          ],
          [
           5,
           6368.75,
           0,
           182.5,
           630,
           3.75,
           591.25,
           0
          ],
          [
           1488.75,
           3392.5,
           0,
           12.5,
           16.25,
           82.5,
           402.5,
           1.25
          ],
          [
           1742.5,
           2031.25,
           1.25,
           61.25,
           45,
           75,
           1027.5,
           3.75
          ],
          [
           441.25,
           3413.75,
           0,
           3538.75,
           1322.5,
           298.75,
           923.75,
           6.25
          ],
          [
           1077.5,
           517.5,
           1.25,
           1718.75,
           371.25,
           275,
           2082.5,
           12.5
          ],
          [
           2213.75,
           1082.5,
           0,
           116.25,
           296.25,
           122.5,
           100,
           1.25
          ],
          [
           500,
           3558.75,
           0,
           15,
           496.25,
           11.25,
           30,
           1.25
          ],
          [
           1442.5,
           6020,
           0,
           617.5,
           118.75,
           487.5,
           1891.25,
           13.75
          ],
          [
           2782.5,
           2507.5,
           1.25,
           520,
           202.5,
           692.5,
           3066.25,
           20
          ],
          [
           3125,
           1.25,
           1.25,
           3.75,
           10,
           470,
           23.75,
           0
          ],
          [
           1696.25,
           1950,
           0,
           900,
           1085,
           140,
           670,
           0
          ],
          [
           1727.5,
           1958.75,
           1.25,
           58.75,
           58.75,
           133.75,
           153.75,
           1.25
          ],
          [
           503.75,
           720,
           1.25,
           2031.25,
           101.25,
           85,
           375,
           0
          ],
          [
           583.75,
           1568.75,
           0,
           1333.75,
           267.5,
           68.75,
           990,
           1.25
          ],
          [
           1885,
           1700,
           0,
           258.75,
           6.25,
           160,
           2495,
           1.25
          ],
          [
           1110,
           2858.75,
           0,
           380,
           138.75,
           285,
           205,
           75
          ],
          [
           5206.25,
           8633.75,
           0,
           127.5,
           448.75,
           207.5,
           666.25,
           5
          ],
          [
           822.5,
           348.75,
           0,
           952.5,
           526.25,
           563.75,
           2218.75,
           20
          ],
          [
           1787.5,
           511.25,
           2.5,
           380,
           11.25,
           385,
           943.75,
           1.25
          ],
          [
           1785,
           2852.5,
           1.25,
           436.25,
           122.5,
           581.25,
           667.5,
           61.25
          ],
          [
           118.75,
           4041.25,
           1.25,
           328.75,
           761.25,
           135,
           2663.75,
           78.75
          ],
          [
           2197.5,
           4758.75,
           0,
           137.5,
           307.5,
           148.75,
           200,
           1.25
          ],
          [
           2326.25,
           576.25,
           0,
           66.25,
           48.75,
           20,
           336.25,
           2.5
          ],
          [
           1285,
           692.5,
           0,
           548.75,
           145,
           86.25,
           362.5,
           2.5
          ],
          [
           3731.25,
           6731.25,
           0,
           1032.5,
           2441.25,
           340,
           645,
           10
          ],
          [
           2447.5,
           2508.75,
           1.25,
           42.5,
           0,
           153.75,
           592.5,
           12.5
          ],
          [
           3196.25,
           201.25,
           0,
           871.25,
           23.75,
           177.5,
           1008.75,
           1.25
          ],
          [
           3472.5,
           773.75,
           0,
           126.25,
           38.75,
           225,
           966.25,
           16.25
          ],
          [
           3601.25,
           548.75,
           0,
           791.25,
           75,
           47.5,
           1421.25,
           8.75
          ],
          [
           343.75,
           1097.5,
           0,
           666.25,
           658.75,
           212.5,
           2560,
           38.75
          ],
          [
           1513.75,
           960,
           0,
           76.25,
           85,
           216.25,
           1696.25,
           15
          ],
          [
           3693.75,
           2982.5,
           0,
           1317.5,
           3410,
           878.75,
           552.5,
           55
          ],
          [
           1690,
           861.25,
           2.5,
           167.5,
           97.5,
           151.25,
           595,
           3.75
          ],
          [
           1788.75,
           2010,
           0,
           6.25,
           270,
           81.25,
           108.75,
           2.5
          ],
          [
           3910,
           1948.75,
           0,
           550,
           605,
           395,
           95,
           22.5
          ],
          [
           2406.25,
           6996.25,
           1.25,
           266.25,
           766.25,
           407.5,
           2966.25,
           18.75
          ],
          [
           2256.25,
           2105,
           1.25,
           27.5,
           880,
           255,
           211.25,
           2.5
          ],
          [
           110,
           5908.75,
           0,
           167.5,
           630,
           106.25,
           1973.75,
           23.75
          ],
          [
           1028.75,
           2238.75,
           0,
           138.75,
           302.5,
           176.25,
           912.5,
           2.5
          ],
          [
           1730,
           5916.25,
           1.25,
           176.25,
           1033.75,
           603.75,
           127.5,
           1.25
          ],
          [
           2225,
           2008.75,
           1.25,
           1611.25,
           146.25,
           170,
           1066.25,
           97.5
          ],
          [
           503.75,
           13042.5,
           6.25,
           193.75,
           237.5,
           96.25,
           1877.5,
           21.25
          ],
          [
           1601.25,
           1091.25,
           1.25,
           205,
           203.75,
           188.75,
           1763.75,
           3.75
          ],
          [
           2906.25,
           2403.75,
           1.25,
           8.75,
           35,
           265,
           302.5,
           0
          ],
          [
           2696.25,
           3677.5,
           0,
           631.25,
           500,
           273.75,
           392.5,
           1.25
          ],
          [
           52.5,
           8266.25,
           0,
           142.5,
           857.5,
           232.5,
           1683.75,
           17.5
          ],
          [
           875,
           667.5,
           0,
           1391.25,
           236.25,
           262.5,
           1575,
           31.25
          ],
          [
           15,
           8233.75,
           1.25,
           22.5,
           80,
           17.5,
           513.75,
           6.25
          ],
          [
           1142.5,
           3193.75,
           0,
           150,
           206.25,
           300,
           217.5,
           15
          ],
          [
           3000,
           1600,
           0,
           1282.5,
           31.25,
           667.5,
           2055,
           21.25
          ],
          [
           3033.75,
           2320,
           1.25,
           127.5,
           118.75,
           293.75,
           1487.5,
           6.25
          ],
          [
           2313.75,
           528.75,
           0,
           170,
           0,
           358.75,
           423.75,
           12.5
          ],
          [
           458.75,
           263.75,
           1.25,
           1150,
           298.75,
           240,
           3713.75,
           66.25
          ],
          [
           2567.5,
           6465,
           1.25,
           1445,
           1365,
           83.75,
           1157.5,
           5
          ],
          [
           1795,
           420,
           0,
           321.25,
           120,
           281.25,
           142.5,
           5
          ],
          [
           720,
           931.25,
           0,
           652.5,
           62.5,
           201.25,
           1000,
           17.5
          ],
          [
           1026.25,
           1467.5,
           0,
           1978.75,
           272.5,
           71.25,
           676.25,
           6.25
          ],
          [
           3298.75,
           445,
           0,
           2.5,
           41.25,
           47.5,
           10,
           2.5
          ],
          [
           15,
           2506.25,
           0,
           57.5,
           577.5,
           8.75,
           911.25,
           16.25
          ],
          [
           1886.25,
           635,
           0,
           36.25,
           451.25,
           326.25,
           552.5,
           0
          ],
          [
           2902.5,
           3225,
           1.25,
           1081.25,
           233.75,
           381.25,
           1043.75,
           0
          ],
          [
           843.75,
           1635,
           10,
           1148.75,
           356.25,
           390,
           2278.75,
           53.75
          ],
          [
           2498.75,
           4641.25,
           0,
           486.25,
           245,
           327.5,
           1618.75,
           2.5
          ],
          [
           6937.5,
           936.25,
           0,
           975,
           1621.25,
           732.5,
           608.75,
           6.25
          ],
          [
           2058.75,
           1.25,
           0,
           760,
           47.5,
           261.25,
           683.75,
           7.5
          ],
          [
           1168.75,
           1945,
           0,
           198.75,
           2.5,
           71.25,
           208.75,
           3.75
          ],
          [
           1081.25,
           3948.75,
           0,
           32.5,
           206.25,
           138.75,
           320,
           0
          ],
          [
           337.5,
           6557.5,
           5,
           243.75,
           278.75,
           192.5,
           2968.75,
           12.5
          ],
          [
           1005,
           1012.5,
           3.75,
           2686.25,
           1566.25,
           467.5,
           3823.75,
           85
          ],
          [
           3225,
           1670,
           0,
           185,
           552.5,
           97.5,
           586.25,
           5
          ],
          [
           3711.25,
           2592.5,
           1.25,
           190,
           558.75,
           275,
           257.5,
           0
          ],
          [
           5872.5,
           867.5,
           0,
           93.75,
           357.5,
           222.5,
           2788.75,
           6.25
          ],
          [
           3168.75,
           4542.5,
           0,
           170,
           891.25,
           477.5,
           408.75,
           10
          ],
          [
           622.5,
           4795,
           0,
           203.75,
           216.25,
           150,
           218.75,
           15
          ],
          [
           2642.5,
           488.75,
           1.25,
           1543.75,
           285,
           461.25,
           3770,
           23.75
          ],
          [
           1682.5,
           666.25,
           0,
           322.5,
           52.5,
           253.75,
           237.5,
           3.75
          ],
          [
           3.75,
           6318.75,
           0,
           0,
           141.25,
           0,
           187.5,
           5
          ],
          [
           442.5,
           178.75,
           0,
           1023.75,
           1027.5,
           460,
           3310,
           168.75
          ],
          [
           155,
           830,
           0,
           301.25,
           321.25,
           146.25,
           1252.5,
           46.25
          ],
          [
           1256.25,
           3150,
           0,
           315,
           308.75,
           130,
           2002.5,
           11.25
          ],
          [
           267.5,
           21913.75,
           2.5,
           68.75,
           528.75,
           31.25,
           667.5,
           15
          ],
          [
           3250,
           3441.25,
           0,
           475,
           1252.5,
           576.25,
           575,
           16.25
          ],
          [
           4381.25,
           1725,
           0,
           273.75,
           1341.25,
           1345,
           505,
           2.5
          ],
          [
           846.25,
           7665,
           0,
           642.5,
           400,
           117.5,
           277.5,
           12.5
          ],
          [
           1742.5,
           4387.5,
           0,
           216.25,
           142.5,
           193.75,
           768.75,
           5
          ],
          [
           650,
           553.75,
           1.25,
           1342.5,
           307.5,
           186.25,
           1135,
           21.25
          ],
          [
           5482.5,
           1810,
           2.5,
           13.75,
           251.25,
           1313.75,
           1090,
           10
          ],
          [
           3533.75,
           11598.75,
           6.25,
           63.75,
           736.25,
           205,
           1378.75,
           10
          ],
          [
           2178.75,
           3253.75,
           1.25,
           143.75,
           133.75,
           251.25,
           202.5,
           0
          ],
          [
           3647.5,
           3373.75,
           0,
           531.25,
           277.5,
           183.75,
           42.5,
           0
          ],
          [
           6623.75,
           8898.75,
           1.25,
           326.25,
           241.25,
           1417.5,
           430,
           7.5
          ],
          [
           898.75,
           577.5,
           0,
           1646.25,
           253.75,
           161.25,
           1721.25,
           23.75
          ],
          [
           1938.75,
           633.75,
           0,
           323.75,
           21.25,
           257.5,
           303.75,
           7.5
          ],
          [
           1056.25,
           1236.25,
           0,
           992.5,
           298.75,
           325,
           1878.75,
           17.5
          ],
          [
           1468.75,
           1638.75,
           0,
           470,
           33.75,
           328.75,
           1385,
           6.25
          ],
          [
           565,
           3948.75,
           0,
           425,
           212.5,
           172.5,
           1308.75,
           6.25
          ],
          [
           1355,
           5165,
           1.25,
           1316.25,
           662.5,
           188.75,
           1085,
           33.75
          ],
          [
           2286.25,
           1347.5,
           0,
           73.75,
           450,
           377.5,
           722.5,
           7.5
          ]
         ],
         "hovertemplate": "<b>%{hovertext}</b><br><br>average_house_value=%{marker.color}<br>lat=%{lat}<br>lon=%{lon}<br>single_detached_house=%{customdata[0]}<br>apartment_five_storeys_plus=%{customdata[1]}<br>movable_dwelling=%{customdata[2]}<br>semi_detached_house=%{customdata[3]}<br>row_house=%{customdata[4]}<br>duplex=%{customdata[5]}<br>apartment_five_storeys_less=%{customdata[6]}<br>other_house=%{customdata[7]}<extra></extra>",
         "hovertext": [
          "Agincourt North",
          "Agincourt South-Malvern West",
          "Alderwood",
          "Annex",
          "Banbury-Don Mills",
          "Bathurst Manor",
          "Bay Street Corridor",
          "Bayview Village",
          "Bayview Woods-Steeles",
          "Bedford Park-Nortown",
          "Beechborough-Greenbrook",
          "Bendale",
          "Birchcliffe-Cliffside",
          "Black Creek",
          "Blake-Jones",
          "Briar Hill-Belgravia",
          "Bridle Path-Sunnybrook-York Mills",
          "Broadview North",
          "Brookhaven-Amesbury",
          "Cabbagetown-South St.James Town",
          "Caledonia-Fairbank",
          "Casa Loma",
          "Centennial Scarborough",
          "Church-Yonge Corridor",
          "Clairlea-Birchmount",
          "Clanton Park",
          "Cliffcrest",
          "Corso Italia-Davenport",
          "Danforth",
          "Danforth-East York",
          "Don Valley Village",
          "Dorset Park",
          "Dovercourt-Wallace Emerson-Juncti",
          "Downsview-Roding-CFB",
          "Dufferin Grove",
          "East End-Danforth",
          "Edenbridge-Humber Valley",
          "Eglinton East",
          "Elms-Old Rexdale",
          "Englemount-Lawrence",
          "Eringate-Centennial-West Deane",
          "Etobicoke West Mall",
          "Flemingdon Park",
          "Forest Hill North",
          "Forest Hill South",
          "Glenfield-Jane Heights",
          "Greenwood-Coxwell",
          "Guildwood",
          "Henry Farm",
          "High Park North",
          "High Park-Swansea",
          "Highland Creek",
          "Hillcrest Village",
          "Humber Heights-Westmount",
          "Humber Summit",
          "Humbermede",
          "Humewood-Cedarvale",
          "Ionview",
          "Islington-City Centre West",
          "Junction Area",
          "Keelesdale-Eglinton West",
          "Kennedy Park",
          "Kensington-Chinatown",
          "Kingsview Village-The Westway",
          "Kingsway South",
          "L'Amoreaux",
          "Lambton Baby Point",
          "Lansing-Westgate",
          "Lawrence Park North",
          "Lawrence Park South",
          "Leaside-Bennington",
          "Little Portugal",
          "Long Branch",
          "Malvern",
          "Maple Leaf",
          "Markland Wood",
          "Milliken",
          "Mimico",
          "Morningside",
          "Moss Park",
          "Mount Dennis",
          "Mount Olive-Silverstone-Jamestown",
          "Mount Pleasant East",
          "Mount Pleasant West",
          "New Toronto",
          "Newtonbrook East",
          "Newtonbrook West",
          "Niagara",
          "North Riverdale",
          "North St.James Town",
          "O'Connor-Parkview",
          "Oakridge",
          "Oakwood Village",
          "Old East York",
          "Palmerston-Little Italy",
          "Parkwoods-Donalda",
          "Pelmo Park-Humberlea",
          "Playter Estates-Danforth",
          "Pleasant View",
          "Princess-Rosethorn",
          "Regent Park",
          "Rexdale-Kipling",
          "Rockcliffe-Smythe",
          "Roncesvalles",
          "Rosedale-Moore Park",
          "Rouge",
          "Runnymede-Bloor West Village",
          "Rustic",
          "Scarborough Village",
          "South Parkdale",
          "South Riverdale",
          "St.Andrew-Windfields",
          "Steeles",
          "Stonegate-Queensway",
          "Tam O'Shanter-Sullivan",
          "Taylor-Massey",
          "The Beaches",
          "Thistletown-Beaumond Heights",
          "Thorncliffe Park",
          "Trinity-Bellwoods",
          "University",
          "Victoria Village",
          "Waterfront Communities-The Island",
          "West Hill",
          "West Humber-Clairville",
          "Westminster-Branson",
          "Weston",
          "Weston-Pellam Park",
          "Wexford/Maryvale",
          "Willowdale East",
          "Willowdale West",
          "Willowridge-Martingrove-Richview",
          "Woburn",
          "Woodbine Corridor",
          "Woodbine-Lumsden",
          "Wychwood",
          "Yonge-Eglinton",
          "Yonge-St.Clair",
          "York University Heights",
          "Yorkdale-Glen Park"
         ],
         "lat": [
          43.80544058,
          43.78865755,
          43.6049369,
          43.67158544,
          43.737657,
          43.76481331,
          43.65751135,
          43.77636052,
          43.79680187,
          43.73148623,
          43.69321649,
          43.76036631,
          43.69468198,
          43.76489025,
          43.67617288,
          43.69902438,
          43.73101314,
          43.68882512,
          43.70132631,
          43.66764773,
          43.68856865,
          43.6818521,
          43.7823765,
          43.65964886,
          43.71359238,
          43.74197843,
          43.72112117,
          43.67766091,
          43.68402547,
          43.68946809,
          43.78329369,
          43.75927437,
          43.66567693,
          43.73329235,
          43.65542833,
          43.68417388,
          43.67088591,
          43.7409223,
          43.72151887,
          43.72034467,
          43.65801676,
          43.64506262,
          43.71592975,
          43.70421756,
          43.69452576,
          43.74563575,
          43.67261231,
          43.74882934,
          43.77114414,
          43.65756491,
          43.64506458,
          43.79077477,
          43.80298783,
          43.6922328,
          43.75891975,
          43.74342952,
          43.69136981,
          43.73536441,
          43.63346335,
          43.66788977,
          43.68572747,
          43.72555572,
          43.65355413,
          43.69899257,
          43.65352043,
          43.79571603,
          43.65742013,
          43.75427115,
          43.73006017,
          43.7172117,
          43.70379663,
          43.64753593,
          43.59236169,
          43.80365820000001,
          43.71557394,
          43.63354175,
          43.82069079,
          43.61592386,
          43.78239861,
          43.65651762,
          43.68814409,
          43.7468678,
          43.70485217,
          43.70443517,
          43.6005886,
          43.79153579,
          43.78582994,
          43.63668088,
          43.67199515,
          43.66962341,
          43.70680049,
          43.69740813,
          43.68856556,
          43.69678127,
          43.6591571,
          43.75503347,
          43.7175146,
          43.67970047,
          43.78698176,
          43.6660506,
          43.65999214,
          43.72372548,
          43.67479045,
          43.64612299,
          43.68282043,
          43.82120126,
          43.65926882,
          43.71160912,
          43.73865186,
          43.63669952,
          43.64929206,
          43.75624583,
          43.81295883,
          43.63551813,
          43.78012985,
          43.69499819,
          43.67104999,
          43.73798792,
          43.70774921,
          43.6501763,
          43.6625062,
          43.72848902,
          43.63388036,
          43.76749026,
          43.7161804,
          43.77881322,
          43.70271605,
          43.67396204,
          43.74857214,
          43.77060226,
          43.77121049,
          43.68364496,
          43.76674024,
          43.67677292,
          43.69410674,
          43.67691927,
          43.70468937,
          43.68785887,
          43.76573649,
          43.71467153
         ],
         "legendgroup": "",
         "lon": [
          -79.26671217,
          -79.2656118,
          -79.54161093,
          -79.40400062,
          -79.34971798,
          -79.45605516,
          -79.38572125,
          -79.37711686,
          -79.38211795,
          -79.42022735,
          -79.47947251,
          -79.25740037,
          -79.26509259,
          -79.52197932,
          -79.33739417,
          -79.45285129999999,
          -79.37890418,
          -79.35562951,
          -79.48558926,
          -79.36610666,
          -79.45521208,
          -79.40800665,
          -79.15084327,
          -79.37901717,
          -79.28138178,
          -79.44630258,
          -79.23552957,
          -79.44746933,
          -79.32981941,
          -79.33140338,
          -79.35364413,
          -79.27890794,
          -79.4385407,
          -79.49049735,
          -79.43734104,
          -79.29935867,
          -79.52245776,
          -79.24559804,
          -79.54898272,
          -79.43740855,
          -79.58044524,
          -79.56893877,
          -79.33264597,
          -79.42814316,
          -79.41431786,
          -79.51346532,
          -79.32431802,
          -79.19505535,
          -79.34124067,
          -79.46630217,
          -79.46787222,
          -79.17747247,
          -79.354804,
          -79.5224162,
          -79.55617474,
          -79.54236712,
          -79.42768335,
          -79.27247049,
          -79.54331654,
          -79.47143987,
          -79.47143711,
          -79.26038221,
          -79.39723988,
          -79.54786331,
          -79.5105768,
          -79.31408424,
          -79.49604526,
          -79.42474772,
          -79.40397836,
          -79.40603941,
          -79.36607234,
          -79.43032271,
          -79.53334545,
          -79.22251662,
          -79.48075802,
          -79.57343155,
          -79.27500892,
          -79.50013664,
          -79.20704119,
          -79.36729703,
          -79.49998906,
          -79.58725926,
          -79.38492395,
          -79.39335955,
          -79.51035809,
          -79.40593745,
          -79.43142151,
          -79.4124204,
          -79.35126041,
          -79.37524658,
          -79.31222777,
          -79.27970834,
          -79.43978548,
          -79.33548836,
          -79.41840873,
          -79.33017952,
          -79.5282822,
          -79.35488729,
          -79.33494843,
          -79.54455929,
          -79.36050881,
          -79.56622841,
          -79.49442045,
          -79.44299245,
          -79.3796694,
          -79.18634345,
          -79.48570818,
          -79.49809147,
          -79.21681262,
          -79.43933783,
          -79.33565132,
          -79.37903709,
          -79.32120701,
          -79.50112821,
          -79.30291871,
          -79.29590112,
          -79.29960129999999,
          -79.56349102,
          -79.34998361,
          -79.41534216,
          -79.40117975,
          -79.31487383,
          -79.37720231,
          -79.17667603,
          -79.59635645,
          -79.45241823,
          -79.51572255,
          -79.46024391,
          -79.29863657,
          -79.40148379,
          -79.4275578,
          -79.55422105,
          -79.22858577,
          -79.31540738,
          -79.31116353,
          -79.42551495,
          -79.40359017,
          -79.39787077,
          -79.48888293,
          -79.45710807
         ],
         "marker": {
          "color": [
           329811.5,
           334189,
           427922.5,
           746977,
           612039,
           501576.75,
           423653.5,
           539258.75,
           565413.5,
           930415.25,
           370927.75,
           301123.25,
           437315,
           260841.75,
           511437,
           365524.5,
           1526485.75,
           443373.25,
           350943,
           494110.5,
           361714.25,
           981064.25,
           409862.75,
           406117.5,
           354555.25,
           551561.25,
           417422,
           419930.5,
           466943,
           421679.25,
           398010.25,
           262000.25,
           434699.5,
           381415.5,
           457588.75,
           478054.25,
           796162.5,
           268966.5,
           268341.25,
           568936.75,
           397781.75,
           309412,
           207799,
           851680.5,
           1195992.5,
           327597.75,
           387055.5,
           369373.5,
           369958,
           532497,
           582977.75,
           428838.5,
           395023,
           449150.5,
           352082.5,
           319783.75,
           697085.5,
           287685.75,
           451685.25,
           433269.25,
           322774.75,
           287233.5,
           440485.75,
           338344.75,
           843234.25,
           650307.75,
           336617.75,
           613216.5,
           759392.5,
           1094027.75,
           806471.75,
           540192.5,
           385830.25,
           256880.25,
           453229,
           443974.75,
           344988.25,
           393490.5,
           285013.5,
           409456,
           262308.75,
           253182.25,
           677370.25,
           468181.75,
           407812,
           559573.25,
           460568.5,
           369993,
           703063.25,
           411455.75,
           298315.75,
           422257.5,
           441202.75,
           443413.5,
           622191.75,
           454652.5,
           405431.25,
           648859.25,
           373375.25,
           765746.5,
           392578.25,
           360999.25,
           345660.25,
           508937.25,
           1093640,
           376286.75,
           552082,
           431090.5,
           329835.75,
           447478.5,
           455020.5,
           999107,
           376014.5,
           550432.25,
           353926.5,
           239414,
           666306,
           375864,
           255264.75,
           534465.75,
           618316.75,
           352133,
           376863,
           284647.5,
           343254.25,
           349320.25,
           308007.75,
           351802,
           348319.25,
           469045.5,
           466134.75,
           464278,
           298505.75,
           445382.75,
           369918.5,
           565976.5,
           809745.75,
           813220.25,
           305899.5,
           430861.25
          ],
          "coloraxis": "coloraxis",
          "size": [
           329811.5,
           334189,
           427922.5,
           746977,
           612039,
           501576.75,
           423653.5,
           539258.75,
           565413.5,
           930415.25,
           370927.75,
           301123.25,
           437315,
           260841.75,
           511437,
           365524.5,
           1526485.75,
           443373.25,
           350943,
           494110.5,
           361714.25,
           981064.25,
           409862.75,
           406117.5,
           354555.25,
           551561.25,
           417422,
           419930.5,
           466943,
           421679.25,
           398010.25,
           262000.25,
           434699.5,
           381415.5,
           457588.75,
           478054.25,
           796162.5,
           268966.5,
           268341.25,
           568936.75,
           397781.75,
           309412,
           207799,
           851680.5,
           1195992.5,
           327597.75,
           387055.5,
           369373.5,
           369958,
           532497,
           582977.75,
           428838.5,
           395023,
           449150.5,
           352082.5,
           319783.75,
           697085.5,
           287685.75,
           451685.25,
           433269.25,
           322774.75,
           287233.5,
           440485.75,
           338344.75,
           843234.25,
           650307.75,
           336617.75,
           613216.5,
           759392.5,
           1094027.75,
           806471.75,
           540192.5,
           385830.25,
           256880.25,
           453229,
           443974.75,
           344988.25,
           393490.5,
           285013.5,
           409456,
           262308.75,
           253182.25,
           677370.25,
           468181.75,
           407812,
           559573.25,
           460568.5,
           369993,
           703063.25,
           411455.75,
           298315.75,
           422257.5,
           441202.75,
           443413.5,
           622191.75,
           454652.5,
           405431.25,
           648859.25,
           373375.25,
           765746.5,
           392578.25,
           360999.25,
           345660.25,
           508937.25,
           1093640,
           376286.75,
           552082,
           431090.5,
           329835.75,
           447478.5,
           455020.5,
           999107,
           376014.5,
           550432.25,
           353926.5,
           239414,
           666306,
           375864,
           255264.75,
           534465.75,
           618316.75,
           352133,
           376863,
           284647.5,
           343254.25,
           349320.25,
           308007.75,
           351802,
           348319.25,
           469045.5,
           466134.75,
           464278,
           298505.75,
           445382.75,
           369918.5,
           565976.5,
           809745.75,
           813220.25,
           305899.5,
           430861.25
          ],
          "sizemode": "area",
          "sizeref": 3816.214375
         },
         "mode": "markers",
         "name": "",
         "showlegend": false,
         "subplot": "mapbox",
         "type": "scattermapbox"
        }
       ],
       "layout": {
        "coloraxis": {
         "colorbar": {
          "title": {
           "text": "average_house_value"
          }
         },
         "colorscale": [
          [
           0,
           "#0d0887"
          ],
          [
           0.1111111111111111,
           "#46039f"
          ],
          [
           0.2222222222222222,
           "#7201a8"
          ],
          [
           0.3333333333333333,
           "#9c179e"
          ],
          [
           0.4444444444444444,
           "#bd3786"
          ],
          [
           0.5555555555555556,
           "#d8576b"
          ],
          [
           0.6666666666666666,
           "#ed7953"
          ],
          [
           0.7777777777777778,
           "#fb9f3a"
          ],
          [
           0.8888888888888888,
           "#fdca26"
          ],
          [
           1,
           "#f0f921"
          ]
         ]
        },
        "legend": {
         "itemsizing": "constant",
         "tracegroupgap": 0
        },
        "mapbox": {
         "accesstoken": "eyJ1IjoibW5pdGNob3YiLCJhIjoiY2ttODJjeDFxMTQwMzJwcnRyMHd5czZsMyJ9.k-lXDyjYFVJ9YXarv1JShg",
         "center": {
          "lat": 43.708840577642846,
          "lon": -79.4001855035
         },
         "domain": {
          "x": [
           0,
           1
          ],
          "y": [
           0,
           1
          ]
         },
         "zoom": 8
        },
        "template": {
         "data": {
          "bar": [
           {
            "error_x": {
             "color": "#2a3f5f"
            },
            "error_y": {
             "color": "#2a3f5f"
            },
            "marker": {
             "line": {
              "color": "#E5ECF6",
              "width": 0.5
             }
            },
            "type": "bar"
           }
          ],
          "barpolar": [
           {
            "marker": {
             "line": {
              "color": "#E5ECF6",
              "width": 0.5
             }
            },
            "type": "barpolar"
           }
          ],
          "carpet": [
           {
            "aaxis": {
             "endlinecolor": "#2a3f5f",
             "gridcolor": "white",
             "linecolor": "white",
             "minorgridcolor": "white",
             "startlinecolor": "#2a3f5f"
            },
            "baxis": {
             "endlinecolor": "#2a3f5f",
             "gridcolor": "white",
             "linecolor": "white",
             "minorgridcolor": "white",
             "startlinecolor": "#2a3f5f"
            },
            "type": "carpet"
           }
          ],
          "choropleth": [
           {
            "colorbar": {
             "outlinewidth": 0,
             "ticks": ""
            },
            "type": "choropleth"
           }
          ],
          "contour": [
           {
            "colorbar": {
             "outlinewidth": 0,
             "ticks": ""
            },
            "colorscale": [
             [
              0,
              "#0d0887"
             ],
             [
              0.1111111111111111,
              "#46039f"
             ],
             [
              0.2222222222222222,
              "#7201a8"
             ],
             [
              0.3333333333333333,
              "#9c179e"
             ],
             [
              0.4444444444444444,
              "#bd3786"
             ],
             [
              0.5555555555555556,
              "#d8576b"
             ],
             [
              0.6666666666666666,
              "#ed7953"
             ],
             [
              0.7777777777777778,
              "#fb9f3a"
             ],
             [
              0.8888888888888888,
              "#fdca26"
             ],
             [
              1,
              "#f0f921"
             ]
            ],
            "type": "contour"
           }
          ],
          "contourcarpet": [
           {
            "colorbar": {
             "outlinewidth": 0,
             "ticks": ""
            },
            "type": "contourcarpet"
           }
          ],
          "heatmap": [
           {
            "colorbar": {
             "outlinewidth": 0,
             "ticks": ""
            },
            "colorscale": [
             [
              0,
              "#0d0887"
             ],
             [
              0.1111111111111111,
              "#46039f"
             ],
             [
              0.2222222222222222,
              "#7201a8"
             ],
             [
              0.3333333333333333,
              "#9c179e"
             ],
             [
              0.4444444444444444,
              "#bd3786"
             ],
             [
              0.5555555555555556,
              "#d8576b"
             ],
             [
              0.6666666666666666,
              "#ed7953"
             ],
             [
              0.7777777777777778,
              "#fb9f3a"
             ],
             [
              0.8888888888888888,
              "#fdca26"
             ],
             [
              1,
              "#f0f921"
             ]
            ],
            "type": "heatmap"
           }
          ],
          "heatmapgl": [
           {
            "colorbar": {
             "outlinewidth": 0,
             "ticks": ""
            },
            "colorscale": [
             [
              0,
              "#0d0887"
             ],
             [
              0.1111111111111111,
              "#46039f"
             ],
             [
              0.2222222222222222,
              "#7201a8"
             ],
             [
              0.3333333333333333,
              "#9c179e"
             ],
             [
              0.4444444444444444,
              "#bd3786"
             ],
             [
              0.5555555555555556,
              "#d8576b"
             ],
             [
              0.6666666666666666,
              "#ed7953"
             ],
             [
              0.7777777777777778,
              "#fb9f3a"
             ],
             [
              0.8888888888888888,
              "#fdca26"
             ],
             [
              1,
              "#f0f921"
             ]
            ],
            "type": "heatmapgl"
           }
          ],
          "histogram": [
           {
            "marker": {
             "colorbar": {
              "outlinewidth": 0,
              "ticks": ""
             }
            },
            "type": "histogram"
           }
          ],
          "histogram2d": [
           {
            "colorbar": {
             "outlinewidth": 0,
             "ticks": ""
            },
            "colorscale": [
             [
              0,
              "#0d0887"
             ],
             [
              0.1111111111111111,
              "#46039f"
             ],
             [
              0.2222222222222222,
              "#7201a8"
             ],
             [
              0.3333333333333333,
              "#9c179e"
             ],
             [
              0.4444444444444444,
              "#bd3786"
             ],
             [
              0.5555555555555556,
              "#d8576b"
             ],
             [
              0.6666666666666666,
              "#ed7953"
             ],
             [
              0.7777777777777778,
              "#fb9f3a"
             ],
             [
              0.8888888888888888,
              "#fdca26"
             ],
             [
              1,
              "#f0f921"
             ]
            ],
            "type": "histogram2d"
           }
          ],
          "histogram2dcontour": [
           {
            "colorbar": {
             "outlinewidth": 0,
             "ticks": ""
            },
            "colorscale": [
             [
              0,
              "#0d0887"
             ],
             [
              0.1111111111111111,
              "#46039f"
             ],
             [
              0.2222222222222222,
              "#7201a8"
             ],
             [
              0.3333333333333333,
              "#9c179e"
             ],
             [
              0.4444444444444444,
              "#bd3786"
             ],
             [
              0.5555555555555556,
              "#d8576b"
             ],
             [
              0.6666666666666666,
              "#ed7953"
             ],
             [
              0.7777777777777778,
              "#fb9f3a"
             ],
             [
              0.8888888888888888,
              "#fdca26"
             ],
             [
              1,
              "#f0f921"
             ]
            ],
            "type": "histogram2dcontour"
           }
          ],
          "mesh3d": [
           {
            "colorbar": {
             "outlinewidth": 0,
             "ticks": ""
            },
            "type": "mesh3d"
           }
          ],
          "parcoords": [
           {
            "line": {
             "colorbar": {
              "outlinewidth": 0,
              "ticks": ""
             }
            },
            "type": "parcoords"
           }
          ],
          "pie": [
           {
            "automargin": true,
            "type": "pie"
           }
          ],
          "scatter": [
           {
            "marker": {
             "colorbar": {
              "outlinewidth": 0,
              "ticks": ""
             }
            },
            "type": "scatter"
           }
          ],
          "scatter3d": [
           {
            "line": {
             "colorbar": {
              "outlinewidth": 0,
              "ticks": ""
             }
            },
            "marker": {
             "colorbar": {
              "outlinewidth": 0,
              "ticks": ""
             }
            },
            "type": "scatter3d"
           }
          ],
          "scattercarpet": [
           {
            "marker": {
             "colorbar": {
              "outlinewidth": 0,
              "ticks": ""
             }
            },
            "type": "scattercarpet"
           }
          ],
          "scattergeo": [
           {
            "marker": {
             "colorbar": {
              "outlinewidth": 0,
              "ticks": ""
             }
            },
            "type": "scattergeo"
           }
          ],
          "scattergl": [
           {
            "marker": {
             "colorbar": {
              "outlinewidth": 0,
              "ticks": ""
             }
            },
            "type": "scattergl"
           }
          ],
          "scattermapbox": [
           {
            "marker": {
             "colorbar": {
              "outlinewidth": 0,
              "ticks": ""
             }
            },
            "type": "scattermapbox"
           }
          ],
          "scatterpolar": [
           {
            "marker": {
             "colorbar": {
              "outlinewidth": 0,
              "ticks": ""
             }
            },
            "type": "scatterpolar"
           }
          ],
          "scatterpolargl": [
           {
            "marker": {
             "colorbar": {
              "outlinewidth": 0,
              "ticks": ""
             }
            },
            "type": "scatterpolargl"
           }
          ],
          "scatterternary": [
           {
            "marker": {
             "colorbar": {
              "outlinewidth": 0,
              "ticks": ""
             }
            },
            "type": "scatterternary"
           }
          ],
          "surface": [
           {
            "colorbar": {
             "outlinewidth": 0,
             "ticks": ""
            },
            "colorscale": [
             [
              0,
              "#0d0887"
             ],
             [
              0.1111111111111111,
              "#46039f"
             ],
             [
              0.2222222222222222,
              "#7201a8"
             ],
             [
              0.3333333333333333,
              "#9c179e"
             ],
             [
              0.4444444444444444,
              "#bd3786"
             ],
             [
              0.5555555555555556,
              "#d8576b"
             ],
             [
              0.6666666666666666,
              "#ed7953"
             ],
             [
              0.7777777777777778,
              "#fb9f3a"
             ],
             [
              0.8888888888888888,
              "#fdca26"
             ],
             [
              1,
              "#f0f921"
             ]
            ],
            "type": "surface"
           }
          ],
          "table": [
           {
            "cells": {
             "fill": {
              "color": "#EBF0F8"
             },
             "line": {
              "color": "white"
             }
            },
            "header": {
             "fill": {
              "color": "#C8D4E3"
             },
             "line": {
              "color": "white"
             }
            },
            "type": "table"
           }
          ]
         },
         "layout": {
          "annotationdefaults": {
           "arrowcolor": "#2a3f5f",
           "arrowhead": 0,
           "arrowwidth": 1
          },
          "autotypenumbers": "strict",
          "coloraxis": {
           "colorbar": {
            "outlinewidth": 0,
            "ticks": ""
           }
          },
          "colorscale": {
           "diverging": [
            [
             0,
             "#8e0152"
            ],
            [
             0.1,
             "#c51b7d"
            ],
            [
             0.2,
             "#de77ae"
            ],
            [
             0.3,
             "#f1b6da"
            ],
            [
             0.4,
             "#fde0ef"
            ],
            [
             0.5,
             "#f7f7f7"
            ],
            [
             0.6,
             "#e6f5d0"
            ],
            [
             0.7,
             "#b8e186"
            ],
            [
             0.8,
             "#7fbc41"
            ],
            [
             0.9,
             "#4d9221"
            ],
            [
             1,
             "#276419"
            ]
           ],
           "sequential": [
            [
             0,
             "#0d0887"
            ],
            [
             0.1111111111111111,
             "#46039f"
            ],
            [
             0.2222222222222222,
             "#7201a8"
            ],
            [
             0.3333333333333333,
             "#9c179e"
            ],
            [
             0.4444444444444444,
             "#bd3786"
            ],
            [
             0.5555555555555556,
             "#d8576b"
            ],
            [
             0.6666666666666666,
             "#ed7953"
            ],
            [
             0.7777777777777778,
             "#fb9f3a"
            ],
            [
             0.8888888888888888,
             "#fdca26"
            ],
            [
             1,
             "#f0f921"
            ]
           ],
           "sequentialminus": [
            [
             0,
             "#0d0887"
            ],
            [
             0.1111111111111111,
             "#46039f"
            ],
            [
             0.2222222222222222,
             "#7201a8"
            ],
            [
             0.3333333333333333,
             "#9c179e"
            ],
            [
             0.4444444444444444,
             "#bd3786"
            ],
            [
             0.5555555555555556,
             "#d8576b"
            ],
            [
             0.6666666666666666,
             "#ed7953"
            ],
            [
             0.7777777777777778,
             "#fb9f3a"
            ],
            [
             0.8888888888888888,
             "#fdca26"
            ],
            [
             1,
             "#f0f921"
            ]
           ]
          },
          "colorway": [
           "#636efa",
           "#EF553B",
           "#00cc96",
           "#ab63fa",
           "#FFA15A",
           "#19d3f3",
           "#FF6692",
           "#B6E880",
           "#FF97FF",
           "#FECB52"
          ],
          "font": {
           "color": "#2a3f5f"
          },
          "geo": {
           "bgcolor": "white",
           "lakecolor": "white",
           "landcolor": "#E5ECF6",
           "showlakes": true,
           "showland": true,
           "subunitcolor": "white"
          },
          "hoverlabel": {
           "align": "left"
          },
          "hovermode": "closest",
          "mapbox": {
           "style": "light"
          },
          "paper_bgcolor": "white",
          "plot_bgcolor": "#E5ECF6",
          "polar": {
           "angularaxis": {
            "gridcolor": "white",
            "linecolor": "white",
            "ticks": ""
           },
           "bgcolor": "#E5ECF6",
           "radialaxis": {
            "gridcolor": "white",
            "linecolor": "white",
            "ticks": ""
           }
          },
          "scene": {
           "xaxis": {
            "backgroundcolor": "#E5ECF6",
            "gridcolor": "white",
            "gridwidth": 2,
            "linecolor": "white",
            "showbackground": true,
            "ticks": "",
            "zerolinecolor": "white"
           },
           "yaxis": {
            "backgroundcolor": "#E5ECF6",
            "gridcolor": "white",
            "gridwidth": 2,
            "linecolor": "white",
            "showbackground": true,
            "ticks": "",
            "zerolinecolor": "white"
           },
           "zaxis": {
            "backgroundcolor": "#E5ECF6",
            "gridcolor": "white",
            "gridwidth": 2,
            "linecolor": "white",
            "showbackground": true,
            "ticks": "",
            "zerolinecolor": "white"
           }
          },
          "shapedefaults": {
           "line": {
            "color": "#2a3f5f"
           }
          },
          "ternary": {
           "aaxis": {
            "gridcolor": "white",
            "linecolor": "white",
            "ticks": ""
           },
           "baxis": {
            "gridcolor": "white",
            "linecolor": "white",
            "ticks": ""
           },
           "bgcolor": "#E5ECF6",
           "caxis": {
            "gridcolor": "white",
            "linecolor": "white",
            "ticks": ""
           }
          },
          "title": {
           "x": 0.05
          },
          "xaxis": {
           "automargin": true,
           "gridcolor": "white",
           "linecolor": "white",
           "ticks": "",
           "title": {
            "standoff": 15
           },
           "zerolinecolor": "white",
           "zerolinewidth": 2
          },
          "yaxis": {
           "automargin": true,
           "gridcolor": "white",
           "linecolor": "white",
           "ticks": "",
           "title": {
            "standoff": 15
           },
           "zerolinecolor": "white",
           "zerolinewidth": 2
          }
         }
        },
        "title": {
         "text": "Average House Values in Toronto"
        }
       }
      },
      "text/html": [
       "<div>                            <div id=\"7f7a89e6-da38-4611-bb59-de1fd2c460aa\" class=\"plotly-graph-div\" style=\"height:525px; width:100%;\"></div>            <script type=\"text/javascript\">                require([\"plotly\"], function(Plotly) {                    window.PLOTLYENV=window.PLOTLYENV || {};                                    if (document.getElementById(\"7f7a89e6-da38-4611-bb59-de1fd2c460aa\")) {                    Plotly.newPlot(                        \"7f7a89e6-da38-4611-bb59-de1fd2c460aa\",                        [{\"customdata\": [[3435.0, 1947.5, 2.5, 863.75, 1406.25, 512.5, 547.5, 10.0], [2897.5, 2180.0, 1.25, 375.0, 456.25, 523.75, 628.75, 32.5], [2903.75, 302.5, 1.25, 503.75, 76.25, 302.5, 502.5, 1.25], [751.25, 7235.0, 1.25, 1375.0, 613.75, 355.0, 4605.0, 83.75], [3572.5, 5388.75, 1.25, 273.75, 626.25, 32.5, 1340.0, 0.0], [2131.25, 1815.0, 0.0, 151.25, 70.0, 677.5, 973.75, 8.75], [3.75, 10470.0, 0.0, 1.25, 18.75, 1.25, 271.25, 2.5], [2101.25, 3222.5, 2.5, 141.25, 830.0, 70.0, 500.0, 2.5], [1585.0, 1700.0, 0.0, 580.0, 175.0, 86.25, 522.5, 1.25], [4865.0, 1981.25, 0.0, 43.75, 57.5, 287.5, 1275.0, 88.75], [686.25, 671.25, 0.0, 70.0, 16.25, 97.5, 1060.0, 3.75], [3993.75, 3582.5, 2.5, 323.75, 258.75, 921.25, 330.0, 10.0], [5045.0, 920.0, 0.0, 418.75, 47.5, 781.25, 1957.5, 26.25], [732.5, 4356.25, 0.0, 685.0, 1116.25, 113.75, 238.75, 2.5], [526.25, 491.25, 0.0, 810.0, 380.0, 151.25, 748.75, 25.0], [1713.75, 2401.25, 0.0, 150.0, 37.5, 351.25, 1035.0, 5.0], [2260.0, 331.25, 0.0, 36.25, 90.0, 25.0, 40.0, 0.0], [880.0, 3213.75, 0.0, 448.75, 81.25, 112.5, 793.75, 1.25], [1775.0, 3568.75, 0.0, 255.0, 8.75, 108.75, 501.25, 6.25], [268.75, 3322.5, 0.0, 451.25, 615.0, 127.5, 1422.5, 12.5], [1757.5, 166.25, 0.0, 421.25, 18.75, 371.25, 853.75, 5.0], [916.25, 2310.0, 0.0, 288.75, 201.25, 162.5, 1192.5, 2.5], [3341.25, 0.0, 2.5, 166.25, 420.0, 125.0, 40.0, 5.0], [28.75, 15042.5, 1.25, 32.5, 231.25, 38.75, 1337.5, 27.5], [3223.75, 1746.25, 2.5, 890.0, 525.0, 563.75, 1020.0, 28.75], [2480.0, 1352.5, 6.25, 11.25, 12.5, 517.5, 1256.25, 15.0], [3407.5, 1317.5, 1.25, 63.75, 342.5, 372.5, 147.5, 43.75], [1451.25, 3.75, 0.0, 1375.0, 103.75, 482.5, 1811.25, 35.0], [708.75, 337.5, 0.0, 1350.0, 33.75, 197.5, 1275.0, 30.0], [3001.25, 778.75, 0.0, 1721.25, 32.5, 512.5, 856.25, 30.0], [2155.0, 5256.25, 1.25, 397.5, 1438.75, 120.0, 247.5, 2.5], [2106.25, 3743.75, 0.0, 326.25, 1318.75, 405.0, 413.75, 3.75], [1901.25, 1666.25, 2.5, 2683.75, 927.5, 867.5, 5661.25, 105.0], [4328.75, 3183.75, 2.5, 893.75, 535.0, 330.0, 3415.0, 15.0], [402.5, 1235.0, 0.0, 713.75, 112.5, 296.25, 2322.5, 35.0], [1835.0, 2061.25, 2.5, 1973.75, 445.0, 460.0, 2093.75, 40.0], [2570.0, 2071.25, 0.0, 90.0, 131.25, 43.75, 1043.75, 1.25], [1637.5, 5045.0, 0.0, 108.75, 403.75, 481.25, 251.25, 6.25], [1036.25, 1377.5, 0.0, 75.0, 476.25, 153.75, 50.0, 0.0], [2052.5, 2722.5, 0.0, 27.5, 262.5, 423.75, 2502.5, 7.5], [3951.25, 1742.5, 0.0, 326.25, 553.75, 93.75, 70.0, 6.25], [987.5, 2772.5, 0.0, 96.25, 222.5, 45.0, 56.25, 10.0], [5.0, 6368.75, 0.0, 182.5, 630.0, 3.75, 591.25, 0.0], [1488.75, 3392.5, 0.0, 12.5, 16.25, 82.5, 402.5, 1.25], [1742.5, 2031.25, 1.25, 61.25, 45.0, 75.0, 1027.5, 3.75], [441.25, 3413.75, 0.0, 3538.75, 1322.5, 298.75, 923.75, 6.25], [1077.5, 517.5, 1.25, 1718.75, 371.25, 275.0, 2082.5, 12.5], [2213.75, 1082.5, 0.0, 116.25, 296.25, 122.5, 100.0, 1.25], [500.0, 3558.75, 0.0, 15.0, 496.25, 11.25, 30.0, 1.25], [1442.5, 6020.0, 0.0, 617.5, 118.75, 487.5, 1891.25, 13.75], [2782.5, 2507.5, 1.25, 520.0, 202.5, 692.5, 3066.25, 20.0], [3125.0, 1.25, 1.25, 3.75, 10.0, 470.0, 23.75, 0.0], [1696.25, 1950.0, 0.0, 900.0, 1085.0, 140.0, 670.0, 0.0], [1727.5, 1958.75, 1.25, 58.75, 58.75, 133.75, 153.75, 1.25], [503.75, 720.0, 1.25, 2031.25, 101.25, 85.0, 375.0, 0.0], [583.75, 1568.75, 0.0, 1333.75, 267.5, 68.75, 990.0, 1.25], [1885.0, 1700.0, 0.0, 258.75, 6.25, 160.0, 2495.0, 1.25], [1110.0, 2858.75, 0.0, 380.0, 138.75, 285.0, 205.0, 75.0], [5206.25, 8633.75, 0.0, 127.5, 448.75, 207.5, 666.25, 5.0], [822.5, 348.75, 0.0, 952.5, 526.25, 563.75, 2218.75, 20.0], [1787.5, 511.25, 2.5, 380.0, 11.25, 385.0, 943.75, 1.25], [1785.0, 2852.5, 1.25, 436.25, 122.5, 581.25, 667.5, 61.25], [118.75, 4041.25, 1.25, 328.75, 761.25, 135.0, 2663.75, 78.75], [2197.5, 4758.75, 0.0, 137.5, 307.5, 148.75, 200.0, 1.25], [2326.25, 576.25, 0.0, 66.25, 48.75, 20.0, 336.25, 2.5], [1285.0, 692.5, 0.0, 548.75, 145.0, 86.25, 362.5, 2.5], [3731.25, 6731.25, 0.0, 1032.5, 2441.25, 340.0, 645.0, 10.0], [2447.5, 2508.75, 1.25, 42.5, 0.0, 153.75, 592.5, 12.5], [3196.25, 201.25, 0.0, 871.25, 23.75, 177.5, 1008.75, 1.25], [3472.5, 773.75, 0.0, 126.25, 38.75, 225.0, 966.25, 16.25], [3601.25, 548.75, 0.0, 791.25, 75.0, 47.5, 1421.25, 8.75], [343.75, 1097.5, 0.0, 666.25, 658.75, 212.5, 2560.0, 38.75], [1513.75, 960.0, 0.0, 76.25, 85.0, 216.25, 1696.25, 15.0], [3693.75, 2982.5, 0.0, 1317.5, 3410.0, 878.75, 552.5, 55.0], [1690.0, 861.25, 2.5, 167.5, 97.5, 151.25, 595.0, 3.75], [1788.75, 2010.0, 0.0, 6.25, 270.0, 81.25, 108.75, 2.5], [3910.0, 1948.75, 0.0, 550.0, 605.0, 395.0, 95.0, 22.5], [2406.25, 6996.25, 1.25, 266.25, 766.25, 407.5, 2966.25, 18.75], [2256.25, 2105.0, 1.25, 27.5, 880.0, 255.0, 211.25, 2.5], [110.0, 5908.75, 0.0, 167.5, 630.0, 106.25, 1973.75, 23.75], [1028.75, 2238.75, 0.0, 138.75, 302.5, 176.25, 912.5, 2.5], [1730.0, 5916.25, 1.25, 176.25, 1033.75, 603.75, 127.5, 1.25], [2225.0, 2008.75, 1.25, 1611.25, 146.25, 170.0, 1066.25, 97.5], [503.75, 13042.5, 6.25, 193.75, 237.5, 96.25, 1877.5, 21.25], [1601.25, 1091.25, 1.25, 205.0, 203.75, 188.75, 1763.75, 3.75], [2906.25, 2403.75, 1.25, 8.75, 35.0, 265.0, 302.5, 0.0], [2696.25, 3677.5, 0.0, 631.25, 500.0, 273.75, 392.5, 1.25], [52.5, 8266.25, 0.0, 142.5, 857.5, 232.5, 1683.75, 17.5], [875.0, 667.5, 0.0, 1391.25, 236.25, 262.5, 1575.0, 31.25], [15.0, 8233.75, 1.25, 22.5, 80.0, 17.5, 513.75, 6.25], [1142.5, 3193.75, 0.0, 150.0, 206.25, 300.0, 217.5, 15.0], [3000.0, 1600.0, 0.0, 1282.5, 31.25, 667.5, 2055.0, 21.25], [3033.75, 2320.0, 1.25, 127.5, 118.75, 293.75, 1487.5, 6.25], [2313.75, 528.75, 0.0, 170.0, 0.0, 358.75, 423.75, 12.5], [458.75, 263.75, 1.25, 1150.0, 298.75, 240.0, 3713.75, 66.25], [2567.5, 6465.0, 1.25, 1445.0, 1365.0, 83.75, 1157.5, 5.0], [1795.0, 420.0, 0.0, 321.25, 120.0, 281.25, 142.5, 5.0], [720.0, 931.25, 0.0, 652.5, 62.5, 201.25, 1000.0, 17.5], [1026.25, 1467.5, 0.0, 1978.75, 272.5, 71.25, 676.25, 6.25], [3298.75, 445.0, 0.0, 2.5, 41.25, 47.5, 10.0, 2.5], [15.0, 2506.25, 0.0, 57.5, 577.5, 8.75, 911.25, 16.25], [1886.25, 635.0, 0.0, 36.25, 451.25, 326.25, 552.5, 0.0], [2902.5, 3225.0, 1.25, 1081.25, 233.75, 381.25, 1043.75, 0.0], [843.75, 1635.0, 10.0, 1148.75, 356.25, 390.0, 2278.75, 53.75], [2498.75, 4641.25, 0.0, 486.25, 245.0, 327.5, 1618.75, 2.5], [6937.5, 936.25, 0.0, 975.0, 1621.25, 732.5, 608.75, 6.25], [2058.75, 1.25, 0.0, 760.0, 47.5, 261.25, 683.75, 7.5], [1168.75, 1945.0, 0.0, 198.75, 2.5, 71.25, 208.75, 3.75], [1081.25, 3948.75, 0.0, 32.5, 206.25, 138.75, 320.0, 0.0], [337.5, 6557.5, 5.0, 243.75, 278.75, 192.5, 2968.75, 12.5], [1005.0, 1012.5, 3.75, 2686.25, 1566.25, 467.5, 3823.75, 85.0], [3225.0, 1670.0, 0.0, 185.0, 552.5, 97.5, 586.25, 5.0], [3711.25, 2592.5, 1.25, 190.0, 558.75, 275.0, 257.5, 0.0], [5872.5, 867.5, 0.0, 93.75, 357.5, 222.5, 2788.75, 6.25], [3168.75, 4542.5, 0.0, 170.0, 891.25, 477.5, 408.75, 10.0], [622.5, 4795.0, 0.0, 203.75, 216.25, 150.0, 218.75, 15.0], [2642.5, 488.75, 1.25, 1543.75, 285.0, 461.25, 3770.0, 23.75], [1682.5, 666.25, 0.0, 322.5, 52.5, 253.75, 237.5, 3.75], [3.75, 6318.75, 0.0, 0.0, 141.25, 0.0, 187.5, 5.0], [442.5, 178.75, 0.0, 1023.75, 1027.5, 460.0, 3310.0, 168.75], [155.0, 830.0, 0.0, 301.25, 321.25, 146.25, 1252.5, 46.25], [1256.25, 3150.0, 0.0, 315.0, 308.75, 130.0, 2002.5, 11.25], [267.5, 21913.75, 2.5, 68.75, 528.75, 31.25, 667.5, 15.0], [3250.0, 3441.25, 0.0, 475.0, 1252.5, 576.25, 575.0, 16.25], [4381.25, 1725.0, 0.0, 273.75, 1341.25, 1345.0, 505.0, 2.5], [846.25, 7665.0, 0.0, 642.5, 400.0, 117.5, 277.5, 12.5], [1742.5, 4387.5, 0.0, 216.25, 142.5, 193.75, 768.75, 5.0], [650.0, 553.75, 1.25, 1342.5, 307.5, 186.25, 1135.0, 21.25], [5482.5, 1810.0, 2.5, 13.75, 251.25, 1313.75, 1090.0, 10.0], [3533.75, 11598.75, 6.25, 63.75, 736.25, 205.0, 1378.75, 10.0], [2178.75, 3253.75, 1.25, 143.75, 133.75, 251.25, 202.5, 0.0], [3647.5, 3373.75, 0.0, 531.25, 277.5, 183.75, 42.5, 0.0], [6623.75, 8898.75, 1.25, 326.25, 241.25, 1417.5, 430.0, 7.5], [898.75, 577.5, 0.0, 1646.25, 253.75, 161.25, 1721.25, 23.75], [1938.75, 633.75, 0.0, 323.75, 21.25, 257.5, 303.75, 7.5], [1056.25, 1236.25, 0.0, 992.5, 298.75, 325.0, 1878.75, 17.5], [1468.75, 1638.75, 0.0, 470.0, 33.75, 328.75, 1385.0, 6.25], [565.0, 3948.75, 0.0, 425.0, 212.5, 172.5, 1308.75, 6.25], [1355.0, 5165.0, 1.25, 1316.25, 662.5, 188.75, 1085.0, 33.75], [2286.25, 1347.5, 0.0, 73.75, 450.0, 377.5, 722.5, 7.5]], \"hovertemplate\": \"<b>%{hovertext}</b><br><br>average_house_value=%{marker.color}<br>lat=%{lat}<br>lon=%{lon}<br>single_detached_house=%{customdata[0]}<br>apartment_five_storeys_plus=%{customdata[1]}<br>movable_dwelling=%{customdata[2]}<br>semi_detached_house=%{customdata[3]}<br>row_house=%{customdata[4]}<br>duplex=%{customdata[5]}<br>apartment_five_storeys_less=%{customdata[6]}<br>other_house=%{customdata[7]}<extra></extra>\", \"hovertext\": [\"Agincourt North\", \"Agincourt South-Malvern West\", \"Alderwood\", \"Annex\", \"Banbury-Don Mills\", \"Bathurst Manor\", \"Bay Street Corridor\", \"Bayview Village\", \"Bayview Woods-Steeles\", \"Bedford Park-Nortown\", \"Beechborough-Greenbrook\", \"Bendale\", \"Birchcliffe-Cliffside\", \"Black Creek\", \"Blake-Jones\", \"Briar Hill-Belgravia\", \"Bridle Path-Sunnybrook-York Mills\", \"Broadview North\", \"Brookhaven-Amesbury\", \"Cabbagetown-South St.James Town\", \"Caledonia-Fairbank\", \"Casa Loma\", \"Centennial Scarborough\", \"Church-Yonge Corridor\", \"Clairlea-Birchmount\", \"Clanton Park\", \"Cliffcrest\", \"Corso Italia-Davenport\", \"Danforth\", \"Danforth-East York\", \"Don Valley Village\", \"Dorset Park\", \"Dovercourt-Wallace Emerson-Juncti\", \"Downsview-Roding-CFB\", \"Dufferin Grove\", \"East End-Danforth\", \"Edenbridge-Humber Valley\", \"Eglinton East\", \"Elms-Old Rexdale\", \"Englemount-Lawrence\", \"Eringate-Centennial-West Deane\", \"Etobicoke West Mall\", \"Flemingdon Park\", \"Forest Hill North\", \"Forest Hill South\", \"Glenfield-Jane Heights\", \"Greenwood-Coxwell\", \"Guildwood\", \"Henry Farm\", \"High Park North\", \"High Park-Swansea\", \"Highland Creek\", \"Hillcrest Village\", \"Humber Heights-Westmount\", \"Humber Summit\", \"Humbermede\", \"Humewood-Cedarvale\", \"Ionview\", \"Islington-City Centre West\", \"Junction Area\", \"Keelesdale-Eglinton West\", \"Kennedy Park\", \"Kensington-Chinatown\", \"Kingsview Village-The Westway\", \"Kingsway South\", \"L'Amoreaux\", \"Lambton Baby Point\", \"Lansing-Westgate\", \"Lawrence Park North\", \"Lawrence Park South\", \"Leaside-Bennington\", \"Little Portugal\", \"Long Branch\", \"Malvern\", \"Maple Leaf\", \"Markland Wood\", \"Milliken\", \"Mimico\", \"Morningside\", \"Moss Park\", \"Mount Dennis\", \"Mount Olive-Silverstone-Jamestown\", \"Mount Pleasant East\", \"Mount Pleasant West\", \"New Toronto\", \"Newtonbrook East\", \"Newtonbrook West\", \"Niagara\", \"North Riverdale\", \"North St.James Town\", \"O'Connor-Parkview\", \"Oakridge\", \"Oakwood Village\", \"Old East York\", \"Palmerston-Little Italy\", \"Parkwoods-Donalda\", \"Pelmo Park-Humberlea\", \"Playter Estates-Danforth\", \"Pleasant View\", \"Princess-Rosethorn\", \"Regent Park\", \"Rexdale-Kipling\", \"Rockcliffe-Smythe\", \"Roncesvalles\", \"Rosedale-Moore Park\", \"Rouge\", \"Runnymede-Bloor West Village\", \"Rustic\", \"Scarborough Village\", \"South Parkdale\", \"South Riverdale\", \"St.Andrew-Windfields\", \"Steeles\", \"Stonegate-Queensway\", \"Tam O'Shanter-Sullivan\", \"Taylor-Massey\", \"The Beaches\", \"Thistletown-Beaumond Heights\", \"Thorncliffe Park\", \"Trinity-Bellwoods\", \"University\", \"Victoria Village\", \"Waterfront Communities-The Island\", \"West Hill\", \"West Humber-Clairville\", \"Westminster-Branson\", \"Weston\", \"Weston-Pellam Park\", \"Wexford/Maryvale\", \"Willowdale East\", \"Willowdale West\", \"Willowridge-Martingrove-Richview\", \"Woburn\", \"Woodbine Corridor\", \"Woodbine-Lumsden\", \"Wychwood\", \"Yonge-Eglinton\", \"Yonge-St.Clair\", \"York University Heights\", \"Yorkdale-Glen Park\"], \"lat\": [43.80544058, 43.78865755, 43.6049369, 43.67158544, 43.737657, 43.76481331, 43.65751135, 43.77636052, 43.79680187, 43.73148623, 43.69321649, 43.76036631, 43.69468198, 43.76489025, 43.67617288, 43.69902438, 43.73101314, 43.68882512, 43.70132631, 43.66764773, 43.68856865, 43.6818521, 43.7823765, 43.65964886, 43.71359238, 43.74197843, 43.72112117, 43.67766091, 43.68402547, 43.68946809, 43.78329369, 43.75927437, 43.66567693, 43.73329235, 43.65542833, 43.68417388, 43.67088591, 43.7409223, 43.72151887, 43.72034467, 43.65801676, 43.64506262, 43.71592975, 43.70421756, 43.69452576, 43.74563575, 43.67261231, 43.74882934, 43.77114414, 43.65756491, 43.64506458, 43.79077477, 43.80298783, 43.6922328, 43.75891975, 43.74342952, 43.69136981, 43.73536441, 43.63346335, 43.66788977, 43.68572747, 43.72555572, 43.65355413, 43.69899257, 43.65352043, 43.79571603, 43.65742013, 43.75427115, 43.73006017, 43.7172117, 43.70379663, 43.64753593, 43.59236169, 43.80365820000001, 43.71557394, 43.63354175, 43.82069079, 43.61592386, 43.78239861, 43.65651762, 43.68814409, 43.7468678, 43.70485217, 43.70443517, 43.6005886, 43.79153579, 43.78582994, 43.63668088, 43.67199515, 43.66962341, 43.70680049, 43.69740813, 43.68856556, 43.69678127, 43.6591571, 43.75503347, 43.7175146, 43.67970047, 43.78698176, 43.6660506, 43.65999214, 43.72372548, 43.67479045, 43.64612299, 43.68282043, 43.82120126, 43.65926882, 43.71160912, 43.73865186, 43.63669952, 43.64929206, 43.75624583, 43.81295883, 43.63551813, 43.78012985, 43.69499819, 43.67104999, 43.73798792, 43.70774921, 43.6501763, 43.6625062, 43.72848902, 43.63388036, 43.76749026, 43.7161804, 43.77881322, 43.70271605, 43.67396204, 43.74857214, 43.77060226, 43.77121049, 43.68364496, 43.76674024, 43.67677292, 43.69410674, 43.67691927, 43.70468937, 43.68785887, 43.76573649, 43.71467153], \"legendgroup\": \"\", \"lon\": [-79.26671217, -79.2656118, -79.54161093, -79.40400062, -79.34971798, -79.45605516, -79.38572125, -79.37711686, -79.38211795, -79.42022735, -79.47947251, -79.25740037, -79.26509259, -79.52197932, -79.33739417, -79.45285129999999, -79.37890418, -79.35562951, -79.48558926, -79.36610666, -79.45521208, -79.40800665, -79.15084327, -79.37901717, -79.28138178, -79.44630258, -79.23552957, -79.44746933, -79.32981941, -79.33140338, -79.35364413, -79.27890794, -79.4385407, -79.49049735, -79.43734104, -79.29935867, -79.52245776, -79.24559804, -79.54898272, -79.43740855, -79.58044524, -79.56893877, -79.33264597, -79.42814316, -79.41431786, -79.51346532, -79.32431802, -79.19505535, -79.34124067, -79.46630217, -79.46787222, -79.17747247, -79.354804, -79.5224162, -79.55617474, -79.54236712, -79.42768335, -79.27247049, -79.54331654, -79.47143987, -79.47143711, -79.26038221, -79.39723988, -79.54786331, -79.5105768, -79.31408424, -79.49604526, -79.42474772, -79.40397836, -79.40603941, -79.36607234, -79.43032271, -79.53334545, -79.22251662, -79.48075802, -79.57343155, -79.27500892, -79.50013664, -79.20704119, -79.36729703, -79.49998906, -79.58725926, -79.38492395, -79.39335955, -79.51035809, -79.40593745, -79.43142151, -79.4124204, -79.35126041, -79.37524658, -79.31222777, -79.27970834, -79.43978548, -79.33548836, -79.41840873, -79.33017952, -79.5282822, -79.35488729, -79.33494843, -79.54455929, -79.36050881, -79.56622841, -79.49442045, -79.44299245, -79.3796694, -79.18634345, -79.48570818, -79.49809147, -79.21681262, -79.43933783, -79.33565132, -79.37903709, -79.32120701, -79.50112821, -79.30291871, -79.29590112, -79.29960129999999, -79.56349102, -79.34998361, -79.41534216, -79.40117975, -79.31487383, -79.37720231, -79.17667603, -79.59635645, -79.45241823, -79.51572255, -79.46024391, -79.29863657, -79.40148379, -79.4275578, -79.55422105, -79.22858577, -79.31540738, -79.31116353, -79.42551495, -79.40359017, -79.39787077, -79.48888293, -79.45710807], \"marker\": {\"color\": [329811.5, 334189.0, 427922.5, 746977.0, 612039.0, 501576.75, 423653.5, 539258.75, 565413.5, 930415.25, 370927.75, 301123.25, 437315.0, 260841.75, 511437.0, 365524.5, 1526485.75, 443373.25, 350943.0, 494110.5, 361714.25, 981064.25, 409862.75, 406117.5, 354555.25, 551561.25, 417422.0, 419930.5, 466943.0, 421679.25, 398010.25, 262000.25, 434699.5, 381415.5, 457588.75, 478054.25, 796162.5, 268966.5, 268341.25, 568936.75, 397781.75, 309412.0, 207799.0, 851680.5, 1195992.5, 327597.75, 387055.5, 369373.5, 369958.0, 532497.0, 582977.75, 428838.5, 395023.0, 449150.5, 352082.5, 319783.75, 697085.5, 287685.75, 451685.25, 433269.25, 322774.75, 287233.5, 440485.75, 338344.75, 843234.25, 650307.75, 336617.75, 613216.5, 759392.5, 1094027.75, 806471.75, 540192.5, 385830.25, 256880.25, 453229.0, 443974.75, 344988.25, 393490.5, 285013.5, 409456.0, 262308.75, 253182.25, 677370.25, 468181.75, 407812.0, 559573.25, 460568.5, 369993.0, 703063.25, 411455.75, 298315.75, 422257.5, 441202.75, 443413.5, 622191.75, 454652.5, 405431.25, 648859.25, 373375.25, 765746.5, 392578.25, 360999.25, 345660.25, 508937.25, 1093640.0, 376286.75, 552082.0, 431090.5, 329835.75, 447478.5, 455020.5, 999107.0, 376014.5, 550432.25, 353926.5, 239414.0, 666306.0, 375864.0, 255264.75, 534465.75, 618316.75, 352133.0, 376863.0, 284647.5, 343254.25, 349320.25, 308007.75, 351802.0, 348319.25, 469045.5, 466134.75, 464278.0, 298505.75, 445382.75, 369918.5, 565976.5, 809745.75, 813220.25, 305899.5, 430861.25], \"coloraxis\": \"coloraxis\", \"size\": [329811.5, 334189.0, 427922.5, 746977.0, 612039.0, 501576.75, 423653.5, 539258.75, 565413.5, 930415.25, 370927.75, 301123.25, 437315.0, 260841.75, 511437.0, 365524.5, 1526485.75, 443373.25, 350943.0, 494110.5, 361714.25, 981064.25, 409862.75, 406117.5, 354555.25, 551561.25, 417422.0, 419930.5, 466943.0, 421679.25, 398010.25, 262000.25, 434699.5, 381415.5, 457588.75, 478054.25, 796162.5, 268966.5, 268341.25, 568936.75, 397781.75, 309412.0, 207799.0, 851680.5, 1195992.5, 327597.75, 387055.5, 369373.5, 369958.0, 532497.0, 582977.75, 428838.5, 395023.0, 449150.5, 352082.5, 319783.75, 697085.5, 287685.75, 451685.25, 433269.25, 322774.75, 287233.5, 440485.75, 338344.75, 843234.25, 650307.75, 336617.75, 613216.5, 759392.5, 1094027.75, 806471.75, 540192.5, 385830.25, 256880.25, 453229.0, 443974.75, 344988.25, 393490.5, 285013.5, 409456.0, 262308.75, 253182.25, 677370.25, 468181.75, 407812.0, 559573.25, 460568.5, 369993.0, 703063.25, 411455.75, 298315.75, 422257.5, 441202.75, 443413.5, 622191.75, 454652.5, 405431.25, 648859.25, 373375.25, 765746.5, 392578.25, 360999.25, 345660.25, 508937.25, 1093640.0, 376286.75, 552082.0, 431090.5, 329835.75, 447478.5, 455020.5, 999107.0, 376014.5, 550432.25, 353926.5, 239414.0, 666306.0, 375864.0, 255264.75, 534465.75, 618316.75, 352133.0, 376863.0, 284647.5, 343254.25, 349320.25, 308007.75, 351802.0, 348319.25, 469045.5, 466134.75, 464278.0, 298505.75, 445382.75, 369918.5, 565976.5, 809745.75, 813220.25, 305899.5, 430861.25], \"sizemode\": \"area\", \"sizeref\": 3816.214375}, \"mode\": \"markers\", \"name\": \"\", \"showlegend\": false, \"subplot\": \"mapbox\", \"type\": \"scattermapbox\"}],                        {\"coloraxis\": {\"colorbar\": {\"title\": {\"text\": \"average_house_value\"}}, \"colorscale\": [[0.0, \"#0d0887\"], [0.1111111111111111, \"#46039f\"], [0.2222222222222222, \"#7201a8\"], [0.3333333333333333, \"#9c179e\"], [0.4444444444444444, \"#bd3786\"], [0.5555555555555556, \"#d8576b\"], [0.6666666666666666, \"#ed7953\"], [0.7777777777777778, \"#fb9f3a\"], [0.8888888888888888, \"#fdca26\"], [1.0, \"#f0f921\"]]}, \"legend\": {\"itemsizing\": \"constant\", \"tracegroupgap\": 0}, \"mapbox\": {\"accesstoken\": \"eyJ1IjoibW5pdGNob3YiLCJhIjoiY2ttODJjeDFxMTQwMzJwcnRyMHd5czZsMyJ9.k-lXDyjYFVJ9YXarv1JShg\", \"center\": {\"lat\": 43.708840577642846, \"lon\": -79.4001855035}, \"domain\": {\"x\": [0.0, 1.0], \"y\": [0.0, 1.0]}, \"zoom\": 8}, \"template\": {\"data\": {\"bar\": [{\"error_x\": {\"color\": \"#2a3f5f\"}, \"error_y\": {\"color\": \"#2a3f5f\"}, \"marker\": {\"line\": {\"color\": \"#E5ECF6\", \"width\": 0.5}}, \"type\": \"bar\"}], \"barpolar\": [{\"marker\": {\"line\": {\"color\": \"#E5ECF6\", \"width\": 0.5}}, \"type\": \"barpolar\"}], \"carpet\": [{\"aaxis\": {\"endlinecolor\": \"#2a3f5f\", \"gridcolor\": \"white\", \"linecolor\": \"white\", \"minorgridcolor\": \"white\", \"startlinecolor\": \"#2a3f5f\"}, \"baxis\": {\"endlinecolor\": \"#2a3f5f\", \"gridcolor\": \"white\", \"linecolor\": \"white\", \"minorgridcolor\": \"white\", \"startlinecolor\": \"#2a3f5f\"}, \"type\": \"carpet\"}], \"choropleth\": [{\"colorbar\": {\"outlinewidth\": 0, \"ticks\": \"\"}, \"type\": \"choropleth\"}], \"contour\": [{\"colorbar\": {\"outlinewidth\": 0, \"ticks\": \"\"}, \"colorscale\": [[0.0, \"#0d0887\"], [0.1111111111111111, \"#46039f\"], [0.2222222222222222, \"#7201a8\"], [0.3333333333333333, \"#9c179e\"], [0.4444444444444444, \"#bd3786\"], [0.5555555555555556, \"#d8576b\"], [0.6666666666666666, \"#ed7953\"], [0.7777777777777778, \"#fb9f3a\"], [0.8888888888888888, \"#fdca26\"], [1.0, \"#f0f921\"]], \"type\": \"contour\"}], \"contourcarpet\": [{\"colorbar\": {\"outlinewidth\": 0, \"ticks\": \"\"}, \"type\": \"contourcarpet\"}], \"heatmap\": [{\"colorbar\": {\"outlinewidth\": 0, \"ticks\": \"\"}, \"colorscale\": [[0.0, \"#0d0887\"], [0.1111111111111111, \"#46039f\"], [0.2222222222222222, \"#7201a8\"], [0.3333333333333333, \"#9c179e\"], [0.4444444444444444, \"#bd3786\"], [0.5555555555555556, \"#d8576b\"], [0.6666666666666666, \"#ed7953\"], [0.7777777777777778, \"#fb9f3a\"], [0.8888888888888888, \"#fdca26\"], [1.0, \"#f0f921\"]], \"type\": \"heatmap\"}], \"heatmapgl\": [{\"colorbar\": {\"outlinewidth\": 0, \"ticks\": \"\"}, \"colorscale\": [[0.0, \"#0d0887\"], [0.1111111111111111, \"#46039f\"], [0.2222222222222222, \"#7201a8\"], [0.3333333333333333, \"#9c179e\"], [0.4444444444444444, \"#bd3786\"], [0.5555555555555556, \"#d8576b\"], [0.6666666666666666, \"#ed7953\"], [0.7777777777777778, \"#fb9f3a\"], [0.8888888888888888, \"#fdca26\"], [1.0, \"#f0f921\"]], \"type\": \"heatmapgl\"}], \"histogram\": [{\"marker\": {\"colorbar\": {\"outlinewidth\": 0, \"ticks\": \"\"}}, \"type\": \"histogram\"}], \"histogram2d\": [{\"colorbar\": {\"outlinewidth\": 0, \"ticks\": \"\"}, \"colorscale\": [[0.0, \"#0d0887\"], [0.1111111111111111, \"#46039f\"], [0.2222222222222222, \"#7201a8\"], [0.3333333333333333, \"#9c179e\"], [0.4444444444444444, \"#bd3786\"], [0.5555555555555556, \"#d8576b\"], [0.6666666666666666, \"#ed7953\"], [0.7777777777777778, \"#fb9f3a\"], [0.8888888888888888, \"#fdca26\"], [1.0, \"#f0f921\"]], \"type\": \"histogram2d\"}], \"histogram2dcontour\": [{\"colorbar\": {\"outlinewidth\": 0, \"ticks\": \"\"}, \"colorscale\": [[0.0, \"#0d0887\"], [0.1111111111111111, \"#46039f\"], [0.2222222222222222, \"#7201a8\"], [0.3333333333333333, \"#9c179e\"], [0.4444444444444444, \"#bd3786\"], [0.5555555555555556, \"#d8576b\"], [0.6666666666666666, \"#ed7953\"], [0.7777777777777778, \"#fb9f3a\"], [0.8888888888888888, \"#fdca26\"], [1.0, \"#f0f921\"]], \"type\": \"histogram2dcontour\"}], \"mesh3d\": [{\"colorbar\": {\"outlinewidth\": 0, \"ticks\": \"\"}, \"type\": \"mesh3d\"}], \"parcoords\": [{\"line\": {\"colorbar\": {\"outlinewidth\": 0, \"ticks\": \"\"}}, \"type\": \"parcoords\"}], \"pie\": [{\"automargin\": true, \"type\": \"pie\"}], \"scatter\": [{\"marker\": {\"colorbar\": {\"outlinewidth\": 0, \"ticks\": \"\"}}, \"type\": \"scatter\"}], \"scatter3d\": [{\"line\": {\"colorbar\": {\"outlinewidth\": 0, \"ticks\": \"\"}}, \"marker\": {\"colorbar\": {\"outlinewidth\": 0, \"ticks\": \"\"}}, \"type\": \"scatter3d\"}], \"scattercarpet\": [{\"marker\": {\"colorbar\": {\"outlinewidth\": 0, \"ticks\": \"\"}}, \"type\": \"scattercarpet\"}], \"scattergeo\": [{\"marker\": {\"colorbar\": {\"outlinewidth\": 0, \"ticks\": \"\"}}, \"type\": \"scattergeo\"}], \"scattergl\": [{\"marker\": {\"colorbar\": {\"outlinewidth\": 0, \"ticks\": \"\"}}, \"type\": \"scattergl\"}], \"scattermapbox\": [{\"marker\": {\"colorbar\": {\"outlinewidth\": 0, \"ticks\": \"\"}}, \"type\": \"scattermapbox\"}], \"scatterpolar\": [{\"marker\": {\"colorbar\": {\"outlinewidth\": 0, \"ticks\": \"\"}}, \"type\": \"scatterpolar\"}], \"scatterpolargl\": [{\"marker\": {\"colorbar\": {\"outlinewidth\": 0, \"ticks\": \"\"}}, \"type\": \"scatterpolargl\"}], \"scatterternary\": [{\"marker\": {\"colorbar\": {\"outlinewidth\": 0, \"ticks\": \"\"}}, \"type\": \"scatterternary\"}], \"surface\": [{\"colorbar\": {\"outlinewidth\": 0, \"ticks\": \"\"}, \"colorscale\": [[0.0, \"#0d0887\"], [0.1111111111111111, \"#46039f\"], [0.2222222222222222, \"#7201a8\"], [0.3333333333333333, \"#9c179e\"], [0.4444444444444444, \"#bd3786\"], [0.5555555555555556, \"#d8576b\"], [0.6666666666666666, \"#ed7953\"], [0.7777777777777778, \"#fb9f3a\"], [0.8888888888888888, \"#fdca26\"], [1.0, \"#f0f921\"]], \"type\": \"surface\"}], \"table\": [{\"cells\": {\"fill\": {\"color\": \"#EBF0F8\"}, \"line\": {\"color\": \"white\"}}, \"header\": {\"fill\": {\"color\": \"#C8D4E3\"}, \"line\": {\"color\": \"white\"}}, \"type\": \"table\"}]}, \"layout\": {\"annotationdefaults\": {\"arrowcolor\": \"#2a3f5f\", \"arrowhead\": 0, \"arrowwidth\": 1}, \"autotypenumbers\": \"strict\", \"coloraxis\": {\"colorbar\": {\"outlinewidth\": 0, \"ticks\": \"\"}}, \"colorscale\": {\"diverging\": [[0, \"#8e0152\"], [0.1, \"#c51b7d\"], [0.2, \"#de77ae\"], [0.3, \"#f1b6da\"], [0.4, \"#fde0ef\"], [0.5, \"#f7f7f7\"], [0.6, \"#e6f5d0\"], [0.7, \"#b8e186\"], [0.8, \"#7fbc41\"], [0.9, \"#4d9221\"], [1, \"#276419\"]], \"sequential\": [[0.0, \"#0d0887\"], [0.1111111111111111, \"#46039f\"], [0.2222222222222222, \"#7201a8\"], [0.3333333333333333, \"#9c179e\"], [0.4444444444444444, \"#bd3786\"], [0.5555555555555556, \"#d8576b\"], [0.6666666666666666, \"#ed7953\"], [0.7777777777777778, \"#fb9f3a\"], [0.8888888888888888, \"#fdca26\"], [1.0, \"#f0f921\"]], \"sequentialminus\": [[0.0, \"#0d0887\"], [0.1111111111111111, \"#46039f\"], [0.2222222222222222, \"#7201a8\"], [0.3333333333333333, \"#9c179e\"], [0.4444444444444444, \"#bd3786\"], [0.5555555555555556, \"#d8576b\"], [0.6666666666666666, \"#ed7953\"], [0.7777777777777778, \"#fb9f3a\"], [0.8888888888888888, \"#fdca26\"], [1.0, \"#f0f921\"]]}, \"colorway\": [\"#636efa\", \"#EF553B\", \"#00cc96\", \"#ab63fa\", \"#FFA15A\", \"#19d3f3\", \"#FF6692\", \"#B6E880\", \"#FF97FF\", \"#FECB52\"], \"font\": {\"color\": \"#2a3f5f\"}, \"geo\": {\"bgcolor\": \"white\", \"lakecolor\": \"white\", \"landcolor\": \"#E5ECF6\", \"showlakes\": true, \"showland\": true, \"subunitcolor\": \"white\"}, \"hoverlabel\": {\"align\": \"left\"}, \"hovermode\": \"closest\", \"mapbox\": {\"style\": \"light\"}, \"paper_bgcolor\": \"white\", \"plot_bgcolor\": \"#E5ECF6\", \"polar\": {\"angularaxis\": {\"gridcolor\": \"white\", \"linecolor\": \"white\", \"ticks\": \"\"}, \"bgcolor\": \"#E5ECF6\", \"radialaxis\": {\"gridcolor\": \"white\", \"linecolor\": \"white\", \"ticks\": \"\"}}, \"scene\": {\"xaxis\": {\"backgroundcolor\": \"#E5ECF6\", \"gridcolor\": \"white\", \"gridwidth\": 2, \"linecolor\": \"white\", \"showbackground\": true, \"ticks\": \"\", \"zerolinecolor\": \"white\"}, \"yaxis\": {\"backgroundcolor\": \"#E5ECF6\", \"gridcolor\": \"white\", \"gridwidth\": 2, \"linecolor\": \"white\", \"showbackground\": true, \"ticks\": \"\", \"zerolinecolor\": \"white\"}, \"zaxis\": {\"backgroundcolor\": \"#E5ECF6\", \"gridcolor\": \"white\", \"gridwidth\": 2, \"linecolor\": \"white\", \"showbackground\": true, \"ticks\": \"\", \"zerolinecolor\": \"white\"}}, \"shapedefaults\": {\"line\": {\"color\": \"#2a3f5f\"}}, \"ternary\": {\"aaxis\": {\"gridcolor\": \"white\", \"linecolor\": \"white\", \"ticks\": \"\"}, \"baxis\": {\"gridcolor\": \"white\", \"linecolor\": \"white\", \"ticks\": \"\"}, \"bgcolor\": \"#E5ECF6\", \"caxis\": {\"gridcolor\": \"white\", \"linecolor\": \"white\", \"ticks\": \"\"}}, \"title\": {\"x\": 0.05}, \"xaxis\": {\"automargin\": true, \"gridcolor\": \"white\", \"linecolor\": \"white\", \"ticks\": \"\", \"title\": {\"standoff\": 15}, \"zerolinecolor\": \"white\", \"zerolinewidth\": 2}, \"yaxis\": {\"automargin\": true, \"gridcolor\": \"white\", \"linecolor\": \"white\", \"ticks\": \"\", \"title\": {\"standoff\": 15}, \"zerolinecolor\": \"white\", \"zerolinewidth\": 2}}}, \"title\": {\"text\": \"Average House Values in Toronto\"}},                        {\"responsive\": true}                    ).then(function(){\n",
       "                            \n",
       "var gd = document.getElementById('7f7a89e6-da38-4611-bb59-de1fd2c460aa');\n",
       "var x = new MutationObserver(function (mutations, observer) {{\n",
       "        var display = window.getComputedStyle(gd).display;\n",
       "        if (!display || display === 'none') {{\n",
       "            console.log([gd, 'removed!']);\n",
       "            Plotly.purge(gd);\n",
       "            observer.disconnect();\n",
       "        }}\n",
       "}});\n",
       "\n",
       "// Listen for the removal of the full notebook cells\n",
       "var notebookContainer = gd.closest('#notebook-container');\n",
       "if (notebookContainer) {{\n",
       "    x.observe(notebookContainer, {childList: true});\n",
       "}}\n",
       "\n",
       "// Listen for the clearing of the current output cell\n",
       "var outputEl = gd.closest('.output');\n",
       "if (outputEl) {{\n",
       "    x.observe(outputEl, {childList: true});\n",
       "}}\n",
       "\n",
       "                        })                };                });            </script>        </div>"
      ]
     },
     "metadata": {},
     "output_type": "display_data"
    }
   ],
   "source": [
    "# Define Panel visualization functions\n",
    "def neighbourhood_map():\n",
    "    \"\"\"Neighbourhood Map\"\"\"\n",
    "    file_path = Path(\"../PyViz-Homework/toronto_neighbourhoods_coordinates.csv\")\n",
    "    neighbourhood_locations = pd.read_csv(file_path)\n",
    "    \n",
    "    # Calculate the mean values for each neighborhood\n",
    "    avg_neighbourhood = to_data.groupby(\"neighbourhood\").mean()\n",
    "    avg_neighbourhood.reset_index(inplace=True)\n",
    "    \n",
    "    # Join the average values with the neighbourhood locations\n",
    "\n",
    "    avg_value_location = neighbourhood_locations.merge(avg_neighbourhood, on = \"neighbourhood\", how = \"outer\")\n",
    "    \n",
    "    # Create a scatter mapbox to analyze neighbourhood info\n",
    "    map_plot = px.scatter_mapbox(\n",
    "    avg_value_location,\n",
    "    lat=\"lat\",\n",
    "    lon=\"lon\",\n",
    "    size=\"average_house_value\",\n",
    "    color=\"average_house_value\",\n",
    "    title = \"Average House Values in Toronto\",\n",
    "    hover_name = \"neighbourhood\",\n",
    "    hover_data = [\"single_detached_house\",\n",
    "                  \"apartment_five_storeys_plus\",\n",
    "                  \"movable_dwelling\",\n",
    "                  \"semi_detached_house\",\n",
    "                  \"row_house\",\n",
    "                  \"duplex\",\n",
    "                  \"apartment_five_storeys_less\",\n",
    "                  \"other_house\"]\n",
    "    )\n",
    "    return map_plot\n",
    "neighbourhood_map()"
   ]
  },
  {
   "cell_type": "code",
   "execution_count": 98,
   "metadata": {},
   "outputs": [
    {
     "data": {
      "text/plain": [
       "<matplotlib.axes._subplots.AxesSubplot at 0x27ecf578f08>"
      ]
     },
     "execution_count": 98,
     "metadata": {},
     "output_type": "execute_result"
    },
    {
     "data": {
      "image/png": "[encoded data removed]",
      "text/plain": [
       "<Figure size 864x360 with 1 Axes>"
      ]
     },
     "metadata": {
      "needs_background": "light"
     },
     "output_type": "display_data"
    }
   ],
   "source": [
    "def create_bar_chart(year):\n",
    "    \"\"\"\n",
    "    Create a barplot based in the data argument.\n",
    "    \"\"\"\n",
    "    dwelling_types = to_data.groupby('year').sum()\n",
    "    dwelling_bar = dwelling_types.drop(columns=['average_house_value', 'shelter_costs_owned', 'shelter_costs_rented'])\n",
    "    \n",
    "    if year == 2001:\n",
    "        # Bar chart for 2001\n",
    "        \n",
    "        bar_2001 = dwelling_bar.iloc[0].plot.bar(figsize=[12,5],\n",
    "                                       color=\"blue\",\n",
    "                                       title=\"Dwelling Types in 2001\"\n",
    "                                       )\n",
    "        plt.xlabel(\"Dwelling Types\")\n",
    "        plt.ylabel(\"Dwelling Type Units\")\n",
    "    \n",
    "        return bar_2001\n",
    "\n",
    "    elif year == 2006:\n",
    "        # Bar chart for 2006\n",
    "        \n",
    "        bar_2006 = dwelling_bar.iloc[1].plot.bar(figsize=[12,5],\n",
    "                                       color=\"blue\",\n",
    "                                       title=\"Dwelling Types in 2006\"\n",
    "                                       )\n",
    "        plt.xlabel(\"Dwelling Types\")\n",
    "        plt.ylabel(\"Dwelling Type Units\")\n",
    "    \n",
    "        return bar_2006\n",
    "\n",
    "    elif year == 2011:\n",
    "        # Bar chart for 2011\n",
    "        \n",
    "        bar_2011 = dwelling_bar.iloc[2].plot.bar(figsize=[12,5],\n",
    "                                       color=\"blue\",\n",
    "                                       title=\"Dwelling Types in 2011\"\n",
    "                                       )\n",
    "        plt.xlabel(\"Dwelling Types\")\n",
    "        plt.ylabel(\"Dwelling Type Units\")\n",
    "    \n",
    "        return bar_2011\n",
    "\n",
    "    elif year == 2016:\n",
    "        # Bar chart for 2016\n",
    "        \n",
    "        bar_2016 = dwelling_bar.iloc[3].plot.bar(figsize=[12,5],\n",
    "                                       color=\"blue\",\n",
    "                                       title=\"Dwelling Types in 2016\"\n",
    "                                       )\n",
    "        plt.xlabel(\"Dwelling Types\")\n",
    "        plt.ylabel(\"Dwelling Type Units\")\n",
    "    \n",
    "        return bar_2016\n",
    "    \n",
    "create_bar_chart(2011)"
   ]
  },
  {
   "cell_type": "code",
   "execution_count": 88,
   "metadata": {},
   "outputs": [
    {
     "data": {},
     "metadata": {},
     "output_type": "display_data"
    },
    {
     "data": {
      "application/vnd.holoviews_exec.v0+json": "",
      "text/html": [
       "<div id='2588'>\n",
       "\n",
       "\n",
       "\n",
       "\n",
       "\n",
       "  <div class=\"bk-root\" id=\"fbb16e76-340c-4d4f-adc2-4cda81440974\" data-root-id=\"2588\"></div>\n",
       "</div>\n",
       "<script type=\"application/javascript\">(function(root) {\n",
       "  function embed_document(root) {\n",
       "    var docs_json = {\"21b59e72-8bf3-4558-987b-2166602bb5e5\":{\"roots\":{\"references\":[{\"attributes\":{\"end\":2016.0,\"reset_end\":2016.0,\"reset_start\":2001.0,\"start\":2001.0,\"tags\":[[[\"year\",\"year\",null]]]},\"id\":\"2590\",\"type\":\"Range1d\"},{\"attributes\":{},\"id\":\"2640\",\"type\":\"UnionRenderers\"},{\"attributes\":{\"axis\":{\"id\":\"2606\"},\"dimension\":1,\"grid_line_color\":null,\"ticker\":null},\"id\":\"2609\",\"type\":\"Grid\"},{\"attributes\":{},\"id\":\"2634\",\"type\":\"BasicTickFormatter\"},{\"attributes\":{\"active_drag\":\"auto\",\"active_inspect\":\"auto\",\"active_multi\":null,\"active_scroll\":\"auto\",\"active_tap\":\"auto\",\"tools\":[{\"id\":\"2592\"},{\"id\":\"2610\"},{\"id\":\"2611\"},{\"id\":\"2612\"},{\"id\":\"2613\"},{\"id\":\"2614\"}]},\"id\":\"2616\",\"type\":\"Toolbar\"},{\"attributes\":{\"data\":{\"shelter_costs_owned\":{\"__ndarray__\":\"UAd1UAd3ikAzMzMzM5OUQG7btm3boJZA1EEd1EGFm0A=\",\"dtype\":\"float64\",\"order\":\"little\",\"shape\":[4]},\"year\":[2001,2006,2011,2016]},\"selected\":{\"id\":\"2624\"},\"selection_policy\":{\"id\":\"2640\"}},\"id\":\"2623\",\"type\":\"ColumnDataSource\"},{\"attributes\":{\"margin\":[5,5,5,5],\"name\":\"HSpacer06412\",\"sizing_mode\":\"stretch_width\"},\"id\":\"2589\",\"type\":\"Spacer\"},{\"attributes\":{\"line_alpha\":0.1,\"line_color\":\"red\",\"line_width\":2,\"x\":{\"field\":\"year\"},\"y\":{\"field\":\"shelter_costs_owned\"}},\"id\":\"2627\",\"type\":\"Line\"},{\"attributes\":{},\"id\":\"2603\",\"type\":\"BasicTicker\"},{\"attributes\":{\"children\":[{\"id\":\"2589\"},{\"id\":\"2593\"},{\"id\":\"2651\"}],\"margin\":[0,0,0,0],\"name\":\"Row06408\",\"tags\":[\"embedded\"]},\"id\":\"2588\",\"type\":\"Row\"},{\"attributes\":{},\"id\":\"2611\",\"type\":\"PanTool\"},{\"attributes\":{\"end\":1852.7578571428571,\"reset_end\":1852.7578571428571,\"reset_start\":755.435,\"start\":755.435,\"tags\":[[[\"shelter_costs_owned\",\"shelter_costs_owned\",null]]]},\"id\":\"2591\",\"type\":\"Range1d\"},{\"attributes\":{\"axis_label\":\"year\",\"bounds\":\"auto\",\"formatter\":{\"id\":\"2632\"},\"major_label_orientation\":\"horizontal\",\"ticker\":{\"id\":\"2603\"}},\"id\":\"2602\",\"type\":\"LinearAxis\"},{\"attributes\":{\"text\":\"Average Monthly Shelter Cost for Owned Dwellings in Toronto\",\"text_color\":{\"value\":\"black\"},\"text_font_size\":{\"value\":\"12pt\"}},\"id\":\"2594\",\"type\":\"Title\"},{\"attributes\":{},\"id\":\"2624\",\"type\":\"Selection\"},{\"attributes\":{\"callback\":null,\"renderers\":[{\"id\":\"2629\"}],\"tags\":[\"hv_created\"],\"tooltips\":[[\"year\",\"@{year}\"],[\"shelter_costs_owned\",\"@{shelter_costs_owned}\"]]},\"id\":\"2592\",\"type\":\"HoverTool\"},{\"attributes\":{\"data_source\":{\"id\":\"2623\"},\"glyph\":{\"id\":\"2626\"},\"hover_glyph\":null,\"muted_glyph\":{\"id\":\"2628\"},\"nonselection_glyph\":{\"id\":\"2627\"},\"selection_glyph\":null,\"view\":{\"id\":\"2630\"}},\"id\":\"2629\",\"type\":\"GlyphRenderer\"},{\"attributes\":{},\"id\":\"2598\",\"type\":\"LinearScale\"},{\"attributes\":{\"margin\":[5,5,5,5],\"name\":\"HSpacer06413\",\"sizing_mode\":\"stretch_width\"},\"id\":\"2651\",\"type\":\"Spacer\"},{\"attributes\":{},\"id\":\"2614\",\"type\":\"ResetTool\"},{\"attributes\":{},\"id\":\"2600\",\"type\":\"LinearScale\"},{\"attributes\":{},\"id\":\"2632\",\"type\":\"BasicTickFormatter\"},{\"attributes\":{\"axis_label\":\"\",\"bounds\":\"auto\",\"formatter\":{\"id\":\"2634\"},\"major_label_orientation\":\"horizontal\",\"ticker\":{\"id\":\"2607\"}},\"id\":\"2606\",\"type\":\"LinearAxis\"},{\"attributes\":{},\"id\":\"2612\",\"type\":\"WheelZoomTool\"},{\"attributes\":{},\"id\":\"2607\",\"type\":\"BasicTicker\"},{\"attributes\":{\"source\":{\"id\":\"2623\"}},\"id\":\"2630\",\"type\":\"CDSView\"},{\"attributes\":{\"overlay\":{\"id\":\"2615\"}},\"id\":\"2613\",\"type\":\"BoxZoomTool\"},{\"attributes\":{\"line_alpha\":0.2,\"line_color\":\"red\",\"line_width\":2,\"x\":{\"field\":\"year\"},\"y\":{\"field\":\"shelter_costs_owned\"}},\"id\":\"2628\",\"type\":\"Line\"},{\"attributes\":{\"bottom_units\":\"screen\",\"fill_alpha\":0.5,\"fill_color\":\"lightgrey\",\"left_units\":\"screen\",\"level\":\"overlay\",\"line_alpha\":1.0,\"line_color\":\"black\",\"line_dash\":[4,4],\"line_width\":2,\"right_units\":\"screen\",\"top_units\":\"screen\"},\"id\":\"2615\",\"type\":\"BoxAnnotation\"},{\"attributes\":{\"axis\":{\"id\":\"2602\"},\"grid_line_color\":null,\"ticker\":null},\"id\":\"2605\",\"type\":\"Grid\"},{\"attributes\":{},\"id\":\"2610\",\"type\":\"SaveTool\"},{\"attributes\":{\"line_color\":\"red\",\"line_width\":2,\"x\":{\"field\":\"year\"},\"y\":{\"field\":\"shelter_costs_owned\"}},\"id\":\"2626\",\"type\":\"Line\"},{\"attributes\":{\"below\":[{\"id\":\"2602\"}],\"center\":[{\"id\":\"2605\"},{\"id\":\"2609\"}],\"left\":[{\"id\":\"2606\"}],\"margin\":[5,5,5,5],\"min_border_bottom\":10,\"min_border_left\":10,\"min_border_right\":10,\"min_border_top\":10,\"plot_height\":300,\"plot_width\":700,\"renderers\":[{\"id\":\"2629\"}],\"sizing_mode\":\"fixed\",\"title\":{\"id\":\"2594\"},\"toolbar\":{\"id\":\"2616\"},\"x_range\":{\"id\":\"2590\"},\"x_scale\":{\"id\":\"2598\"},\"y_range\":{\"id\":\"2591\"},\"y_scale\":{\"id\":\"2600\"}},\"id\":\"2593\",\"subtype\":\"Figure\",\"type\":\"Plot\"}],\"root_ids\":[\"2588\"]},\"title\":\"Bokeh Application\",\"version\":\"2.2.3\"}};\n",
       "    var render_items = [{\"docid\":\"21b59e72-8bf3-4558-987b-2166602bb5e5\",\"root_ids\":[\"2588\"],\"roots\":{\"2588\":\"fbb16e76-340c-4d4f-adc2-4cda81440974\"}}];\n",
       "    root.Bokeh.embed.embed_items_notebook(docs_json, render_items);\n",
       "  }\n",
       "  if (root.Bokeh !== undefined && root.Bokeh.Panel !== undefined && root['Plotly'] !== undefined ) {\n",
       "    embed_document(root);\n",
       "  } else {\n",
       "    var attempts = 0;\n",
       "    var timer = setInterval(function(root) {\n",
       "      if (root.Bokeh !== undefined && root.Bokeh.Panel !== undefined && root['Plotly'] !== undefined) {\n",
       "        clearInterval(timer);\n",
       "        embed_document(root);\n",
       "      } else if (document.readyState == \"complete\") {\n",
       "        attempts++;\n",
       "        if (attempts > 100) {\n",
       "          clearInterval(timer);\n",
       "          console.log(\"Bokeh: ERROR: Unable to run BokehJS code because BokehJS library is missing\");\n",
       "        }\n",
       "      }\n",
       "    }, 10, root)\n",
       "  }\n",
       "})(window);</script>"
      ],
      "text/plain": [
       ":Curve   [year]   (shelter_costs_owned)"
      ]
     },
     "execution_count": 88,
     "metadata": {
      "application/vnd.holoviews_exec.v0+json": {
       "id": "2588"
      }
     },
     "output_type": "execute_result"
    },
    {
     "data": {
      "text/plain": [
       "<Figure size 432x288 with 0 Axes>"
      ]
     },
     "metadata": {},
     "output_type": "display_data"
    }
   ],
   "source": [
    "def create_line_chart(type):\n",
    "    \"\"\"\n",
    "    Create a line chart based in the data argument.\n",
    "    \"\"\"\n",
    "    if type == \"rented\":\n",
    "        plt.clf()\n",
    "        rented_dwellings = avg_monthly_costs[\"shelter_costs_rented\"].hvplot.line(figsize=[12,5], \n",
    "                                                                                    color=\"red\",\n",
    "                                                                                    title=\"Average Monthly Shelter Cost for Rented Dwellings in Toronto\")\n",
    "        return rented_dwellings\n",
    "    \n",
    "    elif type == \"owned\":\n",
    "        plt.clf()\n",
    "        owned_dwellings = avg_monthly_costs[\"shelter_costs_owned\"].hvplot.line(figsize=[12,5], \n",
    "                                                                                    color=\"red\",\n",
    "                                                                                    title=\"Average Monthly Shelter Cost for Owned Dwellings in Toronto\")\n",
    "        return owned_dwellings\n",
    "    \n",
    "create_line_chart(\"owned\")"
   ]
  },
  {
   "cell_type": "code",
   "execution_count": 20,
   "metadata": {},
   "outputs": [
    {
     "data": {
      "text/plain": [
       "year\n",
       "2001    289882.885714\n",
       "2006    424059.664286\n",
       "2011    530424.721429\n",
       "2016    664068.328571\n",
       "Name: average_house_value, dtype: float64"
      ]
     },
     "execution_count": 20,
     "metadata": {},
     "output_type": "execute_result"
    },
    {
     "data": {
      "image/png": "[encoded data removed]",
      "text/plain": [
       "<Figure size 864x360 with 1 Axes>"
      ]
     },
     "metadata": {
      "needs_background": "light"
     },
     "output_type": "display_data"
    }
   ],
   "source": [
    "def average_house_value():\n",
    "    \"\"\"Average house values per year.\"\"\"\n",
    "\n",
    "    avg_housing_value = avg_monthly_costs[\"average_house_value\"]\n",
    "    avg_housing_value.plot.line(figsize=[12,5], \n",
    "                            color=\"blue\",\n",
    "                            title=\"Average House Value in Toronto\")\n",
    "    \n",
    "    return avg_housing_value\n",
    "average_house_value()    "
   ]
  },
  {
   "cell_type": "code",
   "execution_count": 34,
   "metadata": {},
   "outputs": [
    {
     "data": {
      "text/plain": [
       "<pandas.plotting._core.SeriesPlotMethods object at 0x0000027EC3B87488>"
      ]
     },
     "execution_count": 34,
     "metadata": {},
     "output_type": "execute_result"
    },
    {
     "data": {
      "image/png": "[encoded data removed]",
      "text/plain": [
       "<Figure size 864x360 with 1 Axes>"
      ]
     },
     "metadata": {
      "needs_background": "light"
     },
     "output_type": "display_data"
    }
   ],
   "source": [
    "def average_value_by_neighbourhood():\n",
    "    \"\"\"Average house values by neighbourhood.\"\"\"\n",
    "\n",
    "    avg_neighbourhood_value = avg_monthly_costs[\"average_house_value\"]\n",
    "    avg_neighbourhood_value.plot.line(figsize=[12,5], \n",
    "                            color=\"blue\",\n",
    "                            title=\"Average House Value per Neighbourhood\")\n",
    "    \n",
    "    return avg_neighbourhood_value.plot\n",
    "average_value_by_neighbourhood()\n",
    "    \n",
    "    \n"
   ]
  },
  {
   "cell_type": "code",
   "execution_count": 22,
   "metadata": {},
   "outputs": [
    {
     "data": {},
     "metadata": {},
     "output_type": "display_data"
    },
    {
     "data": {
      "application/vnd.holoviews_exec.v0+json": "",
      "text/html": [
       "<div id='1243'>\n",
       "\n",
       "\n",
       "\n",
       "\n",
       "\n",
       "  <div class=\"bk-root\" id=\"f5c15804-a635-4646-ba7c-8c3e47b9cdbd\" data-root-id=\"1243\"></div>\n",
       "</div>\n",
       "<script type=\"application/javascript\">(function(root) {\n",
       "  function embed_document(root) {\n",
       "    var docs_json = {\"e9afb879-1dc8-49f2-8c0b-1f54709e722c\":{\"roots\":{\"references\":[{\"attributes\":{\"overlay\":{\"id\":\"1269\"}},\"id\":\"1267\",\"type\":\"BoxZoomTool\"},{\"attributes\":{\"margin\":[5,5,5,5],\"name\":\"VSpacer02159\",\"sizing_mode\":\"stretch_height\"},\"id\":\"1315\",\"type\":\"Spacer\"},{\"attributes\":{},\"id\":\"1268\",\"type\":\"ResetTool\"},{\"attributes\":{\"fill_alpha\":{\"value\":0.1},\"fill_color\":{\"field\":\"Variable\",\"transform\":{\"id\":\"1277\"}},\"line_alpha\":{\"value\":0.1},\"top\":{\"field\":\"value\"},\"width\":{\"value\":0.8},\"x\":{\"field\":\"xoffsets\"}},\"id\":\"1282\",\"type\":\"VBar\"},{\"attributes\":{\"axis\":{\"id\":\"1257\"},\"grid_line_color\":null,\"ticker\":null},\"id\":\"1259\",\"type\":\"Grid\"},{\"attributes\":{},\"id\":\"1255\",\"type\":\"LinearScale\"},{\"attributes\":{\"axis_label\":\"year, Variable\",\"bounds\":\"auto\",\"formatter\":{\"id\":\"1286\"},\"major_label_orientation\":1.5707963267948966,\"ticker\":{\"id\":\"1258\"}},\"id\":\"1257\",\"type\":\"CategoricalAxis\"},{\"attributes\":{\"source\":{\"id\":\"1278\"}},\"id\":\"1285\",\"type\":\"CDSView\"},{\"attributes\":{\"end\":4086.5,\"reset_end\":4086.5,\"reset_start\":0.0,\"tags\":[[[\"value\",\"value\",null]]]},\"id\":\"1246\",\"type\":\"Range1d\"},{\"attributes\":{\"margin\":[5,5,5,5],\"name\":\"HSpacer02161\",\"sizing_mode\":\"stretch_width\"},\"id\":\"1244\",\"type\":\"Spacer\"},{\"attributes\":{\"axis_label\":\"\",\"bounds\":\"auto\",\"formatter\":{\"id\":\"1289\"},\"major_label_orientation\":\"horizontal\",\"ticker\":{\"id\":\"1261\"}},\"id\":\"1260\",\"type\":\"LinearAxis\"},{\"attributes\":{\"factors\":[[\"2001\",\"other_house\"],[\"2001\",\"apartment_five_storeys_less\"],[\"2001\",\"duplex\"],[\"2001\",\"row_house\"],[\"2001\",\"semi_detached_house\"],[\"2001\",\"movable_dwelling\"],[\"2001\",\"apartment_five_storeys_plus\"],[\"2001\",\"single_detached_house\"],[\"2006\",\"other_house\"],[\"2006\",\"apartment_five_storeys_less\"],[\"2006\",\"duplex\"],[\"2006\",\"row_house\"],[\"2006\",\"semi_detached_house\"],[\"2006\",\"movable_dwelling\"],[\"2006\",\"apartment_five_storeys_plus\"],[\"2006\",\"single_detached_house\"],[\"2011\",\"other_house\"],[\"2011\",\"apartment_five_storeys_less\"],[\"2011\",\"duplex\"],[\"2011\",\"row_house\"],[\"2011\",\"semi_detached_house\"],[\"2011\",\"movable_dwelling\"],[\"2011\",\"apartment_five_storeys_plus\"],[\"2011\",\"single_detached_house\"],[\"2016\",\"other_house\"],[\"2016\",\"apartment_five_storeys_less\"],[\"2016\",\"duplex\"],[\"2016\",\"row_house\"],[\"2016\",\"semi_detached_house\"],[\"2016\",\"movable_dwelling\"],[\"2016\",\"apartment_five_storeys_plus\"],[\"2016\",\"single_detached_house\"]],\"tags\":[[[\"year\",\"year\",null],[\"Variable\",\"Variable\",null]]]},\"id\":\"1245\",\"type\":\"FactorRange\"},{\"attributes\":{\"margin\":[20,20,20,20],\"min_width\":250,\"options\":[\"Agincourt North\",\"Agincourt South-Malvern West\",\"Alderwood\",\"Annex\",\"Banbury-Don Mills\",\"Bathurst Manor\",\"Bay Street Corridor\",\"Bayview Village\",\"Bayview Woods-Steeles\",\"Bedford Park-Nortown\",\"Beechborough-Greenbrook\",\"Bendale\",\"Birchcliffe-Cliffside\",\"Black Creek\",\"Blake-Jones\",\"Briar Hill-Belgravia\",\"Bridle Path-Sunnybrook-York Mills\",\"Broadview North\",\"Brookhaven-Amesbury\",\"Cabbagetown-South St.James Town\",\"Caledonia-Fairbank\",\"Casa Loma\",\"Centennial Scarborough\",\"Church-Yonge Corridor\",\"Clairlea-Birchmount\",\"Clanton Park\",\"Cliffcrest\",\"Corso Italia-Davenport\",\"Danforth\",\"Danforth-East York\",\"Don Valley Village\",\"Dorset Park\",\"Dovercourt-Wallace Emerson-Juncti\",\"Downsview-Roding-CFB\",\"Dufferin Grove\",\"East End-Danforth\",\"Edenbridge-Humber Valley\",\"Eglinton East\",\"Elms-Old Rexdale\",\"Englemount-Lawrence\",\"Eringate-Centennial-West Deane\",\"Etobicoke West Mall\",\"Flemingdon Park\",\"Forest Hill North\",\"Forest Hill South\",\"Glenfield-Jane Heights\",\"Greenwood-Coxwell\",\"Guildwood\",\"Henry Farm\",\"High Park North\",\"High Park-Swansea\",\"Highland Creek\",\"Hillcrest Village\",\"Humber Heights-Westmount\",\"Humber Summit\",\"Humbermede\",\"Humewood-Cedarvale\",\"Ionview\",\"Islington-City Centre West\",\"Junction Area\",\"Keelesdale-Eglinton West\",\"Kennedy Park\",\"Kensington-Chinatown\",\"Kingsview Village-The Westway\",\"Kingsway South\",\"L'Amoreaux\",\"Lambton Baby Point\",\"Lansing-Westgate\",\"Lawrence Park North\",\"Lawrence Park South\",\"Leaside-Bennington\",\"Little Portugal\",\"Long Branch\",\"Malvern\",\"Maple Leaf\",\"Markland Wood\",\"Milliken\",\"Mimico\",\"Morningside\",\"Moss Park\",\"Mount Dennis\",\"Mount Olive-Silverstone-Jamestown\",\"Mount Pleasant East\",\"Mount Pleasant West\",\"New Toronto\",\"Newtonbrook East\",\"Newtonbrook West\",\"Niagara\",\"North Riverdale\",\"North St.James Town\",\"O'Connor-Parkview\",\"Oakridge\",\"Oakwood Village\",\"Old East York\",\"Palmerston-Little Italy\",\"Parkwoods-Donalda\",\"Pelmo Park-Humberlea\",\"Playter Estates-Danforth\",\"Pleasant View\",\"Princess-Rosethorn\",\"Regent Park\",\"Rexdale-Kipling\",\"Rockcliffe-Smythe\",\"Roncesvalles\",\"Rosedale-Moore Park\",\"Rouge\",\"Runnymede-Bloor West Village\",\"Rustic\",\"Scarborough Village\",\"South Parkdale\",\"South Riverdale\",\"St.Andrew-Windfields\",\"Steeles\",\"Stonegate-Queensway\",\"Tam O'Shanter-Sullivan\",\"Taylor-Massey\",\"The Beaches\",\"Thistletown-Beaumond Heights\",\"Thorncliffe Park\",\"Trinity-Bellwoods\",\"University\",\"Victoria Village\",\"Waterfront Communities-The Island\",\"West Hill\",\"West Humber-Clairville\",\"Westminster-Branson\",\"Weston\",\"Weston-Pellam Park\",\"Wexford/Maryvale\",\"Willowdale East\",\"Willowdale West\",\"Willowridge-Martingrove-Richview\",\"Woburn\",\"Woodbine Corridor\",\"Woodbine-Lumsden\",\"Wychwood\",\"Yonge-Eglinton\",\"Yonge-St.Clair\",\"York University Heights\",\"Yorkdale-Glen Park\"],\"title\":\"neighbourhood\",\"value\":\"Agincourt North\",\"width\":250},\"id\":\"1314\",\"type\":\"Select\"},{\"attributes\":{},\"id\":\"1299\",\"type\":\"UnionRenderers\"},{\"attributes\":{\"children\":[{\"id\":\"1312\"},{\"id\":\"1313\"},{\"id\":\"1315\"}],\"margin\":[0,0,0,0],\"name\":\"Column02160\"},\"id\":\"1311\",\"type\":\"Column\"},{\"attributes\":{},\"id\":\"1279\",\"type\":\"Selection\"},{\"attributes\":{},\"id\":\"1261\",\"type\":\"BasicTicker\"},{\"attributes\":{},\"id\":\"1286\",\"type\":\"CategoricalTickFormatter\"},{\"attributes\":{\"axis\":{\"id\":\"1260\"},\"dimension\":1,\"grid_line_color\":null,\"ticker\":null},\"id\":\"1263\",\"type\":\"Grid\"},{\"attributes\":{},\"id\":\"1253\",\"type\":\"CategoricalScale\"},{\"attributes\":{\"client_comm_id\":\"b07e454ee42f41e0ac3ba6288a30d4b2\",\"comm_id\":\"a9ee3c234ff446d78ec5e4061118a26d\",\"plot_id\":\"1243\"},\"id\":\"1340\",\"type\":\"panel.models.comm_manager.CommManager\"},{\"attributes\":{\"children\":[{\"id\":\"1244\"},{\"id\":\"1248\"},{\"id\":\"1310\"},{\"id\":\"1311\"}],\"margin\":[0,0,0,0],\"name\":\"Row02152\"},\"id\":\"1243\",\"type\":\"Row\"},{\"attributes\":{\"callback\":null,\"renderers\":[{\"id\":\"1284\"}],\"tags\":[\"hv_created\"],\"tooltips\":[[\"year\",\"@{year}\"],[\"Variable\",\"@{Variable}\"],[\"value\",\"@{value}\"]]},\"id\":\"1247\",\"type\":\"HoverTool\"},{\"attributes\":{\"margin\":[5,5,5,5],\"name\":\"VSpacer02158\",\"sizing_mode\":\"stretch_height\"},\"id\":\"1312\",\"type\":\"Spacer\"},{\"attributes\":{\"children\":[{\"id\":\"1314\"}],\"css_classes\":[\"panel-widget-box\"],\"margin\":[5,5,5,5],\"name\":\"WidgetBox02153\"},\"id\":\"1313\",\"type\":\"Column\"},{\"attributes\":{\"active_drag\":\"auto\",\"active_inspect\":\"auto\",\"active_multi\":null,\"active_scroll\":\"auto\",\"active_tap\":\"auto\",\"tools\":[{\"id\":\"1247\"},{\"id\":\"1264\"},{\"id\":\"1265\"},{\"id\":\"1266\"},{\"id\":\"1267\"},{\"id\":\"1268\"}]},\"id\":\"1270\",\"type\":\"Toolbar\"},{\"attributes\":{\"bottom_units\":\"screen\",\"fill_alpha\":0.5,\"fill_color\":\"lightgrey\",\"left_units\":\"screen\",\"level\":\"overlay\",\"line_alpha\":1.0,\"line_color\":\"black\",\"line_dash\":[4,4],\"line_width\":2,\"right_units\":\"screen\",\"top_units\":\"screen\"},\"id\":\"1269\",\"type\":\"BoxAnnotation\"},{\"attributes\":{\"fill_color\":{\"field\":\"Variable\",\"transform\":{\"id\":\"1277\"}},\"top\":{\"field\":\"value\"},\"width\":{\"value\":0.8},\"x\":{\"field\":\"xoffsets\"}},\"id\":\"1281\",\"type\":\"VBar\"},{\"attributes\":{\"factors\":[\"single_detached_house\",\"apartment_five_storeys_plus\",\"movable_dwelling\",\"semi_detached_house\",\"row_house\",\"duplex\",\"apartment_five_storeys_less\",\"other_house\"],\"palette\":[\"#30a2da\",\"#fc4f30\",\"#e5ae38\",\"#6d904f\",\"#8b8b8b\",\"#17becf\",\"#9467bd\",\"#d62728\"]},\"id\":\"1277\",\"type\":\"CategoricalColorMapper\"},{\"attributes\":{},\"id\":\"1289\",\"type\":\"BasicTickFormatter\"},{\"attributes\":{\"data_source\":{\"id\":\"1278\"},\"glyph\":{\"id\":\"1281\"},\"hover_glyph\":null,\"muted_glyph\":{\"id\":\"1283\"},\"nonselection_glyph\":{\"id\":\"1282\"},\"selection_glyph\":null,\"view\":{\"id\":\"1285\"}},\"id\":\"1284\",\"type\":\"GlyphRenderer\"},{\"attributes\":{\"text\":\"Number of Dwelling Types per Year\",\"text_color\":{\"value\":\"black\"},\"text_font_size\":{\"value\":\"12pt\"}},\"id\":\"1249\",\"type\":\"Title\"},{\"attributes\":{\"below\":[{\"id\":\"1257\"}],\"center\":[{\"id\":\"1259\"},{\"id\":\"1263\"}],\"left\":[{\"id\":\"1260\"}],\"margin\":[5,5,5,5],\"min_border_bottom\":10,\"min_border_left\":10,\"min_border_right\":10,\"min_border_top\":10,\"plot_height\":500,\"plot_width\":500,\"renderers\":[{\"id\":\"1284\"}],\"sizing_mode\":\"fixed\",\"title\":{\"id\":\"1249\"},\"toolbar\":{\"id\":\"1270\"},\"x_range\":{\"id\":\"1245\"},\"x_scale\":{\"id\":\"1253\"},\"y_range\":{\"id\":\"1246\"},\"y_scale\":{\"id\":\"1255\"}},\"id\":\"1248\",\"subtype\":\"Figure\",\"type\":\"Plot\"},{\"attributes\":{},\"id\":\"1264\",\"type\":\"SaveTool\"},{\"attributes\":{\"data\":{\"Variable\":[\"single_detached_house\",\"single_detached_house\",\"single_detached_house\",\"single_detached_house\",\"apartment_five_storeys_plus\",\"apartment_five_storeys_plus\",\"apartment_five_storeys_plus\",\"apartment_five_storeys_plus\",\"movable_dwelling\",\"movable_dwelling\",\"movable_dwelling\",\"movable_dwelling\",\"semi_detached_house\",\"semi_detached_house\",\"semi_detached_house\",\"semi_detached_house\",\"row_house\",\"row_house\",\"row_house\",\"row_house\",\"duplex\",\"duplex\",\"duplex\",\"duplex\",\"apartment_five_storeys_less\",\"apartment_five_storeys_less\",\"apartment_five_storeys_less\",\"apartment_five_storeys_less\",\"other_house\",\"other_house\",\"other_house\",\"other_house\"],\"value\":[3715,3295,3385,3345,1480,2060,2130,2120,0,0,5,5,1055,775,820,805,1295,1425,1465,1440,195,600,610,645,185,565,705,735,5,0,20,15],\"xoffsets\":[[\"2001\",\"single_detached_house\"],[\"2006\",\"single_detached_house\"],[\"2011\",\"single_detached_house\"],[\"2016\",\"single_detached_house\"],[\"2001\",\"apartment_five_storeys_plus\"],[\"2006\",\"apartment_five_storeys_plus\"],[\"2011\",\"apartment_five_storeys_plus\"],[\"2016\",\"apartment_five_storeys_plus\"],[\"2001\",\"movable_dwelling\"],[\"2006\",\"movable_dwelling\"],[\"2011\",\"movable_dwelling\"],[\"2016\",\"movable_dwelling\"],[\"2001\",\"semi_detached_house\"],[\"2006\",\"semi_detached_house\"],[\"2011\",\"semi_detached_house\"],[\"2016\",\"semi_detached_house\"],[\"2001\",\"row_house\"],[\"2006\",\"row_house\"],[\"2011\",\"row_house\"],[\"2016\",\"row_house\"],[\"2001\",\"duplex\"],[\"2006\",\"duplex\"],[\"2011\",\"duplex\"],[\"2016\",\"duplex\"],[\"2001\",\"apartment_five_storeys_less\"],[\"2006\",\"apartment_five_storeys_less\"],[\"2011\",\"apartment_five_storeys_less\"],[\"2016\",\"apartment_five_storeys_less\"],[\"2001\",\"other_house\"],[\"2006\",\"other_house\"],[\"2011\",\"other_house\"],[\"2016\",\"other_house\"]],\"year\":[\"2001\",\"2006\",\"2011\",\"2016\",\"2001\",\"2006\",\"2011\",\"2016\",\"2001\",\"2006\",\"2011\",\"2016\",\"2001\",\"2006\",\"2011\",\"2016\",\"2001\",\"2006\",\"2011\",\"2016\",\"2001\",\"2006\",\"2011\",\"2016\",\"2001\",\"2006\",\"2011\",\"2016\",\"2001\",\"2006\",\"2011\",\"2016\"]},\"selected\":{\"id\":\"1279\"},\"selection_policy\":{\"id\":\"1299\"}},\"id\":\"1278\",\"type\":\"ColumnDataSource\"},{\"attributes\":{},\"id\":\"1265\",\"type\":\"PanTool\"},{\"attributes\":{\"margin\":[5,5,5,5],\"name\":\"HSpacer02162\",\"sizing_mode\":\"stretch_width\"},\"id\":\"1310\",\"type\":\"Spacer\"},{\"attributes\":{\"fill_alpha\":{\"value\":0.2},\"fill_color\":{\"field\":\"Variable\",\"transform\":{\"id\":\"1277\"}},\"line_alpha\":{\"value\":0.2},\"top\":{\"field\":\"value\"},\"width\":{\"value\":0.8},\"x\":{\"field\":\"xoffsets\"}},\"id\":\"1283\",\"type\":\"VBar\"},{\"attributes\":{},\"id\":\"1266\",\"type\":\"WheelZoomTool\"},{\"attributes\":{},\"id\":\"1258\",\"type\":\"CategoricalTicker\"}],\"root_ids\":[\"1243\",\"1340\"]},\"title\":\"Bokeh Application\",\"version\":\"2.2.3\"}};\n",
       "    var render_items = [{\"docid\":\"e9afb879-1dc8-49f2-8c0b-1f54709e722c\",\"root_ids\":[\"1243\"],\"roots\":{\"1243\":\"f5c15804-a635-4646-ba7c-8c3e47b9cdbd\"}}];\n",
       "    root.Bokeh.embed.embed_items_notebook(docs_json, render_items);\n",
       "  }\n",
       "  if (root.Bokeh !== undefined && root.Bokeh.Panel !== undefined && root['Plotly'] !== undefined ) {\n",
       "    embed_document(root);\n",
       "  } else {\n",
       "    var attempts = 0;\n",
       "    var timer = setInterval(function(root) {\n",
       "      if (root.Bokeh !== undefined && root.Bokeh.Panel !== undefined && root['Plotly'] !== undefined) {\n",
       "        clearInterval(timer);\n",
       "        embed_document(root);\n",
       "      } else if (document.readyState == \"complete\") {\n",
       "        attempts++;\n",
       "        if (attempts > 100) {\n",
       "          clearInterval(timer);\n",
       "          console.log(\"Bokeh: ERROR: Unable to run BokehJS code because BokehJS library is missing\");\n",
       "        }\n",
       "      }\n",
       "    }, 10, root)\n",
       "  }\n",
       "})(window);</script>"
      ],
      "text/plain": [
       ":DynamicMap   [neighbourhood]\n",
       "   :Bars   [year,Variable]   (value)"
      ]
     },
     "execution_count": 22,
     "metadata": {
      "application/vnd.holoviews_exec.v0+json": {
       "id": "1243"
      }
     },
     "output_type": "execute_result"
    }
   ],
   "source": [
    "def number_dwelling_types():\n",
    "    \"\"\"Number of dwelling types per year\"\"\"\n",
    "    \n",
    "    dwellings_types = to_data.drop(columns=[\"average_house_value\", \"shelter_costs_owned\", \"shelter_costs_rented\"])\n",
    "    dwellings_types_neighbourhood_plot = dwellings_types.hvplot.bar(\"year\", groupby=\"neighbourhood\", title=\"Number of Dwelling Types per Year\", width= 500, height = 500, rot=90)\n",
    "    \n",
    "    return dwellings_types_neighbourhood_plot\n",
    "number_dwelling_types()"
   ]
  },
  {
   "cell_type": "code",
   "execution_count": 23,
   "metadata": {},
   "outputs": [
    {
     "data": {},
     "metadata": {},
     "output_type": "display_data"
    },
    {
     "data": {
      "application/vnd.holoviews_exec.v0+json": "",
      "text/html": [
       "<div id='1381'>\n",
       "\n",
       "\n",
       "\n",
       "\n",
       "\n",
       "  <div class=\"bk-root\" id=\"9f7abf6c-737e-4e1f-9e16-a3c4c64c41af\" data-root-id=\"1381\"></div>\n",
       "</div>\n",
       "<script type=\"application/javascript\">(function(root) {\n",
       "  function embed_document(root) {\n",
       "    var docs_json = {\"164699d9-0e3b-467c-975e-514722901823\":{\"roots\":{\"references\":[{\"attributes\":{\"axis\":{\"id\":\"1395\"},\"grid_line_color\":null,\"ticker\":null},\"id\":\"1397\",\"type\":\"Grid\"},{\"attributes\":{\"overlay\":{\"id\":\"1407\"}},\"id\":\"1405\",\"type\":\"BoxZoomTool\"},{\"attributes\":{},\"id\":\"1404\",\"type\":\"WheelZoomTool\"},{\"attributes\":{\"bottom_units\":\"screen\",\"fill_alpha\":0.5,\"fill_color\":\"lightgrey\",\"left_units\":\"screen\",\"level\":\"overlay\",\"line_alpha\":1.0,\"line_color\":\"black\",\"line_dash\":[4,4],\"line_width\":2,\"right_units\":\"screen\",\"top_units\":\"screen\"},\"id\":\"1407\",\"type\":\"BoxAnnotation\"},{\"attributes\":{\"axis_label\":\"neighbourhood\",\"bounds\":\"auto\",\"formatter\":{\"id\":\"1423\"},\"major_label_orientation\":1.5707963267948966,\"ticker\":{\"id\":\"1396\"}},\"id\":\"1395\",\"type\":\"CategoricalAxis\"},{\"attributes\":{},\"id\":\"1406\",\"type\":\"ResetTool\"},{\"attributes\":{\"margin\":[5,5,5,5],\"name\":\"HSpacer02700\",\"sizing_mode\":\"stretch_width\"},\"id\":\"1382\",\"type\":\"Spacer\"},{\"attributes\":{\"active_drag\":\"auto\",\"active_inspect\":\"auto\",\"active_multi\":null,\"active_scroll\":\"auto\",\"active_tap\":\"auto\",\"tools\":[{\"id\":\"1385\"},{\"id\":\"1402\"},{\"id\":\"1403\"},{\"id\":\"1404\"},{\"id\":\"1405\"},{\"id\":\"1406\"}]},\"id\":\"1408\",\"type\":\"Toolbar\"},{\"attributes\":{},\"id\":\"1423\",\"type\":\"CategoricalTickFormatter\"},{\"attributes\":{\"children\":[{\"id\":\"1382\"},{\"id\":\"1386\"},{\"id\":\"1443\"}],\"margin\":[0,0,0,0],\"name\":\"Row02696\",\"tags\":[\"embedded\"]},\"id\":\"1381\",\"type\":\"Row\"},{\"attributes\":{\"axis_label\":\"average house value\",\"bounds\":\"auto\",\"formatter\":{\"id\":\"1426\"},\"major_label_orientation\":\"horizontal\",\"ticker\":{\"id\":\"1399\"}},\"id\":\"1398\",\"type\":\"LinearAxis\"},{\"attributes\":{\"data_source\":{\"id\":\"1415\"},\"glyph\":{\"id\":\"1418\"},\"hover_glyph\":null,\"muted_glyph\":{\"id\":\"1420\"},\"nonselection_glyph\":{\"id\":\"1419\"},\"selection_glyph\":null,\"view\":{\"id\":\"1422\"}},\"id\":\"1421\",\"type\":\"GlyphRenderer\"},{\"attributes\":{},\"id\":\"1393\",\"type\":\"LinearScale\"},{\"attributes\":{},\"id\":\"1399\",\"type\":\"BasicTicker\"},{\"attributes\":{\"margin\":[5,5,5,5],\"name\":\"HSpacer02701\",\"sizing_mode\":\"stretch_width\"},\"id\":\"1443\",\"type\":\"Spacer\"},{\"attributes\":{\"axis\":{\"id\":\"1398\"},\"dimension\":1,\"grid_line_color\":null,\"ticker\":null},\"id\":\"1401\",\"type\":\"Grid\"},{\"attributes\":{},\"id\":\"1391\",\"type\":\"CategoricalScale\"},{\"attributes\":{\"fill_alpha\":{\"value\":0.2},\"fill_color\":{\"value\":\"#30a2da\"},\"line_alpha\":{\"value\":0.2},\"top\":{\"field\":\"average_house_value\"},\"width\":{\"value\":0.8},\"x\":{\"field\":\"neighbourhood\"}},\"id\":\"1420\",\"type\":\"VBar\"},{\"attributes\":{\"fill_alpha\":{\"value\":0.1},\"fill_color\":{\"value\":\"#30a2da\"},\"line_alpha\":{\"value\":0.1},\"top\":{\"field\":\"average_house_value\"},\"width\":{\"value\":0.8},\"x\":{\"field\":\"neighbourhood\"}},\"id\":\"1419\",\"type\":\"VBar\"},{\"attributes\":{\"below\":[{\"id\":\"1395\"}],\"center\":[{\"id\":\"1397\"},{\"id\":\"1401\"}],\"left\":[{\"id\":\"1398\"}],\"margin\":[5,5,5,5],\"min_border_bottom\":10,\"min_border_left\":10,\"min_border_right\":10,\"min_border_top\":10,\"plot_height\":400,\"plot_width\":650,\"renderers\":[{\"id\":\"1421\"}],\"sizing_mode\":\"fixed\",\"title\":{\"id\":\"1387\"},\"toolbar\":{\"id\":\"1408\"},\"x_range\":{\"id\":\"1383\"},\"x_scale\":{\"id\":\"1391\"},\"y_range\":{\"id\":\"1384\"},\"y_scale\":{\"id\":\"1393\"}},\"id\":\"1386\",\"subtype\":\"Figure\",\"type\":\"Plot\"},{\"attributes\":{},\"id\":\"1432\",\"type\":\"UnionRenderers\"},{\"attributes\":{\"fill_color\":{\"value\":\"#30a2da\"},\"top\":{\"field\":\"average_house_value\"},\"width\":{\"value\":0.8},\"x\":{\"field\":\"neighbourhood\"}},\"id\":\"1418\",\"type\":\"VBar\"},{\"attributes\":{\"callback\":null,\"renderers\":[{\"id\":\"1421\"}],\"tags\":[\"hv_created\"],\"tooltips\":[[\"neighbourhood\",\"@{neighbourhood}\"],[\"average_house_value\",\"@{average_house_value}\"]]},\"id\":\"1385\",\"type\":\"HoverTool\"},{\"attributes\":{\"text\":\"Top Ten Most Expensive Neighbourhoods\",\"text_color\":{\"value\":\"black\"},\"text_font_size\":{\"value\":\"12pt\"}},\"id\":\"1387\",\"type\":\"Title\"},{\"attributes\":{\"factors\":[\"Bridle Path-Sunnybrook-York Mills\",\"Forest Hill South\",\"Lawrence Park South\",\"Rosedale-Moore Park\",\"St.Andrew-Windfields\",\"Casa Loma\",\"Bedford Park-Nortown\",\"Forest Hill North\",\"Kingsway South\",\"Yonge-St.Clair\"],\"tags\":[[[\"neighbourhood\",\"neighbourhood\",null]]]},\"id\":\"1383\",\"type\":\"FactorRange\"},{\"attributes\":{},\"id\":\"1403\",\"type\":\"PanTool\"},{\"attributes\":{},\"id\":\"1416\",\"type\":\"Selection\"},{\"attributes\":{},\"id\":\"1396\",\"type\":\"CategoricalTicker\"},{\"attributes\":{\"end\":1597812.3,\"reset_end\":1597812.3,\"reset_start\":0.0,\"tags\":[[[\"average_house_value\",\"average_house_value\",null]]]},\"id\":\"1384\",\"type\":\"Range1d\"},{\"attributes\":{\"source\":{\"id\":\"1415\"}},\"id\":\"1422\",\"type\":\"CDSView\"},{\"attributes\":{},\"id\":\"1426\",\"type\":\"BasicTickFormatter\"},{\"attributes\":{},\"id\":\"1402\",\"type\":\"SaveTool\"},{\"attributes\":{\"data\":{\"average_house_value\":{\"__ndarray__\":\"AAAAwNVKN0EAAACA2D8yQQAAAMCLsTBBAAAAAAiwMEEAAAAAhn0uQQAAAICQ8C1BAAAAgN5kLEEAAAAAwf0pQQAAAIDEuylBAAAAgEjRKEE=\",\"dtype\":\"float64\",\"order\":\"little\",\"shape\":[10]},\"neighbourhood\":[\"Bridle Path-Sunnybrook-York Mills\",\"Forest Hill South\",\"Lawrence Park South\",\"Rosedale-Moore Park\",\"St.Andrew-Windfields\",\"Casa Loma\",\"Bedford Park-Nortown\",\"Forest Hill North\",\"Kingsway South\",\"Yonge-St.Clair\"]},\"selected\":{\"id\":\"1416\"},\"selection_policy\":{\"id\":\"1432\"}},\"id\":\"1415\",\"type\":\"ColumnDataSource\"}],\"root_ids\":[\"1381\"]},\"title\":\"Bokeh Application\",\"version\":\"2.2.3\"}};\n",
       "    var render_items = [{\"docid\":\"164699d9-0e3b-467c-975e-514722901823\",\"root_ids\":[\"1381\"],\"roots\":{\"1381\":\"9f7abf6c-737e-4e1f-9e16-a3c4c64c41af\"}}];\n",
       "    root.Bokeh.embed.embed_items_notebook(docs_json, render_items);\n",
       "  }\n",
       "  if (root.Bokeh !== undefined && root.Bokeh.Panel !== undefined && root['Plotly'] !== undefined ) {\n",
       "    embed_document(root);\n",
       "  } else {\n",
       "    var attempts = 0;\n",
       "    var timer = setInterval(function(root) {\n",
       "      if (root.Bokeh !== undefined && root.Bokeh.Panel !== undefined && root['Plotly'] !== undefined) {\n",
       "        clearInterval(timer);\n",
       "        embed_document(root);\n",
       "      } else if (document.readyState == \"complete\") {\n",
       "        attempts++;\n",
       "        if (attempts > 100) {\n",
       "          clearInterval(timer);\n",
       "          console.log(\"Bokeh: ERROR: Unable to run BokehJS code because BokehJS library is missing\");\n",
       "        }\n",
       "      }\n",
       "    }, 10, root)\n",
       "  }\n",
       "})(window);</script>"
      ],
      "text/plain": [
       ":Bars   [neighbourhood]   (average_house_value)"
      ]
     },
     "execution_count": 23,
     "metadata": {
      "application/vnd.holoviews_exec.v0+json": {
       "id": "1381"
      }
     },
     "output_type": "execute_result"
    }
   ],
   "source": [
    "def top_most_expensive_neighbourhoods():\n",
    "    \"\"\"Top 10 most expensive neighbourhoods.\"\"\"\n",
    "    \n",
    "    ten_most_expensive_plot = ten_most_expensive['average_house_value'].head(10).hvplot.bar(\n",
    "        ylabel='average house value',\n",
    "        xlabel='neighbourhood',\n",
    "        label='Top Ten Most Expensive Neighbourhoods',\n",
    "        rot=90,\n",
    "        height=400,\n",
    "        width=650,\n",
    "    \n",
    "    )\n",
    "    \n",
    "    return ten_most_expensive_plot\n",
    "top_most_expensive_neighbourhoods()"
   ]
  },
  {
   "cell_type": "code",
   "execution_count": 105,
   "metadata": {},
   "outputs": [
    {
     "data": {},
     "metadata": {},
     "output_type": "display_data"
    },
    {
     "data": {},
     "metadata": {},
     "output_type": "display_data"
    },
    {
     "data": {
      "application/vnd.holoviews_exec.v0+json": "",
      "text/html": [
       "<div id='3005'>\n",
       "\n",
       "\n",
       "\n",
       "\n",
       "\n",
       "  <div class=\"bk-root\" id=\"75ce1db0-cdbc-4fa6-8884-fff3a7fff415\" data-root-id=\"3005\"></div>\n",
       "</div>\n",
       "<script type=\"application/javascript\">(function(root) {\n",
       "  function embed_document(root) {\n",
       "    var docs_json = {\"fd85e4cb-6d21-4f45-ada1-4f13473f3ee4\":{\"roots\":{\"references\":[{\"attributes\":{\"children\":[{\"id\":\"3109\"},{\"id\":\"3110\"}],\"margin\":[0,0,0,0],\"name\":\"Column08237\"},\"id\":\"3108\",\"type\":\"Column\"},{\"attributes\":{\"margin\":[0,0,0,0],\"name\":\"Column08169\"},\"id\":\"3011\",\"type\":\"Column\"},{\"attributes\":{},\"id\":\"3073\",\"type\":\"BasicTickFormatter\"},{\"attributes\":{\"margin\":[0,0,0,0],\"name\":\"Column08223\"},\"id\":\"3026\",\"type\":\"Column\"},{\"attributes\":{\"_render_count\":0,\"config\":null,\"data\":[{\"hovertemplate\":\"<b>%{hovertext}</b><br><br>average_house_value=%{marker.color}<br>lat=%{lat}<br>lon=%{lon}<br>single_detached_house=%{customdata[0]}<br>apartment_five_storeys_plus=%{customdata[1]}<br>movable_dwelling=%{customdata[2]}<br>semi_detached_house=%{customdata[3]}<br>row_house=%{customdata[4]}<br>duplex=%{customdata[5]}<br>apartment_five_storeys_less=%{customdata[6]}<br>other_house=%{customdata[7]}<extra></extra>\",\"legendgroup\":\"\",\"marker\":{\"coloraxis\":\"coloraxis\",\"sizemode\":\"area\",\"sizeref\":3816.214375},\"mode\":\"markers\",\"name\":\"\",\"showlegend\":false,\"subplot\":\"mapbox\",\"type\":\"scattermapbox\"}],\"data_sources\":[{\"id\":\"3013\"}],\"layout\":{\"coloraxis\":{\"colorbar\":{\"title\":{\"text\":\"average_house_value\"}},\"colorscale\":[[0.0,\"#0d0887\"],[0.1111111111111111,\"#46039f\"],[0.2222222222222222,\"#7201a8\"],[0.3333333333333333,\"#9c179e\"],[0.4444444444444444,\"#bd3786\"],[0.5555555555555556,\"#d8576b\"],[0.6666666666666666,\"#ed7953\"],[0.7777777777777778,\"#fb9f3a\"],[0.8888888888888888,\"#fdca26\"],[1.0,\"#f0f921\"]]},\"legend\":{\"itemsizing\":\"constant\",\"tracegroupgap\":0},\"mapbox\":{\"accesstoken\":\"eyJ1IjoibW5pdGNob3YiLCJhIjoiY2ttODJjeDFxMTQwMzJwcnRyMHd5czZsMyJ9.k-lXDyjYFVJ9YXarv1JShg\",\"center\":{\"lat\":43.708840577642846,\"lon\":-79.4001855035},\"domain\":{\"x\":[0.0,1.0],\"y\":[0.0,1.0]},\"zoom\":8},\"template\":{\"data\":{\"bar\":[{\"error_x\":{\"color\":\"#2a3f5f\"},\"error_y\":{\"color\":\"#2a3f5f\"},\"marker\":{\"line\":{\"color\":\"#E5ECF6\",\"width\":0.5}},\"type\":\"bar\"}],\"barpolar\":[{\"marker\":{\"line\":{\"color\":\"#E5ECF6\",\"width\":0.5}},\"type\":\"barpolar\"}],\"carpet\":[{\"aaxis\":{\"endlinecolor\":\"#2a3f5f\",\"gridcolor\":\"white\",\"linecolor\":\"white\",\"minorgridcolor\":\"white\",\"startlinecolor\":\"#2a3f5f\"},\"baxis\":{\"endlinecolor\":\"#2a3f5f\",\"gridcolor\":\"white\",\"linecolor\":\"white\",\"minorgridcolor\":\"white\",\"startlinecolor\":\"#2a3f5f\"},\"type\":\"carpet\"}],\"choropleth\":[{\"colorbar\":{\"outlinewidth\":0,\"ticks\":\"\"},\"type\":\"choropleth\"}],\"contour\":[{\"colorbar\":{\"outlinewidth\":0,\"ticks\":\"\"},\"colorscale\":[[0.0,\"#0d0887\"],[0.1111111111111111,\"#46039f\"],[0.2222222222222222,\"#7201a8\"],[0.3333333333333333,\"#9c179e\"],[0.4444444444444444,\"#bd3786\"],[0.5555555555555556,\"#d8576b\"],[0.6666666666666666,\"#ed7953\"],[0.7777777777777778,\"#fb9f3a\"],[0.8888888888888888,\"#fdca26\"],[1.0,\"#f0f921\"]],\"type\":\"contour\"}],\"contourcarpet\":[{\"colorbar\":{\"outlinewidth\":0,\"ticks\":\"\"},\"type\":\"contourcarpet\"}],\"heatmap\":[{\"colorbar\":{\"outlinewidth\":0,\"ticks\":\"\"},\"colorscale\":[[0.0,\"#0d0887\"],[0.1111111111111111,\"#46039f\"],[0.2222222222222222,\"#7201a8\"],[0.3333333333333333,\"#9c179e\"],[0.4444444444444444,\"#bd3786\"],[0.5555555555555556,\"#d8576b\"],[0.6666666666666666,\"#ed7953\"],[0.7777777777777778,\"#fb9f3a\"],[0.8888888888888888,\"#fdca26\"],[1.0,\"#f0f921\"]],\"type\":\"heatmap\"}],\"heatmapgl\":[{\"colorbar\":{\"outlinewidth\":0,\"ticks\":\"\"},\"colorscale\":[[0.0,\"#0d0887\"],[0.1111111111111111,\"#46039f\"],[0.2222222222222222,\"#7201a8\"],[0.3333333333333333,\"#9c179e\"],[0.4444444444444444,\"#bd3786\"],[0.5555555555555556,\"#d8576b\"],[0.6666666666666666,\"#ed7953\"],[0.7777777777777778,\"#fb9f3a\"],[0.8888888888888888,\"#fdca26\"],[1.0,\"#f0f921\"]],\"type\":\"heatmapgl\"}],\"histogram\":[{\"marker\":{\"colorbar\":{\"outlinewidth\":0,\"ticks\":\"\"}},\"type\":\"histogram\"}],\"histogram2d\":[{\"colorbar\":{\"outlinewidth\":0,\"ticks\":\"\"},\"colorscale\":[[0.0,\"#0d0887\"],[0.1111111111111111,\"#46039f\"],[0.2222222222222222,\"#7201a8\"],[0.3333333333333333,\"#9c179e\"],[0.4444444444444444,\"#bd3786\"],[0.5555555555555556,\"#d8576b\"],[0.6666666666666666,\"#ed7953\"],[0.7777777777777778,\"#fb9f3a\"],[0.8888888888888888,\"#fdca26\"],[1.0,\"#f0f921\"]],\"type\":\"histogram2d\"}],\"histogram2dcontour\":[{\"colorbar\":{\"outlinewidth\":0,\"ticks\":\"\"},\"colorscale\":[[0.0,\"#0d0887\"],[0.1111111111111111,\"#46039f\"],[0.2222222222222222,\"#7201a8\"],[0.3333333333333333,\"#9c179e\"],[0.4444444444444444,\"#bd3786\"],[0.5555555555555556,\"#d8576b\"],[0.6666666666666666,\"#ed7953\"],[0.7777777777777778,\"#fb9f3a\"],[0.8888888888888888,\"#fdca26\"],[1.0,\"#f0f921\"]],\"type\":\"histogram2dcontour\"}],\"mesh3d\":[{\"colorbar\":{\"outlinewidth\":0,\"ticks\":\"\"},\"type\":\"mesh3d\"}],\"parcoords\":[{\"line\":{\"colorbar\":{\"outlinewidth\":0,\"ticks\":\"\"}},\"type\":\"parcoords\"}],\"pie\":[{\"automargin\":true,\"type\":\"pie\"}],\"scatter\":[{\"marker\":{\"colorbar\":{\"outlinewidth\":0,\"ticks\":\"\"}},\"type\":\"scatter\"}],\"scatter3d\":[{\"line\":{\"colorbar\":{\"outlinewidth\":0,\"ticks\":\"\"}},\"marker\":{\"colorbar\":{\"outlinewidth\":0,\"ticks\":\"\"}},\"type\":\"scatter3d\"}],\"scattercarpet\":[{\"marker\":{\"colorbar\":{\"outlinewidth\":0,\"ticks\":\"\"}},\"type\":\"scattercarpet\"}],\"scattergeo\":[{\"marker\":{\"colorbar\":{\"outlinewidth\":0,\"ticks\":\"\"}},\"type\":\"scattergeo\"}],\"scattergl\":[{\"marker\":{\"colorbar\":{\"outlinewidth\":0,\"ticks\":\"\"}},\"type\":\"scattergl\"}],\"scattermapbox\":[{\"marker\":{\"colorbar\":{\"outlinewidth\":0,\"ticks\":\"\"}},\"type\":\"scattermapbox\"}],\"scatterpolar\":[{\"marker\":{\"colorbar\":{\"outlinewidth\":0,\"ticks\":\"\"}},\"type\":\"scatterpolar\"}],\"scatterpolargl\":[{\"marker\":{\"colorbar\":{\"outlinewidth\":0,\"ticks\":\"\"}},\"type\":\"scatterpolargl\"}],\"scatterternary\":[{\"marker\":{\"colorbar\":{\"outlinewidth\":0,\"ticks\":\"\"}},\"type\":\"scatterternary\"}],\"surface\":[{\"colorbar\":{\"outlinewidth\":0,\"ticks\":\"\"},\"colorscale\":[[0.0,\"#0d0887\"],[0.1111111111111111,\"#46039f\"],[0.2222222222222222,\"#7201a8\"],[0.3333333333333333,\"#9c179e\"],[0.4444444444444444,\"#bd3786\"],[0.5555555555555556,\"#d8576b\"],[0.6666666666666666,\"#ed7953\"],[0.7777777777777778,\"#fb9f3a\"],[0.8888888888888888,\"#fdca26\"],[1.0,\"#f0f921\"]],\"type\":\"surface\"}],\"table\":[{\"cells\":{\"fill\":{\"color\":\"#EBF0F8\"},\"line\":{\"color\":\"white\"}},\"header\":{\"fill\":{\"color\":\"#C8D4E3\"},\"line\":{\"color\":\"white\"}},\"type\":\"table\"}]},\"layout\":{\"annotationdefaults\":{\"arrowcolor\":\"#2a3f5f\",\"arrowhead\":0,\"arrowwidth\":1},\"autotypenumbers\":\"strict\",\"coloraxis\":{\"colorbar\":{\"outlinewidth\":0,\"ticks\":\"\"}},\"colorscale\":{\"diverging\":[[0,\"#8e0152\"],[0.1,\"#c51b7d\"],[0.2,\"#de77ae\"],[0.3,\"#f1b6da\"],[0.4,\"#fde0ef\"],[0.5,\"#f7f7f7\"],[0.6,\"#e6f5d0\"],[0.7,\"#b8e186\"],[0.8,\"#7fbc41\"],[0.9,\"#4d9221\"],[1,\"#276419\"]],\"sequential\":[[0.0,\"#0d0887\"],[0.1111111111111111,\"#46039f\"],[0.2222222222222222,\"#7201a8\"],[0.3333333333333333,\"#9c179e\"],[0.4444444444444444,\"#bd3786\"],[0.5555555555555556,\"#d8576b\"],[0.6666666666666666,\"#ed7953\"],[0.7777777777777778,\"#fb9f3a\"],[0.8888888888888888,\"#fdca26\"],[1.0,\"#f0f921\"]],\"sequentialminus\":[[0.0,\"#0d0887\"],[0.1111111111111111,\"#46039f\"],[0.2222222222222222,\"#7201a8\"],[0.3333333333333333,\"#9c179e\"],[0.4444444444444444,\"#bd3786\"],[0.5555555555555556,\"#d8576b\"],[0.6666666666666666,\"#ed7953\"],[0.7777777777777778,\"#fb9f3a\"],[0.8888888888888888,\"#fdca26\"],[1.0,\"#f0f921\"]]},\"colorway\":[\"#636efa\",\"#EF553B\",\"#00cc96\",\"#ab63fa\",\"#FFA15A\",\"#19d3f3\",\"#FF6692\",\"#B6E880\",\"#FF97FF\",\"#FECB52\"],\"font\":{\"color\":\"#2a3f5f\"},\"geo\":{\"bgcolor\":\"white\",\"lakecolor\":\"white\",\"landcolor\":\"#E5ECF6\",\"showlakes\":true,\"showland\":true,\"subunitcolor\":\"white\"},\"hoverlabel\":{\"align\":\"left\"},\"hovermode\":\"closest\",\"mapbox\":{\"style\":\"light\"},\"paper_bgcolor\":\"white\",\"plot_bgcolor\":\"#E5ECF6\",\"polar\":{\"angularaxis\":{\"gridcolor\":\"white\",\"linecolor\":\"white\",\"ticks\":\"\"},\"bgcolor\":\"#E5ECF6\",\"radialaxis\":{\"gridcolor\":\"white\",\"linecolor\":\"white\",\"ticks\":\"\"}},\"scene\":{\"xaxis\":{\"backgroundcolor\":\"#E5ECF6\",\"gridcolor\":\"white\",\"gridwidth\":2,\"linecolor\":\"white\",\"showbackground\":true,\"ticks\":\"\",\"zerolinecolor\":\"white\"},\"yaxis\":{\"backgroundcolor\":\"#E5ECF6\",\"gridcolor\":\"white\",\"gridwidth\":2,\"linecolor\":\"white\",\"showbackground\":true,\"ticks\":\"\",\"zerolinecolor\":\"white\"},\"zaxis\":{\"backgroundcolor\":\"#E5ECF6\",\"gridcolor\":\"white\",\"gridwidth\":2,\"linecolor\":\"white\",\"showbackground\":true,\"ticks\":\"\",\"zerolinecolor\":\"white\"}},\"shapedefaults\":{\"line\":{\"color\":\"#2a3f5f\"}},\"ternary\":{\"aaxis\":{\"gridcolor\":\"white\",\"linecolor\":\"white\",\"ticks\":\"\"},\"baxis\":{\"gridcolor\":\"white\",\"linecolor\":\"white\",\"ticks\":\"\"},\"bgcolor\":\"#E5ECF6\",\"caxis\":{\"gridcolor\":\"white\",\"linecolor\":\"white\",\"ticks\":\"\"}},\"title\":{\"x\":0.05},\"xaxis\":{\"automargin\":true,\"gridcolor\":\"white\",\"linecolor\":\"white\",\"ticks\":\"\",\"title\":{\"standoff\":15},\"zerolinecolor\":\"white\",\"zerolinewidth\":2},\"yaxis\":{\"automargin\":true,\"gridcolor\":\"white\",\"linecolor\":\"white\",\"ticks\":\"\",\"title\":{\"standoff\":15},\"zerolinecolor\":\"white\",\"zerolinewidth\":2}}},\"title\":{\"text\":\"Average House Values in Toronto\"}},\"margin\":[5,5,5,5],\"name\":\"interactive08164\",\"viewport_update_throttle\":200},\"id\":\"3014\",\"type\":\"panel.models.plotly.PlotlyPlot\"},{\"attributes\":{\"children\":[{\"id\":\"3032\"},{\"id\":\"3094\"}],\"margin\":[0,0,0,0],\"name\":\"interactive08182\"},\"id\":\"3028\",\"type\":\"Row\"},{\"attributes\":{},\"id\":\"3173\",\"type\":\"UnionRenderers\"},{\"attributes\":{\"children\":[{\"id\":\"3019\"},{\"id\":\"3020\"}],\"margin\":[0,0,0,0],\"name\":\"Column08174\"},\"id\":\"3018\",\"type\":\"Column\"},{\"attributes\":{\"fill_color\":{\"value\":\"#30a2da\"},\"top\":{\"field\":\"average_house_value\"},\"width\":{\"value\":0.8},\"x\":{\"field\":\"neighbourhood\"}},\"id\":\"3146\",\"type\":\"VBar\"},{\"attributes\":{},\"id\":\"3083\",\"type\":\"UnionRenderers\"},{\"attributes\":{},\"id\":\"3130\",\"type\":\"SaveTool\"},{\"attributes\":{},\"id\":\"3131\",\"type\":\"PanTool\"},{\"attributes\":{\"child\":{\"id\":\"3006\"},\"name\":\"Markdown08160\",\"title\":\"Intro\"},\"id\":\"3007\",\"type\":\"Panel\"},{\"attributes\":{},\"id\":\"3048\",\"type\":\"SaveTool\"},{\"attributes\":{},\"id\":\"3134\",\"type\":\"ResetTool\"},{\"attributes\":{\"margin\":[0,0,0,0],\"tabs\":[{\"id\":\"3007\"},{\"id\":\"3015\"},{\"id\":\"3022\"},{\"id\":\"3098\"},{\"id\":\"3105\"},{\"id\":\"3171\"}]},\"id\":\"3005\",\"type\":\"Tabs\"},{\"attributes\":{\"children\":[{\"id\":\"3021\"}],\"margin\":[0,0,0,0],\"name\":\"Row08177\"},\"id\":\"3020\",\"type\":\"Row\"},{\"attributes\":{\"data\":{\"customdata\":[{\"__ndarray__\":\"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\",\"dtype\":\"float64\",\"order\":\"little\",\"shape\":[140,8]}],\"hovertext\":[[\"Agincourt North\",\"Agincourt South-Malvern West\",\"Alderwood\",\"Annex\",\"Banbury-Don Mills\",\"Bathurst Manor\",\"Bay Street Corridor\",\"Bayview Village\",\"Bayview Woods-Steeles\",\"Bedford Park-Nortown\",\"Beechborough-Greenbrook\",\"Bendale\",\"Birchcliffe-Cliffside\",\"Black Creek\",\"Blake-Jones\",\"Briar Hill-Belgravia\",\"Bridle Path-Sunnybrook-York Mills\",\"Broadview North\",\"Brookhaven-Amesbury\",\"Cabbagetown-South St.James Town\",\"Caledonia-Fairbank\",\"Casa Loma\",\"Centennial Scarborough\",\"Church-Yonge Corridor\",\"Clairlea-Birchmount\",\"Clanton Park\",\"Cliffcrest\",\"Corso Italia-Davenport\",\"Danforth\",\"Danforth-East York\",\"Don Valley Village\",\"Dorset Park\",\"Dovercourt-Wallace Emerson-Juncti\",\"Downsview-Roding-CFB\",\"Dufferin Grove\",\"East End-Danforth\",\"Edenbridge-Humber Valley\",\"Eglinton East\",\"Elms-Old Rexdale\",\"Englemount-Lawrence\",\"Eringate-Centennial-West Deane\",\"Etobicoke West Mall\",\"Flemingdon Park\",\"Forest Hill North\",\"Forest Hill South\",\"Glenfield-Jane Heights\",\"Greenwood-Coxwell\",\"Guildwood\",\"Henry Farm\",\"High Park North\",\"High Park-Swansea\",\"Highland Creek\",\"Hillcrest Village\",\"Humber Heights-Westmount\",\"Humber Summit\",\"Humbermede\",\"Humewood-Cedarvale\",\"Ionview\",\"Islington-City Centre West\",\"Junction Area\",\"Keelesdale-Eglinton West\",\"Kennedy Park\",\"Kensington-Chinatown\",\"Kingsview Village-The Westway\",\"Kingsway South\",\"L'Amoreaux\",\"Lambton Baby Point\",\"Lansing-Westgate\",\"Lawrence Park North\",\"Lawrence Park South\",\"Leaside-Bennington\",\"Little Portugal\",\"Long Branch\",\"Malvern\",\"Maple Leaf\",\"Markland Wood\",\"Milliken\",\"Mimico\",\"Morningside\",\"Moss Park\",\"Mount Dennis\",\"Mount Olive-Silverstone-Jamestown\",\"Mount Pleasant East\",\"Mount Pleasant West\",\"New Toronto\",\"Newtonbrook East\",\"Newtonbrook West\",\"Niagara\",\"North Riverdale\",\"North St.James Town\",\"O'Connor-Parkview\",\"Oakridge\",\"Oakwood Village\",\"Old East York\",\"Palmerston-Little Italy\",\"Parkwoods-Donalda\",\"Pelmo Park-Humberlea\",\"Playter Estates-Danforth\",\"Pleasant View\",\"Princess-Rosethorn\",\"Regent Park\",\"Rexdale-Kipling\",\"Rockcliffe-Smythe\",\"Roncesvalles\",\"Rosedale-Moore Park\",\"Rouge\",\"Runnymede-Bloor West Village\",\"Rustic\",\"Scarborough Village\",\"South Parkdale\",\"South Riverdale\",\"St.Andrew-Windfields\",\"Steeles\",\"Stonegate-Queensway\",\"Tam O'Shanter-Sullivan\",\"Taylor-Massey\",\"The Beaches\",\"Thistletown-Beaumond Heights\",\"Thorncliffe Park\",\"Trinity-Bellwoods\",\"University\",\"Victoria Village\",\"Waterfront Communities-The Island\",\"West Hill\",\"West Humber-Clairville\",\"Westminster-Branson\",\"Weston\",\"Weston-Pellam Park\",\"Wexford/Maryvale\",\"Willowdale East\",\"Willowdale West\",\"Willowridge-Martingrove-Richview\",\"Woburn\",\"Woodbine Corridor\",\"Woodbine-Lumsden\",\"Wychwood\",\"Yonge-Eglinton\",\"Yonge-St.Clair\",\"York University Heights\",\"Yorkdale-Glen Park\"]],\"lat\":[{\"__ndarray__\":\"U/xKrRjnRUArfwi78uRFQGLShJJuzUVAiKL+gvbVRUAuVWmLa95FQG3/DGfl4UVA2X/4VCnURUAcpxHIX+NFQFWFipr95UVAhKk9V6HdRUCIzGRRu9hFQBE36a5T4UVAOpzQVuvYRUC/Y3js5+FFQGUFO9WM1kVAdJqBoXnZRUCGn6zWkd1FQBmI6Wsr2EVAHqN+D8XZRUCgzBZ7ddVFQINmfAQj2EVAvhr77UbXRUBYVMTpJORFQJdFtF9v1EVALWO//lbbRUD+lzEm+d5FQDjN0LJN3EVAIh27l73WRUD5o4cljtdFQMEXiX1A2EVASdu290LkRUCm6w3nL+FFQJ0G0uY01UVAGNQShtzdRUBnHFUT5dNFQFCwewKT10VAC2bplt/VRUBFsLuK1t5FQGYM97pa3EVAvL8PQTTcRUC/NajkOdRFQNNidGmR0kVA4j0HlqPbRUAFvA7NI9pFQPu2WDjm2EVAPX0E/nDfRUAjKwEpGNZFQOrKyqPZ30VAqebm2bTiRUA9uUMWK9RFQDl05XmR0kVActOPGzjlRUDPdyJOyOZFQPibmhWb2EVA7URJSCThRUD3o9GyKN9FQCSyUc5+2EVA0svFayDeRUB4u7lTFdFFQNK9d2l91UVANs/w6sXXRUCyaYQC39xFQARCZ6mn00VABCaqlnjZRUAWD7WOptNFQGHg2gXa5UVAgQrDVybURUB9yAD1i+BFQJAhlZxy3UVAf+fNl83bRUBIcQoCFtpFQN8qFXXi0kVABfoCgtLLRUDFFJtF3uZFQL4VR+2X20VAR3Nk5RfRRUDWllNlDOlFQFfD0ZfWzkVAZDE9oyXkRUDqkvXECNRFQCu+BBsV2EVAvbczXZnfRUATVY2YONpFQK+mgO4q2kVA26xVFuDMRUDu1HULUeVFQEJCUhOW5EVAVMtSwn7RRUAKKeTvA9ZFQAJLSzi21UVAY6w+cHjaRUBCKGurRNlFQAytkOoi2EVAxI7vIDDZRUCOtoVCX9RFQIiEzu+k4EVAhrO2hNfbRUDo3MxsANdFQNDffNG75EVAlz1kJUHVRUBidVifetRFQOLwWQmj3EVAmjORiF/WRUAzn3sotNJFQAHy66hm10VAJ5F1Hx3pRUAVlrLrYtRFQLn39AEW20VAL+rmJIzeRUCz469ef9FFQFGgkQAc00VADsvRqczgRUAW7PEID+hFQLsueKhY0UVAEzGAS9vjRUAjamCz9dhFQPyDUPfk1UVAHZ9eY3beRUAkXK+Gl9pFQDCRHPo400VA2TLPAM3URUCSMtIgP91FQGvj2/0i0UVAalnvHj3iRUCiBKLMq9tFQNbLziaw40VA6Y96mfLZRUDRRVxjRNZFQJX/PTbR30VAO3ZIGKPiRUDqcHwGt+JFQDujlK2B10VA4alPiyTiRUD1G7t+oNZFQNkdWn3Y2EVAUldnSqXWRUCS/uJCM9pFQO50a8IL2EVAsfM+pwPiRUC7XVBbettFQA==\",\"dtype\":\"float64\",\"order\":\"little\",\"shape\":[140]}],\"lon\":[{\"__ndarray__\":\"GObrzxHRU8Chm6LI/9BTwGXg48Cp4lPArp1qJdvZU8AVu4XHYdZTwNBX+wEw3VPA04cuqK/YU8AYHsGuIthTwLud2J502FPAoEhBAeXaU8D8cXetr95TwDbIZj950FPAkB3pRvfQU8CnJfMbaOFTwLWAt92X1VPA3twEhPvcU8C8WlH3P9hTwFK8RqLC1lPASb/55BPfU8AP46BKbtdTwAYW2TEi3VPAPJPsxxzaU8Aw3odqp8lTwHBxO9FB2FPAlLK5KALSU8AbTrI4kNxTwAUZnuoSz1PACZRmVqPcU8BO4t7CG9VTwJG4hbY11VPAbzH9GqLWU8BDObCg2dFTwMIdAw0R3FPAlEH/TmTfU8Dq/0Vl/dtTwCRbRLEo01PAcy+s8m/hU8DAcNfgt89TwAYea4gi41PAaU9ugP7bU8DPusoDJuVTwOWkKH5p5FPA9ZJSEkrVU8AxjZGyZttTwFG2Di+E2lPA7kGlndzgU8DTWV6gwdRTwDtKb8l7zFPAxW0b49bVU8AMjQ7l191TwNjmUp7x3VPAyKV9tVvLU8BcH9YbtdZTwKN5W0Rv4VPAU8rvXZjjU8DYtJQktuJTwMxS/Clf21PANesQKHDRU8BCq7yyxeJTwI3rIRIs3lPAh2SOBizeU8BBGiUaqtBTwBZR0WBs2VPANshFMRDjU8AqhlBKreBTwEy/yPQZ1FPAS0KeNL/fU8DWnA8RL9tTwHgfDcja2VPAlLW4jPzZU8BLEa66bddTwEWLQ2iK21PAG070VCLiU8DabVm2Pc5TwCRMSb3E3lPAp28+GrPkU8CIYAO/mdFTwDQVHD0C4FPAZf6wKUDNU8Am8WbLgddTwLNDHdL/31PASP7cp5XlU8CeLBCYothTwG+0iM0s2VPAI3P6tKngU8Av/hHh+tlTwGwP92ic21PAAo2IGGXaU8AXVfEMe9ZTwEtCOwoE2FPAZUMvivvTU8D7Lc+95tFTwMN2/3El3FPA4JgrpHjVU8B/7Wg1x9pTwGANSKkh1VPAxgMlYM/hU8A6FC55ttZTwJQsistv1VPAHFI1D9riU8CsN4uTEtdTwAfBFRY95FPAUM6rlaTfU8D/RwH9WdxTwK8S4oBM2FPAueQTDe3LU8D7H8PXFd9TwEOEC7vg31PApRAKQuDNU8C472ocHtxTwJeQrE971VPAWGHIJELYU8CKzNinjtRTwGVDDnwS4FPA+jIoBWPTU8D8T0AL8NJTwLNV7qos01PAV5+jPBDkU8CBxachZtZTwGZ2SPeU2lPAUYTU7azZU8DXjZDkJtRTwD5bKBUk2FPAk7X6qE7LU8COYD60KuZTwLZ9l2v03FPA04MnmQHhU8CGaN+idN1TwIlij9wc01PAJfsQ6bHZU8CVCWQbXdtTwE4gkVt441PAyJ41JqHOU8AXgW+iL9RTwLVDcBrq01PAYY0OozvbU8DGSN1r1NlTwMxL9rZ22VPADfug20nfU8DQ2DRCQd1TwA==\",\"dtype\":\"float64\",\"order\":\"little\",\"shape\":[140]}],\"marker.color\":[{\"__ndarray__\":\"AAAAAE4hFEEAAAAAtGUUQQAAAABKHhpBAAAAAMLLJkEAAAAAjq0iQQAAAAAjnR5BAAAAAJbbGUEAAACA9XQgQQAAAABLQSFBAAAAgN5kLEEAAAAAv6MWQQAAAAANYRJBAAAAAAyxGkEAAAAATtcPQQAAAAA0Nx9BAAAAAFJPFkEAAADA1Uo3QQAAAAC1DxtBAAAAAHxrFUEAAAAAeigeQQAAAADJExZBAAAAgJDwLUEAAAAAGwQZQQAAAACWyRhBAAAAAO2jFUEAAACAEtUgQQAAAAA4ehlBAAAAAGqhGUEAAAAA/H8cQQAAAAC9vBlBAAAAAOlKGEEAAAAAgvsPQQAAAAAuiBpBAAAAAJ5HF0EAAAAA0+0bQQAAAACZLR1BAAAAAAVMKEEAAAAAmmoQQQAAAADVYBBBAAAAgNFcIUEAAAAAV0cYQQAAAACQ4hJBAAAAALhdCUEAAAAAwf0pQQAAAIDYPzJBAAAAALf+E0EAAAAAvp8XQQAAAAB2ixZBAAAAAJiUFkEAAAAAIkAgQQAAAICDyiFBAAAAAJosGkEAAAAAPBwYQQAAAAD6aRtBAAAAAEp9FUEAAAAAn4QTQQAAAAD7RSVBAAAAABePEUEAAAAAlZEbQQAAAADVcRpBAAAAAFuzE0EAAAAABogRQQAAAACX4hpBAAAAAKOmFEEAAACAxLspQQAAAICH2CNBAAAAAKeLFEEAAAAAwbYiQQAAAADBLCdBAAAAwIuxMEEAAACAj5woQQAAAABBfCBBAAAAAJmMF0EAAAAAglsPQQAAAAC0qRtBAAAAABsZG0EAAAAAcQ4VQQAAAABKBBhBAAAAAFZlEUEAAAAAwP0YQQAAAACTAhBBAAAAAPLnDkEAAACA9KskQQAAAABXkxxBAAAAABDkGEEAAACAqhMhQQAAAABiHBxBAAAAACSVFkEAAACArnQlQQAAAAD/HBlBAAAAAC81EkEAAAAAxsUZQQAAAADL7RpBAAAAAFYQG0EAAACA3/wiQQAAAADyvxtBAAAAAN2+GEEAAACANs0jQQAAAAD9yRZBAAAAAGVeJ0EAAAAACfYXQQAAAACdCBZBAAAAAPEYFUEAAAAAJRAfQQAAAAAIsDBBAAAAAHv3FkEAAAAAJNkgQQAAAADKTxpBAAAAAK8hFEEAAAAA2k8bQQAAAACyxRtBAAAAAIZ9LkEAAAAAOvMWQQAAAIBAzCBBAAAAABqaFUEAAAAAsDkNQQAAAACEVSRBAAAAAODwFkEAAAAABikPQQAAAICDTyBBAAAAgJneIkEAAAAAFH4VQQAAAAB8ABdBAAAAAJ5fEUEAAAAAWfMUQQAAAAAhUhVBAAAAAJ/MEkEAAAAA6HgVQQAAAAB9QhVBAAAAANagHEEAAAAAW3McQQAAAABYVhxBAAAAACc4EkEAAAAAGy8bQQAAAAD6kxZBAAAAALFFIUEAAACAI7YoQQAAAIBI0ShBAAAAAK6rEkEAAAAANUwaQQ==\",\"dtype\":\"float64\",\"order\":\"little\",\"shape\":[140]}],\"marker.size\":[{\"__ndarray__\":\"AAAAAE4hFEEAAAAAtGUUQQAAAABKHhpBAAAAAMLLJkEAAAAAjq0iQQAAAAAjnR5BAAAAAJbbGUEAAACA9XQgQQAAAABLQSFBAAAAgN5kLEEAAAAAv6MWQQAAAAANYRJBAAAAAAyxGkEAAAAATtcPQQAAAAA0Nx9BAAAAAFJPFkEAAADA1Uo3QQAAAAC1DxtBAAAAAHxrFUEAAAAAeigeQQAAAADJExZBAAAAgJDwLUEAAAAAGwQZQQAAAACWyRhBAAAAAO2jFUEAAACAEtUgQQAAAAA4ehlBAAAAAGqhGUEAAAAA/H8cQQAAAAC9vBlBAAAAAOlKGEEAAAAAgvsPQQAAAAAuiBpBAAAAAJ5HF0EAAAAA0+0bQQAAAACZLR1BAAAAAAVMKEEAAAAAmmoQQQAAAADVYBBBAAAAgNFcIUEAAAAAV0cYQQAAAACQ4hJBAAAAALhdCUEAAAAAwf0pQQAAAIDYPzJBAAAAALf+E0EAAAAAvp8XQQAAAAB2ixZBAAAAAJiUFkEAAAAAIkAgQQAAAICDyiFBAAAAAJosGkEAAAAAPBwYQQAAAAD6aRtBAAAAAEp9FUEAAAAAn4QTQQAAAAD7RSVBAAAAABePEUEAAAAAlZEbQQAAAADVcRpBAAAAAFuzE0EAAAAABogRQQAAAACX4hpBAAAAAKOmFEEAAACAxLspQQAAAICH2CNBAAAAAKeLFEEAAAAAwbYiQQAAAADBLCdBAAAAwIuxMEEAAACAj5woQQAAAABBfCBBAAAAAJmMF0EAAAAAglsPQQAAAAC0qRtBAAAAABsZG0EAAAAAcQ4VQQAAAABKBBhBAAAAAFZlEUEAAAAAwP0YQQAAAACTAhBBAAAAAPLnDkEAAACA9KskQQAAAABXkxxBAAAAABDkGEEAAACAqhMhQQAAAABiHBxBAAAAACSVFkEAAACArnQlQQAAAAD/HBlBAAAAAC81EkEAAAAAxsUZQQAAAADL7RpBAAAAAFYQG0EAAACA3/wiQQAAAADyvxtBAAAAAN2+GEEAAACANs0jQQAAAAD9yRZBAAAAAGVeJ0EAAAAACfYXQQAAAACdCBZBAAAAAPEYFUEAAAAAJRAfQQAAAAAIsDBBAAAAAHv3FkEAAAAAJNkgQQAAAADKTxpBAAAAAK8hFEEAAAAA2k8bQQAAAACyxRtBAAAAAIZ9LkEAAAAAOvMWQQAAAIBAzCBBAAAAABqaFUEAAAAAsDkNQQAAAACEVSRBAAAAAODwFkEAAAAABikPQQAAAICDTyBBAAAAgJneIkEAAAAAFH4VQQAAAAB8ABdBAAAAAJ5fEUEAAAAAWfMUQQAAAAAhUhVBAAAAAJ/MEkEAAAAA6HgVQQAAAAB9QhVBAAAAANagHEEAAAAAW3McQQAAAABYVhxBAAAAACc4EkEAAAAAGy8bQQAAAAD6kxZBAAAAALFFIUEAAACAI7YoQQAAAIBI0ShBAAAAAK6rEkEAAAAANUwaQQ==\",\"dtype\":\"float64\",\"order\":\"little\",\"shape\":[140]}]},\"selected\":{\"id\":\"3174\"},\"selection_policy\":{\"id\":\"3173\"}},\"id\":\"3013\",\"type\":\"ColumnDataSource\"},{\"attributes\":{},\"id\":\"3049\",\"type\":\"PanTool\"},{\"attributes\":{},\"id\":\"3052\",\"type\":\"ResetTool\"},{\"attributes\":{\"fill_color\":{\"field\":\"Variable\",\"transform\":{\"id\":\"3061\"}},\"top\":{\"field\":\"value\"},\"width\":{\"value\":0.8},\"x\":{\"field\":\"xoffsets\"}},\"id\":\"3065\",\"type\":\"VBar\"},{\"attributes\":{\"overlay\":{\"id\":\"3053\"}},\"id\":\"3051\",\"type\":\"BoxZoomTool\"},{\"attributes\":{\"axis\":{\"id\":\"3123\"},\"grid_line_color\":null,\"ticker\":null},\"id\":\"3125\",\"type\":\"Grid\"},{\"attributes\":{\"fill_alpha\":{\"value\":0.1},\"fill_color\":{\"field\":\"Variable\",\"transform\":{\"id\":\"3061\"}},\"line_alpha\":{\"value\":0.1},\"top\":{\"field\":\"value\"},\"width\":{\"value\":0.8},\"x\":{\"field\":\"xoffsets\"}},\"id\":\"3066\",\"type\":\"VBar\"},{\"attributes\":{},\"id\":\"3063\",\"type\":\"Selection\"},{\"attributes\":{\"child\":{\"id\":\"3106\"},\"name\":\"Column08318\",\"title\":\"Dwelling Types per Year\"},\"id\":\"3171\",\"type\":\"Panel\"},{\"attributes\":{\"margin\":[0,0,0,0],\"name\":\"Column08232\"},\"id\":\"3102\",\"type\":\"Column\"},{\"attributes\":{\"children\":[{\"id\":\"3100\"},{\"id\":\"3101\"}],\"margin\":[0,0,0,0],\"name\":\"Column08233\"},\"id\":\"3099\",\"type\":\"Column\"},{\"attributes\":{\"child\":{\"id\":\"3099\"},\"name\":\"Column08233\",\"title\":\"Ten Most Expensive Neighbourhoods\"},\"id\":\"3105\",\"type\":\"Panel\"},{\"attributes\":{\"data\":{\"Variable\":[\"single_detached_house\",\"single_detached_house\",\"single_detached_house\",\"single_detached_house\",\"apartment_five_storeys_plus\",\"apartment_five_storeys_plus\",\"apartment_five_storeys_plus\",\"apartment_five_storeys_plus\",\"movable_dwelling\",\"movable_dwelling\",\"movable_dwelling\",\"movable_dwelling\",\"semi_detached_house\",\"semi_detached_house\",\"semi_detached_house\",\"semi_detached_house\",\"row_house\",\"row_house\",\"row_house\",\"row_house\",\"duplex\",\"duplex\",\"duplex\",\"duplex\",\"apartment_five_storeys_less\",\"apartment_five_storeys_less\",\"apartment_five_storeys_less\",\"apartment_five_storeys_less\",\"other_house\",\"other_house\",\"other_house\",\"other_house\"],\"value\":[3715,3295,3385,3345,1480,2060,2130,2120,0,0,5,5,1055,775,820,805,1295,1425,1465,1440,195,600,610,645,185,565,705,735,5,0,20,15],\"xoffsets\":[[\"2001\",\"single_detached_house\"],[\"2006\",\"single_detached_house\"],[\"2011\",\"single_detached_house\"],[\"2016\",\"single_detached_house\"],[\"2001\",\"apartment_five_storeys_plus\"],[\"2006\",\"apartment_five_storeys_plus\"],[\"2011\",\"apartment_five_storeys_plus\"],[\"2016\",\"apartment_five_storeys_plus\"],[\"2001\",\"movable_dwelling\"],[\"2006\",\"movable_dwelling\"],[\"2011\",\"movable_dwelling\"],[\"2016\",\"movable_dwelling\"],[\"2001\",\"semi_detached_house\"],[\"2006\",\"semi_detached_house\"],[\"2011\",\"semi_detached_house\"],[\"2016\",\"semi_detached_house\"],[\"2001\",\"row_house\"],[\"2006\",\"row_house\"],[\"2011\",\"row_house\"],[\"2016\",\"row_house\"],[\"2001\",\"duplex\"],[\"2006\",\"duplex\"],[\"2011\",\"duplex\"],[\"2016\",\"duplex\"],[\"2001\",\"apartment_five_storeys_less\"],[\"2006\",\"apartment_five_storeys_less\"],[\"2011\",\"apartment_five_storeys_less\"],[\"2016\",\"apartment_five_storeys_less\"],[\"2001\",\"other_house\"],[\"2006\",\"other_house\"],[\"2011\",\"other_house\"],[\"2016\",\"other_house\"]],\"year\":[\"2001\",\"2006\",\"2011\",\"2016\",\"2001\",\"2006\",\"2011\",\"2016\",\"2001\",\"2006\",\"2011\",\"2016\",\"2001\",\"2006\",\"2011\",\"2016\",\"2001\",\"2006\",\"2011\",\"2016\",\"2001\",\"2006\",\"2011\",\"2016\",\"2001\",\"2006\",\"2011\",\"2016\",\"2001\",\"2006\",\"2011\",\"2016\"]},\"selected\":{\"id\":\"3063\"},\"selection_policy\":{\"id\":\"3083\"}},\"id\":\"3062\",\"type\":\"ColumnDataSource\"},{\"attributes\":{},\"id\":\"3132\",\"type\":\"WheelZoomTool\"},{\"attributes\":{\"below\":[{\"id\":\"3123\"}],\"center\":[{\"id\":\"3125\"},{\"id\":\"3129\"}],\"left\":[{\"id\":\"3126\"}],\"margin\":[5,5,5,5],\"min_border_bottom\":10,\"min_border_left\":10,\"min_border_right\":10,\"min_border_top\":10,\"plot_height\":400,\"plot_width\":650,\"renderers\":[{\"id\":\"3149\"}],\"sizing_mode\":\"fixed\",\"title\":{\"id\":\"3115\"},\"toolbar\":{\"id\":\"3136\"},\"x_range\":{\"id\":\"3111\"},\"x_scale\":{\"id\":\"3119\"},\"y_range\":{\"id\":\"3112\"},\"y_scale\":{\"id\":\"3121\"}},\"id\":\"3114\",\"subtype\":\"Figure\",\"type\":\"Plot\"},{\"attributes\":{\"fill_alpha\":{\"value\":0.2},\"fill_color\":{\"value\":\"#30a2da\"},\"line_alpha\":{\"value\":0.2},\"top\":{\"field\":\"average_house_value\"},\"width\":{\"value\":0.8},\"x\":{\"field\":\"neighbourhood\"}},\"id\":\"3148\",\"type\":\"VBar\"},{\"attributes\":{},\"id\":\"3144\",\"type\":\"Selection\"},{\"attributes\":{\"end\":4086.5,\"reset_end\":4086.5,\"reset_start\":0.0,\"tags\":[[[\"value\",\"value\",null]]]},\"id\":\"3030\",\"type\":\"Range1d\"},{\"attributes\":{\"overlay\":{\"id\":\"3135\"}},\"id\":\"3133\",\"type\":\"BoxZoomTool\"},{\"attributes\":{},\"id\":\"3050\",\"type\":\"WheelZoomTool\"},{\"attributes\":{\"children\":[{\"id\":\"3009\"},{\"id\":\"3010\"}],\"margin\":[0,0,0,0],\"name\":\"Column08170\"},\"id\":\"3008\",\"type\":\"Column\"},{\"attributes\":{\"children\":[{\"id\":\"3028\"}],\"margin\":[0,0,0,0],\"name\":\"Row08222\"},\"id\":\"3027\",\"type\":\"Row\"},{\"attributes\":{\"fill_alpha\":{\"value\":0.2},\"fill_color\":{\"field\":\"Variable\",\"transform\":{\"id\":\"3061\"}},\"line_alpha\":{\"value\":0.2},\"top\":{\"field\":\"value\"},\"width\":{\"value\":0.8},\"x\":{\"field\":\"xoffsets\"}},\"id\":\"3067\",\"type\":\"VBar\"},{\"attributes\":{\"css_classes\":[\"markdown\"],\"margin\":[5,5,5,5],\"name\":\"Markdown08234\",\"text\":\"&lt;h2&gt;Ten Most Expensive Neighbourhoods&lt;/h2&gt;\"},\"id\":\"3107\",\"type\":\"panel.models.markup.HTML\"},{\"attributes\":{\"factors\":[[\"2001\",\"other_house\"],[\"2001\",\"apartment_five_storeys_less\"],[\"2001\",\"duplex\"],[\"2001\",\"row_house\"],[\"2001\",\"semi_detached_house\"],[\"2001\",\"movable_dwelling\"],[\"2001\",\"apartment_five_storeys_plus\"],[\"2001\",\"single_detached_house\"],[\"2006\",\"other_house\"],[\"2006\",\"apartment_five_storeys_less\"],[\"2006\",\"duplex\"],[\"2006\",\"row_house\"],[\"2006\",\"semi_detached_house\"],[\"2006\",\"movable_dwelling\"],[\"2006\",\"apartment_five_storeys_plus\"],[\"2006\",\"single_detached_house\"],[\"2011\",\"other_house\"],[\"2011\",\"apartment_five_storeys_less\"],[\"2011\",\"duplex\"],[\"2011\",\"row_house\"],[\"2011\",\"semi_detached_house\"],[\"2011\",\"movable_dwelling\"],[\"2011\",\"apartment_five_storeys_plus\"],[\"2011\",\"single_detached_house\"],[\"2016\",\"other_house\"],[\"2016\",\"apartment_five_storeys_less\"],[\"2016\",\"duplex\"],[\"2016\",\"row_house\"],[\"2016\",\"semi_detached_house\"],[\"2016\",\"movable_dwelling\"],[\"2016\",\"apartment_five_storeys_plus\"],[\"2016\",\"single_detached_house\"]],\"tags\":[[[\"year\",\"year\",null],[\"Variable\",\"Variable\",null]]]},\"id\":\"3029\",\"type\":\"FactorRange\"},{\"attributes\":{\"data_source\":{\"id\":\"3143\"},\"glyph\":{\"id\":\"3146\"},\"hover_glyph\":null,\"muted_glyph\":{\"id\":\"3148\"},\"nonselection_glyph\":{\"id\":\"3147\"},\"selection_glyph\":null,\"view\":{\"id\":\"3150\"}},\"id\":\"3149\",\"type\":\"GlyphRenderer\"},{\"attributes\":{\"axis_label\":\"neighbourhood\",\"bounds\":\"auto\",\"formatter\":{\"id\":\"3151\"},\"major_label_orientation\":1.5707963267948966,\"ticker\":{\"id\":\"3124\"}},\"id\":\"3123\",\"type\":\"CategoricalAxis\"},{\"attributes\":{\"margin\":[5,5,5,5],\"name\":\"VSpacer08220\",\"sizing_mode\":\"stretch_height\"},\"id\":\"3097\",\"type\":\"Spacer\"},{\"attributes\":{\"margin\":[20,20,20,20],\"min_width\":250,\"options\":[\"Agincourt North\",\"Agincourt South-Malvern West\",\"Alderwood\",\"Annex\",\"Banbury-Don Mills\",\"Bathurst Manor\",\"Bay Street Corridor\",\"Bayview Village\",\"Bayview Woods-Steeles\",\"Bedford Park-Nortown\",\"Beechborough-Greenbrook\",\"Bendale\",\"Birchcliffe-Cliffside\",\"Black Creek\",\"Blake-Jones\",\"Briar Hill-Belgravia\",\"Bridle Path-Sunnybrook-York Mills\",\"Broadview North\",\"Brookhaven-Amesbury\",\"Cabbagetown-South St.James Town\",\"Caledonia-Fairbank\",\"Casa Loma\",\"Centennial Scarborough\",\"Church-Yonge Corridor\",\"Clairlea-Birchmount\",\"Clanton Park\",\"Cliffcrest\",\"Corso Italia-Davenport\",\"Danforth\",\"Danforth-East York\",\"Don Valley Village\",\"Dorset Park\",\"Dovercourt-Wallace Emerson-Juncti\",\"Downsview-Roding-CFB\",\"Dufferin Grove\",\"East End-Danforth\",\"Edenbridge-Humber Valley\",\"Eglinton East\",\"Elms-Old Rexdale\",\"Englemount-Lawrence\",\"Eringate-Centennial-West Deane\",\"Etobicoke West Mall\",\"Flemingdon Park\",\"Forest Hill North\",\"Forest Hill South\",\"Glenfield-Jane Heights\",\"Greenwood-Coxwell\",\"Guildwood\",\"Henry Farm\",\"High Park North\",\"High Park-Swansea\",\"Highland Creek\",\"Hillcrest Village\",\"Humber Heights-Westmount\",\"Humber Summit\",\"Humbermede\",\"Humewood-Cedarvale\",\"Ionview\",\"Islington-City Centre West\",\"Junction Area\",\"Keelesdale-Eglinton West\",\"Kennedy Park\",\"Kensington-Chinatown\",\"Kingsview Village-The Westway\",\"Kingsway South\",\"L'Amoreaux\",\"Lambton Baby Point\",\"Lansing-Westgate\",\"Lawrence Park North\",\"Lawrence Park South\",\"Leaside-Bennington\",\"Little Portugal\",\"Long Branch\",\"Malvern\",\"Maple Leaf\",\"Markland Wood\",\"Milliken\",\"Mimico\",\"Morningside\",\"Moss Park\",\"Mount Dennis\",\"Mount Olive-Silverstone-Jamestown\",\"Mount Pleasant East\",\"Mount Pleasant West\",\"New Toronto\",\"Newtonbrook East\",\"Newtonbrook West\",\"Niagara\",\"North Riverdale\",\"North St.James Town\",\"O'Connor-Parkview\",\"Oakridge\",\"Oakwood Village\",\"Old East York\",\"Palmerston-Little Italy\",\"Parkwoods-Donalda\",\"Pelmo Park-Humberlea\",\"Playter Estates-Danforth\",\"Pleasant View\",\"Princess-Rosethorn\",\"Regent Park\",\"Rexdale-Kipling\",\"Rockcliffe-Smythe\",\"Roncesvalles\",\"Rosedale-Moore Park\",\"Rouge\",\"Runnymede-Bloor West Village\",\"Rustic\",\"Scarborough Village\",\"South Parkdale\",\"South Riverdale\",\"St.Andrew-Windfields\",\"Steeles\",\"Stonegate-Queensway\",\"Tam O'Shanter-Sullivan\",\"Taylor-Massey\",\"The Beaches\",\"Thistletown-Beaumond Heights\",\"Thorncliffe Park\",\"Trinity-Bellwoods\",\"University\",\"Victoria Village\",\"Waterfront Communities-The Island\",\"West Hill\",\"West Humber-Clairville\",\"Westminster-Branson\",\"Weston\",\"Weston-Pellam Park\",\"Wexford/Maryvale\",\"Willowdale East\",\"Willowdale West\",\"Willowridge-Martingrove-Richview\",\"Woburn\",\"Woodbine Corridor\",\"Woodbine-Lumsden\",\"Wychwood\",\"Yonge-Eglinton\",\"Yonge-St.Clair\",\"York University Heights\",\"Yorkdale-Glen Park\"],\"title\":\"neighbourhood\",\"value\":\"Agincourt North\",\"width\":250},\"id\":\"3096\",\"type\":\"Select\"},{\"attributes\":{\"active_drag\":\"auto\",\"active_inspect\":\"auto\",\"active_multi\":null,\"active_scroll\":\"auto\",\"active_tap\":\"auto\",\"tools\":[{\"id\":\"3031\"},{\"id\":\"3048\"},{\"id\":\"3049\"},{\"id\":\"3050\"},{\"id\":\"3051\"},{\"id\":\"3052\"}]},\"id\":\"3054\",\"type\":\"Toolbar\"},{\"attributes\":{\"callback\":null,\"renderers\":[{\"id\":\"3068\"}],\"tags\":[\"hv_created\"],\"tooltips\":[[\"year\",\"@{year}\"],[\"Variable\",\"@{Variable}\"],[\"value\",\"@{value}\"]]},\"id\":\"3031\",\"type\":\"HoverTool\"},{\"attributes\":{\"css_classes\":[\"markdown\"],\"margin\":[5,5,5,5],\"name\":\"Markdown08171\",\"text\":\"&lt;h3&gt;Average House Value by Neighbourhood&lt;/h3&gt;\"},\"id\":\"3017\",\"type\":\"panel.models.markup.HTML\"},{\"attributes\":{\"margin\":[5,5,5,5],\"name\":\"interactive08227\",\"text\":\"&lt;table border=&quot;0&quot; class=&quot;dataframe panel-df&quot;&gt;\\n  &lt;thead&gt;\\n    &lt;tr style=&quot;text-align: right;&quot;&gt;\\n      &lt;th&gt;&lt;/th&gt;\\n      &lt;th&gt;average_house_value&lt;/th&gt;\\n    &lt;/tr&gt;\\n    &lt;tr&gt;\\n      &lt;th&gt;year&lt;/th&gt;\\n      &lt;th&gt;&lt;/th&gt;\\n    &lt;/tr&gt;\\n  &lt;/thead&gt;\\n  &lt;tbody&gt;\\n    &lt;tr&gt;\\n      &lt;th&gt;2001&lt;/th&gt;\\n      &lt;td&gt;289882.885714&lt;/td&gt;\\n    &lt;/tr&gt;\\n    &lt;tr&gt;\\n      &lt;th&gt;2006&lt;/th&gt;\\n      &lt;td&gt;424059.664286&lt;/td&gt;\\n    &lt;/tr&gt;\\n    &lt;tr&gt;\\n      &lt;th&gt;2011&lt;/th&gt;\\n      &lt;td&gt;530424.721429&lt;/td&gt;\\n    &lt;/tr&gt;\\n    &lt;tr&gt;\\n      &lt;th&gt;2016&lt;/th&gt;\\n      &lt;td&gt;664068.328571&lt;/td&gt;\\n    &lt;/tr&gt;\\n  &lt;/tbody&gt;\\n&lt;/table&gt;\"},\"id\":\"3104\",\"type\":\"panel.models.markup.HTML\"},{\"attributes\":{\"bottom_units\":\"screen\",\"fill_alpha\":0.5,\"fill_color\":\"lightgrey\",\"left_units\":\"screen\",\"level\":\"overlay\",\"line_alpha\":1.0,\"line_color\":\"black\",\"line_dash\":[4,4],\"line_width\":2,\"right_units\":\"screen\",\"top_units\":\"screen\"},\"id\":\"3053\",\"type\":\"BoxAnnotation\"},{\"attributes\":{\"children\":[{\"id\":\"3011\"},{\"id\":\"3012\"}],\"margin\":[0,0,0,0],\"name\":\"Column08165\"},\"id\":\"3010\",\"type\":\"Column\"},{\"attributes\":{},\"id\":\"3154\",\"type\":\"BasicTickFormatter\"},{\"attributes\":{\"child\":{\"id\":\"3023\"},\"name\":\"Column08224\",\"title\":\"Dwelling Units per Year\"},\"id\":\"3098\",\"type\":\"Panel\"},{\"attributes\":{\"factors\":[\"single_detached_house\",\"apartment_five_storeys_plus\",\"movable_dwelling\",\"semi_detached_house\",\"row_house\",\"duplex\",\"apartment_five_storeys_less\",\"other_house\"],\"palette\":[\"#30a2da\",\"#fc4f30\",\"#e5ae38\",\"#6d904f\",\"#8b8b8b\",\"#17becf\",\"#9467bd\",\"#d62728\"]},\"id\":\"3061\",\"type\":\"CategoricalColorMapper\"},{\"attributes\":{},\"id\":\"3124\",\"type\":\"CategoricalTicker\"},{\"attributes\":{\"text\":\"Top Ten Most Expensive Neighbourhoods\",\"text_color\":{\"value\":\"black\"},\"text_font_size\":{\"value\":\"12pt\"}},\"id\":\"3115\",\"type\":\"Title\"},{\"attributes\":{},\"id\":\"3121\",\"type\":\"LinearScale\"},{\"attributes\":{\"children\":[{\"id\":\"3014\"}],\"margin\":[0,0,0,0],\"name\":\"Row08168\"},\"id\":\"3012\",\"type\":\"Row\"},{\"attributes\":{\"children\":[{\"id\":\"3114\"}],\"margin\":[0,0,0,0],\"name\":\"Row08316\"},\"id\":\"3110\",\"type\":\"Row\"},{\"attributes\":{\"data_source\":{\"id\":\"3062\"},\"glyph\":{\"id\":\"3065\"},\"hover_glyph\":null,\"muted_glyph\":{\"id\":\"3067\"},\"nonselection_glyph\":{\"id\":\"3066\"},\"selection_glyph\":null,\"view\":{\"id\":\"3069\"}},\"id\":\"3068\",\"type\":\"GlyphRenderer\"},{\"attributes\":{\"text\":\"Number of Dwelling Types per Year\",\"text_color\":{\"value\":\"black\"},\"text_font_size\":{\"value\":\"12pt\"}},\"id\":\"3033\",\"type\":\"Title\"},{\"attributes\":{\"callback\":null,\"renderers\":[{\"id\":\"3149\"}],\"tags\":[\"hv_created\"],\"tooltips\":[[\"neighbourhood\",\"@{neighbourhood}\"],[\"average_house_value\",\"@{average_house_value}\"]]},\"id\":\"3113\",\"type\":\"HoverTool\"},{\"attributes\":{\"axis_label\":\"average house value\",\"bounds\":\"auto\",\"formatter\":{\"id\":\"3154\"},\"major_label_orientation\":\"horizontal\",\"ticker\":{\"id\":\"3127\"}},\"id\":\"3126\",\"type\":\"LinearAxis\"},{\"attributes\":{\"below\":[{\"id\":\"3041\"}],\"center\":[{\"id\":\"3043\"},{\"id\":\"3047\"}],\"left\":[{\"id\":\"3044\"}],\"margin\":[5,5,5,5],\"min_border_bottom\":10,\"min_border_left\":10,\"min_border_right\":10,\"min_border_top\":10,\"plot_height\":500,\"plot_width\":500,\"renderers\":[{\"id\":\"3068\"}],\"sizing_mode\":\"fixed\",\"title\":{\"id\":\"3033\"},\"toolbar\":{\"id\":\"3054\"},\"x_range\":{\"id\":\"3029\"},\"x_scale\":{\"id\":\"3037\"},\"y_range\":{\"id\":\"3030\"},\"y_scale\":{\"id\":\"3039\"}},\"id\":\"3032\",\"subtype\":\"Figure\",\"type\":\"Plot\"},{\"attributes\":{\"axis\":{\"id\":\"3126\"},\"dimension\":1,\"grid_line_color\":null,\"ticker\":null},\"id\":\"3129\",\"type\":\"Grid\"},{\"attributes\":{\"source\":{\"id\":\"3143\"}},\"id\":\"3150\",\"type\":\"CDSView\"},{\"attributes\":{\"factors\":[\"Bridle Path-Sunnybrook-York Mills\",\"Forest Hill South\",\"Lawrence Park South\",\"Rosedale-Moore Park\",\"St.Andrew-Windfields\",\"Casa Loma\",\"Bedford Park-Nortown\",\"Forest Hill North\",\"Kingsway South\",\"Yonge-St.Clair\"],\"tags\":[[[\"neighbourhood\",\"neighbourhood\",null]]]},\"id\":\"3111\",\"type\":\"FactorRange\"},{\"attributes\":{\"css_classes\":[\"markdown\"],\"margin\":[5,5,5,5],\"name\":\"Markdown08225\",\"text\":\"&lt;h2&gt;Average Value per Year&lt;/h2&gt;\"},\"id\":\"3100\",\"type\":\"panel.models.markup.HTML\"},{\"attributes\":{\"children\":[{\"id\":\"3096\"}],\"css_classes\":[\"panel-widget-box\"],\"margin\":[5,5,5,5],\"name\":\"WidgetBox08215\"},\"id\":\"3095\",\"type\":\"Column\"},{\"attributes\":{},\"id\":\"3127\",\"type\":\"BasicTicker\"},{\"attributes\":{\"css_classes\":[\"markdown\"],\"margin\":[5,5,5,5],\"name\":\"Markdown08180\",\"text\":\"&lt;h2&gt;Dwelling Units per Year&lt;/h2&gt;\"},\"id\":\"3024\",\"type\":\"panel.models.markup.HTML\"},{\"attributes\":{\"child\":{\"id\":\"3016\"},\"name\":\"Column08179\",\"title\":\"Average Value by Neighbourhood\"},\"id\":\"3022\",\"type\":\"Panel\"},{\"attributes\":{},\"id\":\"3119\",\"type\":\"CategoricalScale\"},{\"attributes\":{\"end\":1597812.3,\"reset_end\":1597812.3,\"reset_start\":0.0,\"tags\":[[[\"average_house_value\",\"average_house_value\",null]]]},\"id\":\"3112\",\"type\":\"Range1d\"},{\"attributes\":{\"child\":{\"id\":\"3008\"},\"name\":\"Column08170\",\"title\":\"Mapbox Plot\"},\"id\":\"3015\",\"type\":\"Panel\"},{\"attributes\":{},\"id\":\"3037\",\"type\":\"CategoricalScale\"},{\"attributes\":{\"css_classes\":[\"markdown\"],\"margin\":[5,5,5,5],\"name\":\"Markdown08162\",\"text\":\"&lt;h2&gt;Neighbourhood Map&lt;/h2&gt;\"},\"id\":\"3009\",\"type\":\"panel.models.markup.HTML\"},{\"attributes\":{},\"id\":\"3174\",\"type\":\"Selection\"},{\"attributes\":{},\"id\":\"3070\",\"type\":\"CategoricalTickFormatter\"},{\"attributes\":{\"client_comm_id\":\"00c65b259187462ba4d6e457f6041ff1\",\"comm_id\":\"8607d170330f43faa450bda2f91a08a8\",\"plot_id\":\"3005\"},\"id\":\"3226\",\"type\":\"panel.models.comm_manager.CommManager\"},{\"attributes\":{\"fill_alpha\":{\"value\":0.1},\"fill_color\":{\"value\":\"#30a2da\"},\"line_alpha\":{\"value\":0.1},\"top\":{\"field\":\"average_house_value\"},\"width\":{\"value\":0.8},\"x\":{\"field\":\"neighbourhood\"}},\"id\":\"3147\",\"type\":\"VBar\"},{\"attributes\":{\"axis\":{\"id\":\"3041\"},\"grid_line_color\":null,\"ticker\":null},\"id\":\"3043\",\"type\":\"Grid\"},{\"attributes\":{},\"id\":\"3151\",\"type\":\"CategoricalTickFormatter\"},{\"attributes\":{},\"id\":\"3042\",\"type\":\"CategoricalTicker\"},{\"attributes\":{\"children\":[{\"id\":\"3104\"}],\"margin\":[0,0,0,0],\"name\":\"Row08231\"},\"id\":\"3103\",\"type\":\"Row\"},{\"attributes\":{},\"id\":\"3039\",\"type\":\"LinearScale\"},{\"attributes\":{\"margin\":[0,0,0,0],\"name\":\"Column08178\"},\"id\":\"3019\",\"type\":\"Column\"},{\"attributes\":{\"margin\":[0,0,0,0],\"name\":\"Column08317\"},\"id\":\"3109\",\"type\":\"Column\"},{\"attributes\":{\"axis_label\":\"year, Variable\",\"bounds\":\"auto\",\"formatter\":{\"id\":\"3070\"},\"major_label_orientation\":1.5707963267948966,\"ticker\":{\"id\":\"3042\"}},\"id\":\"3041\",\"type\":\"CategoricalAxis\"},{\"attributes\":{\"source\":{\"id\":\"3062\"}},\"id\":\"3069\",\"type\":\"CDSView\"},{\"attributes\":{},\"id\":\"3160\",\"type\":\"UnionRenderers\"},{\"attributes\":{\"css_classes\":[\"markdown\"],\"margin\":[5,5,5,5],\"name\":\"Markdown08160\",\"text\":\"&lt;p&gt;Here you will find real estate data from neighbourhoods in Toronto from 2001 to 2016.&lt;/p&gt;\\n&lt;ol&gt;\\n&lt;li&gt;Introduction&lt;/li&gt;\\n&lt;li&gt;Mapbox Plot&lt;/li&gt;\\n&lt;li&gt;Average Value by Neighbourhood&lt;/li&gt;\\n&lt;li&gt;Dwelling Units per Year&lt;/li&gt;\\n&lt;li&gt;Average Value per Year&lt;/li&gt;\\n&lt;li&gt;Ten Most Expensive Neighbourhoods&lt;/li&gt;\\n&lt;/ol&gt;\"},\"id\":\"3006\",\"type\":\"panel.models.markup.HTML\"},{\"attributes\":{\"data\":{\"average_house_value\":{\"__ndarray__\":\"AAAAwNVKN0EAAACA2D8yQQAAAMCLsTBBAAAAAAiwMEEAAAAAhn0uQQAAAICQ8C1BAAAAgN5kLEEAAAAAwf0pQQAAAIDEuylBAAAAgEjRKEE=\",\"dtype\":\"float64\",\"order\":\"little\",\"shape\":[10]},\"neighbourhood\":[\"Bridle Path-Sunnybrook-York Mills\",\"Forest Hill South\",\"Lawrence Park South\",\"Rosedale-Moore Park\",\"St.Andrew-Windfields\",\"Casa Loma\",\"Bedford Park-Nortown\",\"Forest Hill North\",\"Kingsway South\",\"Yonge-St.Clair\"]},\"selected\":{\"id\":\"3144\"},\"selection_policy\":{\"id\":\"3160\"}},\"id\":\"3143\",\"type\":\"ColumnDataSource\"},{\"attributes\":{\"margin\":[5,5,5,5],\"name\":\"interactive08173\",\"text\":\"&lt;pre&gt;&lt;pandas.plotting._core.SeriesPlotMethods object at 0x0000027ECDF74508&gt;&lt;/pre&gt;\"},\"id\":\"3021\",\"type\":\"panel.models.markup.HTML\"},{\"attributes\":{\"axis_label\":\"\",\"bounds\":\"auto\",\"formatter\":{\"id\":\"3073\"},\"major_label_orientation\":\"horizontal\",\"ticker\":{\"id\":\"3045\"}},\"id\":\"3044\",\"type\":\"LinearAxis\"},{\"attributes\":{},\"id\":\"3045\",\"type\":\"BasicTicker\"},{\"attributes\":{\"children\":[{\"id\":\"3024\"},{\"id\":\"3025\"}],\"margin\":[0,0,0,0],\"name\":\"Column08224\"},\"id\":\"3023\",\"type\":\"Column\"},{\"attributes\":{\"axis\":{\"id\":\"3044\"},\"dimension\":1,\"grid_line_color\":null,\"ticker\":null},\"id\":\"3047\",\"type\":\"Grid\"},{\"attributes\":{\"children\":[{\"id\":\"3017\"},{\"id\":\"3018\"}],\"margin\":[0,0,0,0],\"name\":\"Column08179\"},\"id\":\"3016\",\"type\":\"Column\"},{\"attributes\":{\"children\":[{\"id\":\"3026\"},{\"id\":\"3027\"}],\"margin\":[0,0,0,0],\"name\":\"Column08183\"},\"id\":\"3025\",\"type\":\"Column\"},{\"attributes\":{\"active_drag\":\"auto\",\"active_inspect\":\"auto\",\"active_multi\":null,\"active_scroll\":\"auto\",\"active_tap\":\"auto\",\"tools\":[{\"id\":\"3113\"},{\"id\":\"3130\"},{\"id\":\"3131\"},{\"id\":\"3132\"},{\"id\":\"3133\"},{\"id\":\"3134\"}]},\"id\":\"3136\",\"type\":\"Toolbar\"},{\"attributes\":{\"children\":[{\"id\":\"3107\"},{\"id\":\"3108\"}],\"margin\":[0,0,0,0],\"name\":\"Column08318\"},\"id\":\"3106\",\"type\":\"Column\"},{\"attributes\":{\"children\":[{\"id\":\"3095\"},{\"id\":\"3097\"}],\"margin\":[0,0,0,0],\"name\":\"Column08221\"},\"id\":\"3094\",\"type\":\"Column\"},{\"attributes\":{\"bottom_units\":\"screen\",\"fill_alpha\":0.5,\"fill_color\":\"lightgrey\",\"left_units\":\"screen\",\"level\":\"overlay\",\"line_alpha\":1.0,\"line_color\":\"black\",\"line_dash\":[4,4],\"line_width\":2,\"right_units\":\"screen\",\"top_units\":\"screen\"},\"id\":\"3135\",\"type\":\"BoxAnnotation\"},{\"attributes\":{\"children\":[{\"id\":\"3102\"},{\"id\":\"3103\"}],\"margin\":[0,0,0,0],\"name\":\"Column08228\"},\"id\":\"3101\",\"type\":\"Column\"}],\"root_ids\":[\"3005\",\"3226\"]},\"title\":\"Bokeh Application\",\"version\":\"2.2.3\"}};\n",
       "    var render_items = [{\"docid\":\"fd85e4cb-6d21-4f45-ada1-4f13473f3ee4\",\"root_ids\":[\"3005\"],\"roots\":{\"3005\":\"75ce1db0-cdbc-4fa6-8884-fff3a7fff415\"}}];\n",
       "    root.Bokeh.embed.embed_items_notebook(docs_json, render_items);\n",
       "  }\n",
       "  if (root.Bokeh !== undefined && root.Bokeh.Panel !== undefined && root['Plotly'] !== undefined ) {\n",
       "    embed_document(root);\n",
       "  } else {\n",
       "    var attempts = 0;\n",
       "    var timer = setInterval(function(root) {\n",
       "      if (root.Bokeh !== undefined && root.Bokeh.Panel !== undefined && root['Plotly'] !== undefined) {\n",
       "        clearInterval(timer);\n",
       "        embed_document(root);\n",
       "      } else if (document.readyState == \"complete\") {\n",
       "        attempts++;\n",
       "        if (attempts > 100) {\n",
       "          clearInterval(timer);\n",
       "          console.log(\"Bokeh: ERROR: Unable to run BokehJS code because BokehJS library is missing\");\n",
       "        }\n",
       "      }\n",
       "    }, 10, root)\n",
       "  }\n",
       "})(window);</script>"
      ],
      "text/plain": [
       "Tabs\n",
       "    [0] Markdown(str)\n",
       "    [1] Column\n",
       "        [0] Markdown(str)\n",
       "        [1] Column\n",
       "            [0] Column()\n",
       "            [1] Row\n",
       "                [0] Plotly(Figure, name='interactive08164')\n",
       "    [2] Column\n",
       "        [0] Markdown(str)\n",
       "        [1] Column\n",
       "            [0] Column()\n",
       "            [1] Row\n",
       "                [0] Str(SeriesPlotMethods, name='interactive08173')\n",
       "    [3] Column\n",
       "        [0] Markdown(str)\n",
       "        [1] Column\n",
       "            [0] Column()\n",
       "            [1] Row\n",
       "                [0] Row(name='interactive08182')\n",
       "                    [0] HoloViews(DynamicMap, name='interactive08182')\n",
       "                    [1] Column\n",
       "                        [0] WidgetBox\n",
       "                            [0] Select(margin=(20, 20, 20, 20), name='neighbourhood', options=['Agincourt North', ...], value='Agincourt North', width=250)\n",
       "                        [1] VSpacer()\n",
       "    [4] Column\n",
       "        [0] Markdown(str)\n",
       "        [1] Column\n",
       "            [0] Column()\n",
       "            [1] Row\n",
       "                [0] DataFrame(Series, name='interactive08227')\n",
       "    [5] Column\n",
       "        [0] Markdown(str)\n",
       "        [1] Column\n",
       "            [0] Column()\n",
       "            [1] Row\n",
       "                [0] HoloViews(Bars, name='interactive08236')"
      ]
     },
     "execution_count": 105,
     "metadata": {
      "application/vnd.holoviews_exec.v0+json": {
       "id": "3005"
      }
     },
     "output_type": "execute_result"
    },
    {
     "data": {
      "image/png": "[encoded data removed]",
      "text/plain": [
       "<Figure size 864x360 with 1 Axes>"
      ]
     },
     "metadata": {
      "needs_background": "light"
     },
     "output_type": "display_data"
    }
   ],
   "source": [
    "# Create a Title for the Dashboard\n",
    "\n",
    "title = pn.pane.Markdown(\"\"\"#Data From Toronto Neighbourhoods Between 2001 to 2016\"\"\",width = 800)\n",
    "\n",
    "\n",
    "# Define a welcome text\n",
    "intro = pn.pane.Markdown(\n",
    "\"\"\"\n",
    "Here you will find real estate data from neighbourhoods in Toronto from 2001 to 2016.\n",
    "\n",
    "1. Introduction\n",
    "2. Mapbox Plot\n",
    "3. Average Value by Neighbourhood\n",
    "4. Dwelling Units per Year\n",
    "5. Average Value per Year\n",
    "6. Ten Most Expensive Neighbourhoods\n",
    "\n",
    "\"\"\"\n",
    ")\n",
    "\n",
    "# Create a tab layout for the dashboard\n",
    "tab_2_column = pn.Column((\"## Neighbourhood Map\"),\n",
    "                         neighbourhood_map)\n",
    "\n",
    "tab_3_column = pn.Column((\"### Average House Value by Neighbourhood\"),\n",
    "                         average_value_by_neighbourhood)\n",
    "                         \n",
    "\n",
    "tab_4_column = pn.Column((\"## Dwelling Units per Year\"), \n",
    "                         number_dwelling_types)\n",
    "\n",
    "                         \n",
    "tab_5_column = pn.Column((\"## Average Value per Year\"),\n",
    "                        average_house_value)\n",
    "\n",
    "tab_6_column = pn.Column((\"## Ten Most Expensive Neighbourhoods\"),\n",
    "                        top_most_expensive_neighbourhoods)\n",
    "\n",
    "\n",
    "\n",
    "# Create the main dashboard\n",
    "dashboard = pn.Tabs(\n",
    "    (\"Intro\",intro),\n",
    "    (\"Mapbox Plot\", tab_2_column),\n",
    "    (\"Average Value by Neighbourhood\", tab_3_column),\n",
    "    (\"Dwelling Units per Year\", tab_4_column),\n",
    "    (\"Ten Most Expensive Neighbourhoods\", tab_5_column),\n",
    "    (\"Dwelling Types per Year\", tab_6_column)\n",
    ")\n",
    "                    \n",
    "dashboard\n",
    "\n",
    "\n",
    "# Had an issue with posting the bar chart and line chart on the dashboard. Found myself switching the coding sturcture multplie times in order to \n",
    "# allow it to post, however wasn't successful."
   ]
  },
  {
   "cell_type": "code",
   "execution_count": 106,
   "metadata": {},
   "outputs": [
    {
     "data": {},
     "metadata": {},
     "output_type": "display_data"
    },
    {
     "data": {},
     "metadata": {},
     "output_type": "display_data"
    },
    {
     "data": {
      "application/vnd.holoviews_exec.v0+json": "",
      "text/html": [
       "<div id='3317'>\n",
       "\n",
       "\n",
       "\n",
       "\n",
       "\n",
       "  <div class=\"bk-root\" id=\"0dd797f3-e564-4d9f-b875-fc43f281f8de\" data-root-id=\"3317\"></div>\n",
       "</div>\n",
       "<script type=\"application/javascript\">(function(root) {\n",
       "  function embed_document(root) {\n",
       "    var docs_json = {\"50cf63c1-41f7-49fd-82a2-4e45ed51b05f\":{\"roots\":{\"references\":[{\"attributes\":{},\"id\":\"3486\",\"type\":\"Selection\"},{\"attributes\":{\"css_classes\":[\"markdown\"],\"margin\":[5,5,5,5],\"name\":\"Markdown08160\",\"text\":\"&lt;p&gt;Here you will find real estate data from neighbourhoods in Toronto from 2001 to 2016.&lt;/p&gt;\\n&lt;ol&gt;\\n&lt;li&gt;Introduction&lt;/li&gt;\\n&lt;li&gt;Mapbox Plot&lt;/li&gt;\\n&lt;li&gt;Average Value by Neighbourhood&lt;/li&gt;\\n&lt;li&gt;Dwelling Units per Year&lt;/li&gt;\\n&lt;li&gt;Average Value per Year&lt;/li&gt;\\n&lt;li&gt;Ten Most Expensive Neighbourhoods&lt;/li&gt;\\n&lt;/ol&gt;\"},\"id\":\"3318\",\"type\":\"panel.models.markup.HTML\"},{\"attributes\":{\"_render_count\":0,\"config\":null,\"data\":[{\"hovertemplate\":\"<b>%{hovertext}</b><br><br>average_house_value=%{marker.color}<br>lat=%{lat}<br>lon=%{lon}<br>single_detached_house=%{customdata[0]}<br>apartment_five_storeys_plus=%{customdata[1]}<br>movable_dwelling=%{customdata[2]}<br>semi_detached_house=%{customdata[3]}<br>row_house=%{customdata[4]}<br>duplex=%{customdata[5]}<br>apartment_five_storeys_less=%{customdata[6]}<br>other_house=%{customdata[7]}<extra></extra>\",\"legendgroup\":\"\",\"marker\":{\"coloraxis\":\"coloraxis\",\"sizemode\":\"area\",\"sizeref\":3816.214375},\"mode\":\"markers\",\"name\":\"\",\"showlegend\":false,\"subplot\":\"mapbox\",\"type\":\"scattermapbox\"}],\"data_sources\":[{\"id\":\"3325\"}],\"layout\":{\"coloraxis\":{\"colorbar\":{\"title\":{\"text\":\"average_house_value\"}},\"colorscale\":[[0.0,\"#0d0887\"],[0.1111111111111111,\"#46039f\"],[0.2222222222222222,\"#7201a8\"],[0.3333333333333333,\"#9c179e\"],[0.4444444444444444,\"#bd3786\"],[0.5555555555555556,\"#d8576b\"],[0.6666666666666666,\"#ed7953\"],[0.7777777777777778,\"#fb9f3a\"],[0.8888888888888888,\"#fdca26\"],[1.0,\"#f0f921\"]]},\"legend\":{\"itemsizing\":\"constant\",\"tracegroupgap\":0},\"mapbox\":{\"accesstoken\":\"eyJ1IjoibW5pdGNob3YiLCJhIjoiY2ttODJjeDFxMTQwMzJwcnRyMHd5czZsMyJ9.k-lXDyjYFVJ9YXarv1JShg\",\"center\":{\"lat\":43.708840577642846,\"lon\":-79.4001855035},\"domain\":{\"x\":[0.0,1.0],\"y\":[0.0,1.0]},\"zoom\":8},\"template\":{\"data\":{\"bar\":[{\"error_x\":{\"color\":\"#2a3f5f\"},\"error_y\":{\"color\":\"#2a3f5f\"},\"marker\":{\"line\":{\"color\":\"#E5ECF6\",\"width\":0.5}},\"type\":\"bar\"}],\"barpolar\":[{\"marker\":{\"line\":{\"color\":\"#E5ECF6\",\"width\":0.5}},\"type\":\"barpolar\"}],\"carpet\":[{\"aaxis\":{\"endlinecolor\":\"#2a3f5f\",\"gridcolor\":\"white\",\"linecolor\":\"white\",\"minorgridcolor\":\"white\",\"startlinecolor\":\"#2a3f5f\"},\"baxis\":{\"endlinecolor\":\"#2a3f5f\",\"gridcolor\":\"white\",\"linecolor\":\"white\",\"minorgridcolor\":\"white\",\"startlinecolor\":\"#2a3f5f\"},\"type\":\"carpet\"}],\"choropleth\":[{\"colorbar\":{\"outlinewidth\":0,\"ticks\":\"\"},\"type\":\"choropleth\"}],\"contour\":[{\"colorbar\":{\"outlinewidth\":0,\"ticks\":\"\"},\"colorscale\":[[0.0,\"#0d0887\"],[0.1111111111111111,\"#46039f\"],[0.2222222222222222,\"#7201a8\"],[0.3333333333333333,\"#9c179e\"],[0.4444444444444444,\"#bd3786\"],[0.5555555555555556,\"#d8576b\"],[0.6666666666666666,\"#ed7953\"],[0.7777777777777778,\"#fb9f3a\"],[0.8888888888888888,\"#fdca26\"],[1.0,\"#f0f921\"]],\"type\":\"contour\"}],\"contourcarpet\":[{\"colorbar\":{\"outlinewidth\":0,\"ticks\":\"\"},\"type\":\"contourcarpet\"}],\"heatmap\":[{\"colorbar\":{\"outlinewidth\":0,\"ticks\":\"\"},\"colorscale\":[[0.0,\"#0d0887\"],[0.1111111111111111,\"#46039f\"],[0.2222222222222222,\"#7201a8\"],[0.3333333333333333,\"#9c179e\"],[0.4444444444444444,\"#bd3786\"],[0.5555555555555556,\"#d8576b\"],[0.6666666666666666,\"#ed7953\"],[0.7777777777777778,\"#fb9f3a\"],[0.8888888888888888,\"#fdca26\"],[1.0,\"#f0f921\"]],\"type\":\"heatmap\"}],\"heatmapgl\":[{\"colorbar\":{\"outlinewidth\":0,\"ticks\":\"\"},\"colorscale\":[[0.0,\"#0d0887\"],[0.1111111111111111,\"#46039f\"],[0.2222222222222222,\"#7201a8\"],[0.3333333333333333,\"#9c179e\"],[0.4444444444444444,\"#bd3786\"],[0.5555555555555556,\"#d8576b\"],[0.6666666666666666,\"#ed7953\"],[0.7777777777777778,\"#fb9f3a\"],[0.8888888888888888,\"#fdca26\"],[1.0,\"#f0f921\"]],\"type\":\"heatmapgl\"}],\"histogram\":[{\"marker\":{\"colorbar\":{\"outlinewidth\":0,\"ticks\":\"\"}},\"type\":\"histogram\"}],\"histogram2d\":[{\"colorbar\":{\"outlinewidth\":0,\"ticks\":\"\"},\"colorscale\":[[0.0,\"#0d0887\"],[0.1111111111111111,\"#46039f\"],[0.2222222222222222,\"#7201a8\"],[0.3333333333333333,\"#9c179e\"],[0.4444444444444444,\"#bd3786\"],[0.5555555555555556,\"#d8576b\"],[0.6666666666666666,\"#ed7953\"],[0.7777777777777778,\"#fb9f3a\"],[0.8888888888888888,\"#fdca26\"],[1.0,\"#f0f921\"]],\"type\":\"histogram2d\"}],\"histogram2dcontour\":[{\"colorbar\":{\"outlinewidth\":0,\"ticks\":\"\"},\"colorscale\":[[0.0,\"#0d0887\"],[0.1111111111111111,\"#46039f\"],[0.2222222222222222,\"#7201a8\"],[0.3333333333333333,\"#9c179e\"],[0.4444444444444444,\"#bd3786\"],[0.5555555555555556,\"#d8576b\"],[0.6666666666666666,\"#ed7953\"],[0.7777777777777778,\"#fb9f3a\"],[0.8888888888888888,\"#fdca26\"],[1.0,\"#f0f921\"]],\"type\":\"histogram2dcontour\"}],\"mesh3d\":[{\"colorbar\":{\"outlinewidth\":0,\"ticks\":\"\"},\"type\":\"mesh3d\"}],\"parcoords\":[{\"line\":{\"colorbar\":{\"outlinewidth\":0,\"ticks\":\"\"}},\"type\":\"parcoords\"}],\"pie\":[{\"automargin\":true,\"type\":\"pie\"}],\"scatter\":[{\"marker\":{\"colorbar\":{\"outlinewidth\":0,\"ticks\":\"\"}},\"type\":\"scatter\"}],\"scatter3d\":[{\"line\":{\"colorbar\":{\"outlinewidth\":0,\"ticks\":\"\"}},\"marker\":{\"colorbar\":{\"outlinewidth\":0,\"ticks\":\"\"}},\"type\":\"scatter3d\"}],\"scattercarpet\":[{\"marker\":{\"colorbar\":{\"outlinewidth\":0,\"ticks\":\"\"}},\"type\":\"scattercarpet\"}],\"scattergeo\":[{\"marker\":{\"colorbar\":{\"outlinewidth\":0,\"ticks\":\"\"}},\"type\":\"scattergeo\"}],\"scattergl\":[{\"marker\":{\"colorbar\":{\"outlinewidth\":0,\"ticks\":\"\"}},\"type\":\"scattergl\"}],\"scattermapbox\":[{\"marker\":{\"colorbar\":{\"outlinewidth\":0,\"ticks\":\"\"}},\"type\":\"scattermapbox\"}],\"scatterpolar\":[{\"marker\":{\"colorbar\":{\"outlinewidth\":0,\"ticks\":\"\"}},\"type\":\"scatterpolar\"}],\"scatterpolargl\":[{\"marker\":{\"colorbar\":{\"outlinewidth\":0,\"ticks\":\"\"}},\"type\":\"scatterpolargl\"}],\"scatterternary\":[{\"marker\":{\"colorbar\":{\"outlinewidth\":0,\"ticks\":\"\"}},\"type\":\"scatterternary\"}],\"surface\":[{\"colorbar\":{\"outlinewidth\":0,\"ticks\":\"\"},\"colorscale\":[[0.0,\"#0d0887\"],[0.1111111111111111,\"#46039f\"],[0.2222222222222222,\"#7201a8\"],[0.3333333333333333,\"#9c179e\"],[0.4444444444444444,\"#bd3786\"],[0.5555555555555556,\"#d8576b\"],[0.6666666666666666,\"#ed7953\"],[0.7777777777777778,\"#fb9f3a\"],[0.8888888888888888,\"#fdca26\"],[1.0,\"#f0f921\"]],\"type\":\"surface\"}],\"table\":[{\"cells\":{\"fill\":{\"color\":\"#EBF0F8\"},\"line\":{\"color\":\"white\"}},\"header\":{\"fill\":{\"color\":\"#C8D4E3\"},\"line\":{\"color\":\"white\"}},\"type\":\"table\"}]},\"layout\":{\"annotationdefaults\":{\"arrowcolor\":\"#2a3f5f\",\"arrowhead\":0,\"arrowwidth\":1},\"autotypenumbers\":\"strict\",\"coloraxis\":{\"colorbar\":{\"outlinewidth\":0,\"ticks\":\"\"}},\"colorscale\":{\"diverging\":[[0,\"#8e0152\"],[0.1,\"#c51b7d\"],[0.2,\"#de77ae\"],[0.3,\"#f1b6da\"],[0.4,\"#fde0ef\"],[0.5,\"#f7f7f7\"],[0.6,\"#e6f5d0\"],[0.7,\"#b8e186\"],[0.8,\"#7fbc41\"],[0.9,\"#4d9221\"],[1,\"#276419\"]],\"sequential\":[[0.0,\"#0d0887\"],[0.1111111111111111,\"#46039f\"],[0.2222222222222222,\"#7201a8\"],[0.3333333333333333,\"#9c179e\"],[0.4444444444444444,\"#bd3786\"],[0.5555555555555556,\"#d8576b\"],[0.6666666666666666,\"#ed7953\"],[0.7777777777777778,\"#fb9f3a\"],[0.8888888888888888,\"#fdca26\"],[1.0,\"#f0f921\"]],\"sequentialminus\":[[0.0,\"#0d0887\"],[0.1111111111111111,\"#46039f\"],[0.2222222222222222,\"#7201a8\"],[0.3333333333333333,\"#9c179e\"],[0.4444444444444444,\"#bd3786\"],[0.5555555555555556,\"#d8576b\"],[0.6666666666666666,\"#ed7953\"],[0.7777777777777778,\"#fb9f3a\"],[0.8888888888888888,\"#fdca26\"],[1.0,\"#f0f921\"]]},\"colorway\":[\"#636efa\",\"#EF553B\",\"#00cc96\",\"#ab63fa\",\"#FFA15A\",\"#19d3f3\",\"#FF6692\",\"#B6E880\",\"#FF97FF\",\"#FECB52\"],\"font\":{\"color\":\"#2a3f5f\"},\"geo\":{\"bgcolor\":\"white\",\"lakecolor\":\"white\",\"landcolor\":\"#E5ECF6\",\"showlakes\":true,\"showland\":true,\"subunitcolor\":\"white\"},\"hoverlabel\":{\"align\":\"left\"},\"hovermode\":\"closest\",\"mapbox\":{\"style\":\"light\"},\"paper_bgcolor\":\"white\",\"plot_bgcolor\":\"#E5ECF6\",\"polar\":{\"angularaxis\":{\"gridcolor\":\"white\",\"linecolor\":\"white\",\"ticks\":\"\"},\"bgcolor\":\"#E5ECF6\",\"radialaxis\":{\"gridcolor\":\"white\",\"linecolor\":\"white\",\"ticks\":\"\"}},\"scene\":{\"xaxis\":{\"backgroundcolor\":\"#E5ECF6\",\"gridcolor\":\"white\",\"gridwidth\":2,\"linecolor\":\"white\",\"showbackground\":true,\"ticks\":\"\",\"zerolinecolor\":\"white\"},\"yaxis\":{\"backgroundcolor\":\"#E5ECF6\",\"gridcolor\":\"white\",\"gridwidth\":2,\"linecolor\":\"white\",\"showbackground\":true,\"ticks\":\"\",\"zerolinecolor\":\"white\"},\"zaxis\":{\"backgroundcolor\":\"#E5ECF6\",\"gridcolor\":\"white\",\"gridwidth\":2,\"linecolor\":\"white\",\"showbackground\":true,\"ticks\":\"\",\"zerolinecolor\":\"white\"}},\"shapedefaults\":{\"line\":{\"color\":\"#2a3f5f\"}},\"ternary\":{\"aaxis\":{\"gridcolor\":\"white\",\"linecolor\":\"white\",\"ticks\":\"\"},\"baxis\":{\"gridcolor\":\"white\",\"linecolor\":\"white\",\"ticks\":\"\"},\"bgcolor\":\"#E5ECF6\",\"caxis\":{\"gridcolor\":\"white\",\"linecolor\":\"white\",\"ticks\":\"\"}},\"title\":{\"x\":0.05},\"xaxis\":{\"automargin\":true,\"gridcolor\":\"white\",\"linecolor\":\"white\",\"ticks\":\"\",\"title\":{\"standoff\":15},\"zerolinecolor\":\"white\",\"zerolinewidth\":2},\"yaxis\":{\"automargin\":true,\"gridcolor\":\"white\",\"linecolor\":\"white\",\"ticks\":\"\",\"title\":{\"standoff\":15},\"zerolinecolor\":\"white\",\"zerolinewidth\":2}}},\"title\":{\"text\":\"Average House Values in Toronto\"}},\"margin\":[5,5,5,5],\"name\":\"interactive08164\",\"viewport_update_throttle\":200},\"id\":\"3326\",\"type\":\"panel.models.plotly.PlotlyPlot\"},{\"attributes\":{\"fill_alpha\":{\"value\":0.1},\"fill_color\":{\"field\":\"Variable\",\"transform\":{\"id\":\"3373\"}},\"line_alpha\":{\"value\":0.1},\"top\":{\"field\":\"value\"},\"width\":{\"value\":0.8},\"x\":{\"field\":\"xoffsets\"}},\"id\":\"3378\",\"type\":\"VBar\"},{\"attributes\":{\"client_comm_id\":\"61b33d9ca8dc4467995808e3be6e1394\",\"comm_id\":\"a2e3574157af4cbb80f76e162018d297\",\"plot_id\":\"3317\"},\"id\":\"3538\",\"type\":\"panel.models.comm_manager.CommManager\"},{\"attributes\":{\"axis_label\":\"year, Variable\",\"bounds\":\"auto\",\"formatter\":{\"id\":\"3382\"},\"major_label_orientation\":1.5707963267948966,\"ticker\":{\"id\":\"3354\"}},\"id\":\"3353\",\"type\":\"CategoricalAxis\"},{\"attributes\":{\"children\":[{\"id\":\"3408\"}],\"css_classes\":[\"panel-widget-box\"],\"margin\":[5,5,5,5],\"name\":\"WidgetBox08215\"},\"id\":\"3407\",\"type\":\"Column\"},{\"attributes\":{\"overlay\":{\"id\":\"3447\"}},\"id\":\"3445\",\"type\":\"BoxZoomTool\"},{\"attributes\":{\"css_classes\":[\"markdown\"],\"margin\":[5,5,5,5],\"name\":\"Markdown08234\",\"text\":\"&lt;h2&gt;Ten Most Expensive Neighbourhoods&lt;/h2&gt;\"},\"id\":\"3419\",\"type\":\"panel.models.markup.HTML\"},{\"attributes\":{},\"id\":\"3431\",\"type\":\"CategoricalScale\"},{\"attributes\":{\"fill_color\":{\"field\":\"Variable\",\"transform\":{\"id\":\"3373\"}},\"top\":{\"field\":\"value\"},\"width\":{\"value\":0.8},\"x\":{\"field\":\"xoffsets\"}},\"id\":\"3377\",\"type\":\"VBar\"},{\"attributes\":{\"axis\":{\"id\":\"3353\"},\"grid_line_color\":null,\"ticker\":null},\"id\":\"3355\",\"type\":\"Grid\"},{\"attributes\":{\"children\":[{\"id\":\"3331\"},{\"id\":\"3332\"}],\"margin\":[0,0,0,0],\"name\":\"Column08174\"},\"id\":\"3330\",\"type\":\"Column\"},{\"attributes\":{\"children\":[{\"id\":\"3426\"}],\"margin\":[0,0,0,0],\"name\":\"Row08316\"},\"id\":\"3422\",\"type\":\"Row\"},{\"attributes\":{},\"id\":\"3351\",\"type\":\"LinearScale\"},{\"attributes\":{},\"id\":\"3444\",\"type\":\"WheelZoomTool\"},{\"attributes\":{\"child\":{\"id\":\"3411\"},\"name\":\"Column08233\",\"title\":\"Ten Most Expensive Neighbourhoods\"},\"id\":\"3417\",\"type\":\"Panel\"},{\"attributes\":{},\"id\":\"3354\",\"type\":\"CategoricalTicker\"},{\"attributes\":{\"margin\":[0,0,0,0],\"tabs\":[{\"id\":\"3319\"},{\"id\":\"3327\"},{\"id\":\"3334\"},{\"id\":\"3410\"},{\"id\":\"3417\"},{\"id\":\"3483\"}]},\"id\":\"3317\",\"type\":\"Tabs\"},{\"attributes\":{},\"id\":\"3395\",\"type\":\"UnionRenderers\"},{\"attributes\":{\"text\":\"Top Ten Most Expensive Neighbourhoods\",\"text_color\":{\"value\":\"black\"},\"text_font_size\":{\"value\":\"12pt\"}},\"id\":\"3427\",\"type\":\"Title\"},{\"attributes\":{\"active_drag\":\"auto\",\"active_inspect\":\"auto\",\"active_multi\":null,\"active_scroll\":\"auto\",\"active_tap\":\"auto\",\"tools\":[{\"id\":\"3425\"},{\"id\":\"3442\"},{\"id\":\"3443\"},{\"id\":\"3444\"},{\"id\":\"3445\"},{\"id\":\"3446\"}]},\"id\":\"3448\",\"type\":\"Toolbar\"},{\"attributes\":{},\"id\":\"3364\",\"type\":\"ResetTool\"},{\"attributes\":{},\"id\":\"3442\",\"type\":\"SaveTool\"},{\"attributes\":{\"end\":1597812.3,\"reset_end\":1597812.3,\"reset_start\":0.0,\"tags\":[[[\"average_house_value\",\"average_house_value\",null]]]},\"id\":\"3424\",\"type\":\"Range1d\"},{\"attributes\":{},\"id\":\"3357\",\"type\":\"BasicTicker\"},{\"attributes\":{\"data\":{\"average_house_value\":{\"__ndarray__\":\"AAAAwNVKN0EAAACA2D8yQQAAAMCLsTBBAAAAAAiwMEEAAAAAhn0uQQAAAICQ8C1BAAAAgN5kLEEAAAAAwf0pQQAAAIDEuylBAAAAgEjRKEE=\",\"dtype\":\"float64\",\"order\":\"little\",\"shape\":[10]},\"neighbourhood\":[\"Bridle Path-Sunnybrook-York Mills\",\"Forest Hill South\",\"Lawrence Park South\",\"Rosedale-Moore Park\",\"St.Andrew-Windfields\",\"Casa Loma\",\"Bedford Park-Nortown\",\"Forest Hill North\",\"Kingsway South\",\"Yonge-St.Clair\"]},\"selected\":{\"id\":\"3456\"},\"selection_policy\":{\"id\":\"3472\"}},\"id\":\"3455\",\"type\":\"ColumnDataSource\"},{\"attributes\":{\"child\":{\"id\":\"3328\"},\"name\":\"Column08179\",\"title\":\"Average Value by Neighbourhood\"},\"id\":\"3334\",\"type\":\"Panel\"},{\"attributes\":{\"child\":{\"id\":\"3418\"},\"name\":\"Column08318\",\"title\":\"Dwelling Types per Year\"},\"id\":\"3483\",\"type\":\"Panel\"},{\"attributes\":{\"axis\":{\"id\":\"3356\"},\"dimension\":1,\"grid_line_color\":null,\"ticker\":null},\"id\":\"3359\",\"type\":\"Grid\"},{\"attributes\":{},\"id\":\"3446\",\"type\":\"ResetTool\"},{\"attributes\":{\"css_classes\":[\"markdown\"],\"margin\":[5,5,5,5],\"name\":\"Markdown08162\",\"text\":\"&lt;h2&gt;Neighbourhood Map&lt;/h2&gt;\"},\"id\":\"3321\",\"type\":\"panel.models.markup.HTML\"},{\"attributes\":{\"child\":{\"id\":\"3318\"},\"name\":\"Markdown08160\",\"title\":\"Intro\"},\"id\":\"3319\",\"type\":\"Panel\"},{\"attributes\":{\"margin\":[0,0,0,0],\"name\":\"Column08178\"},\"id\":\"3331\",\"type\":\"Column\"},{\"attributes\":{\"children\":[{\"id\":\"3333\"}],\"margin\":[0,0,0,0],\"name\":\"Row08177\"},\"id\":\"3332\",\"type\":\"Row\"},{\"attributes\":{\"axis_label\":\"\",\"bounds\":\"auto\",\"formatter\":{\"id\":\"3385\"},\"major_label_orientation\":\"horizontal\",\"ticker\":{\"id\":\"3357\"}},\"id\":\"3356\",\"type\":\"LinearAxis\"},{\"attributes\":{\"margin\":[20,20,20,20],\"min_width\":250,\"options\":[\"Agincourt North\",\"Agincourt South-Malvern West\",\"Alderwood\",\"Annex\",\"Banbury-Don Mills\",\"Bathurst Manor\",\"Bay Street Corridor\",\"Bayview Village\",\"Bayview Woods-Steeles\",\"Bedford Park-Nortown\",\"Beechborough-Greenbrook\",\"Bendale\",\"Birchcliffe-Cliffside\",\"Black Creek\",\"Blake-Jones\",\"Briar Hill-Belgravia\",\"Bridle Path-Sunnybrook-York Mills\",\"Broadview North\",\"Brookhaven-Amesbury\",\"Cabbagetown-South St.James Town\",\"Caledonia-Fairbank\",\"Casa Loma\",\"Centennial Scarborough\",\"Church-Yonge Corridor\",\"Clairlea-Birchmount\",\"Clanton Park\",\"Cliffcrest\",\"Corso Italia-Davenport\",\"Danforth\",\"Danforth-East York\",\"Don Valley Village\",\"Dorset Park\",\"Dovercourt-Wallace Emerson-Juncti\",\"Downsview-Roding-CFB\",\"Dufferin Grove\",\"East End-Danforth\",\"Edenbridge-Humber Valley\",\"Eglinton East\",\"Elms-Old Rexdale\",\"Englemount-Lawrence\",\"Eringate-Centennial-West Deane\",\"Etobicoke West Mall\",\"Flemingdon Park\",\"Forest Hill North\",\"Forest Hill South\",\"Glenfield-Jane Heights\",\"Greenwood-Coxwell\",\"Guildwood\",\"Henry Farm\",\"High Park North\",\"High Park-Swansea\",\"Highland Creek\",\"Hillcrest Village\",\"Humber Heights-Westmount\",\"Humber Summit\",\"Humbermede\",\"Humewood-Cedarvale\",\"Ionview\",\"Islington-City Centre West\",\"Junction Area\",\"Keelesdale-Eglinton West\",\"Kennedy Park\",\"Kensington-Chinatown\",\"Kingsview Village-The Westway\",\"Kingsway South\",\"L'Amoreaux\",\"Lambton Baby Point\",\"Lansing-Westgate\",\"Lawrence Park North\",\"Lawrence Park South\",\"Leaside-Bennington\",\"Little Portugal\",\"Long Branch\",\"Malvern\",\"Maple Leaf\",\"Markland Wood\",\"Milliken\",\"Mimico\",\"Morningside\",\"Moss Park\",\"Mount Dennis\",\"Mount Olive-Silverstone-Jamestown\",\"Mount Pleasant East\",\"Mount Pleasant West\",\"New Toronto\",\"Newtonbrook East\",\"Newtonbrook West\",\"Niagara\",\"North Riverdale\",\"North St.James Town\",\"O'Connor-Parkview\",\"Oakridge\",\"Oakwood Village\",\"Old East York\",\"Palmerston-Little Italy\",\"Parkwoods-Donalda\",\"Pelmo Park-Humberlea\",\"Playter Estates-Danforth\",\"Pleasant View\",\"Princess-Rosethorn\",\"Regent Park\",\"Rexdale-Kipling\",\"Rockcliffe-Smythe\",\"Roncesvalles\",\"Rosedale-Moore Park\",\"Rouge\",\"Runnymede-Bloor West Village\",\"Rustic\",\"Scarborough Village\",\"South Parkdale\",\"South Riverdale\",\"St.Andrew-Windfields\",\"Steeles\",\"Stonegate-Queensway\",\"Tam O'Shanter-Sullivan\",\"Taylor-Massey\",\"The Beaches\",\"Thistletown-Beaumond Heights\",\"Thorncliffe Park\",\"Trinity-Bellwoods\",\"University\",\"Victoria Village\",\"Waterfront Communities-The Island\",\"West Hill\",\"West Humber-Clairville\",\"Westminster-Branson\",\"Weston\",\"Weston-Pellam Park\",\"Wexford/Maryvale\",\"Willowdale East\",\"Willowdale West\",\"Willowridge-Martingrove-Richview\",\"Woburn\",\"Woodbine Corridor\",\"Woodbine-Lumsden\",\"Wychwood\",\"Yonge-Eglinton\",\"Yonge-St.Clair\",\"York University Heights\",\"Yorkdale-Glen Park\"],\"title\":\"neighbourhood\",\"value\":\"Agincourt North\",\"width\":250},\"id\":\"3408\",\"type\":\"Select\"},{\"attributes\":{\"axis\":{\"id\":\"3435\"},\"grid_line_color\":null,\"ticker\":null},\"id\":\"3437\",\"type\":\"Grid\"},{\"attributes\":{\"margin\":[5,5,5,5],\"name\":\"VSpacer08220\",\"sizing_mode\":\"stretch_height\"},\"id\":\"3409\",\"type\":\"Spacer\"},{\"attributes\":{\"margin\":[0,0,0,0],\"name\":\"Column08317\"},\"id\":\"3421\",\"type\":\"Column\"},{\"attributes\":{\"css_classes\":[\"markdown\"],\"margin\":[5,5,5,5],\"name\":\"Markdown08180\",\"text\":\"&lt;h2&gt;Dwelling Units per Year&lt;/h2&gt;\"},\"id\":\"3336\",\"type\":\"panel.models.markup.HTML\"},{\"attributes\":{\"data\":{\"Variable\":[\"single_detached_house\",\"single_detached_house\",\"single_detached_house\",\"single_detached_house\",\"apartment_five_storeys_plus\",\"apartment_five_storeys_plus\",\"apartment_five_storeys_plus\",\"apartment_five_storeys_plus\",\"movable_dwelling\",\"movable_dwelling\",\"movable_dwelling\",\"movable_dwelling\",\"semi_detached_house\",\"semi_detached_house\",\"semi_detached_house\",\"semi_detached_house\",\"row_house\",\"row_house\",\"row_house\",\"row_house\",\"duplex\",\"duplex\",\"duplex\",\"duplex\",\"apartment_five_storeys_less\",\"apartment_five_storeys_less\",\"apartment_five_storeys_less\",\"apartment_five_storeys_less\",\"other_house\",\"other_house\",\"other_house\",\"other_house\"],\"value\":[3715,3295,3385,3345,1480,2060,2130,2120,0,0,5,5,1055,775,820,805,1295,1425,1465,1440,195,600,610,645,185,565,705,735,5,0,20,15],\"xoffsets\":[[\"2001\",\"single_detached_house\"],[\"2006\",\"single_detached_house\"],[\"2011\",\"single_detached_house\"],[\"2016\",\"single_detached_house\"],[\"2001\",\"apartment_five_storeys_plus\"],[\"2006\",\"apartment_five_storeys_plus\"],[\"2011\",\"apartment_five_storeys_plus\"],[\"2016\",\"apartment_five_storeys_plus\"],[\"2001\",\"movable_dwelling\"],[\"2006\",\"movable_dwelling\"],[\"2011\",\"movable_dwelling\"],[\"2016\",\"movable_dwelling\"],[\"2001\",\"semi_detached_house\"],[\"2006\",\"semi_detached_house\"],[\"2011\",\"semi_detached_house\"],[\"2016\",\"semi_detached_house\"],[\"2001\",\"row_house\"],[\"2006\",\"row_house\"],[\"2011\",\"row_house\"],[\"2016\",\"row_house\"],[\"2001\",\"duplex\"],[\"2006\",\"duplex\"],[\"2011\",\"duplex\"],[\"2016\",\"duplex\"],[\"2001\",\"apartment_five_storeys_less\"],[\"2006\",\"apartment_five_storeys_less\"],[\"2011\",\"apartment_five_storeys_less\"],[\"2016\",\"apartment_five_storeys_less\"],[\"2001\",\"other_house\"],[\"2006\",\"other_house\"],[\"2011\",\"other_house\"],[\"2016\",\"other_house\"]],\"year\":[\"2001\",\"2006\",\"2011\",\"2016\",\"2001\",\"2006\",\"2011\",\"2016\",\"2001\",\"2006\",\"2011\",\"2016\",\"2001\",\"2006\",\"2011\",\"2016\",\"2001\",\"2006\",\"2011\",\"2016\",\"2001\",\"2006\",\"2011\",\"2016\",\"2001\",\"2006\",\"2011\",\"2016\",\"2001\",\"2006\",\"2011\",\"2016\"]},\"selected\":{\"id\":\"3375\"},\"selection_policy\":{\"id\":\"3395\"}},\"id\":\"3374\",\"type\":\"ColumnDataSource\"},{\"attributes\":{},\"id\":\"3362\",\"type\":\"WheelZoomTool\"},{\"attributes\":{\"factors\":[[\"2001\",\"other_house\"],[\"2001\",\"apartment_five_storeys_less\"],[\"2001\",\"duplex\"],[\"2001\",\"row_house\"],[\"2001\",\"semi_detached_house\"],[\"2001\",\"movable_dwelling\"],[\"2001\",\"apartment_five_storeys_plus\"],[\"2001\",\"single_detached_house\"],[\"2006\",\"other_house\"],[\"2006\",\"apartment_five_storeys_less\"],[\"2006\",\"duplex\"],[\"2006\",\"row_house\"],[\"2006\",\"semi_detached_house\"],[\"2006\",\"movable_dwelling\"],[\"2006\",\"apartment_five_storeys_plus\"],[\"2006\",\"single_detached_house\"],[\"2011\",\"other_house\"],[\"2011\",\"apartment_five_storeys_less\"],[\"2011\",\"duplex\"],[\"2011\",\"row_house\"],[\"2011\",\"semi_detached_house\"],[\"2011\",\"movable_dwelling\"],[\"2011\",\"apartment_five_storeys_plus\"],[\"2011\",\"single_detached_house\"],[\"2016\",\"other_house\"],[\"2016\",\"apartment_five_storeys_less\"],[\"2016\",\"duplex\"],[\"2016\",\"row_house\"],[\"2016\",\"semi_detached_house\"],[\"2016\",\"movable_dwelling\"],[\"2016\",\"apartment_five_storeys_plus\"],[\"2016\",\"single_detached_house\"]],\"tags\":[[[\"year\",\"year\",null],[\"Variable\",\"Variable\",null]]]},\"id\":\"3341\",\"type\":\"FactorRange\"},{\"attributes\":{},\"id\":\"3466\",\"type\":\"BasicTickFormatter\"},{\"attributes\":{\"factors\":[\"single_detached_house\",\"apartment_five_storeys_plus\",\"movable_dwelling\",\"semi_detached_house\",\"row_house\",\"duplex\",\"apartment_five_storeys_less\",\"other_house\"],\"palette\":[\"#30a2da\",\"#fc4f30\",\"#e5ae38\",\"#6d904f\",\"#8b8b8b\",\"#17becf\",\"#9467bd\",\"#d62728\"]},\"id\":\"3373\",\"type\":\"CategoricalColorMapper\"},{\"attributes\":{\"children\":[{\"id\":\"3344\"},{\"id\":\"3406\"}],\"margin\":[0,0,0,0],\"name\":\"interactive08182\"},\"id\":\"3340\",\"type\":\"Row\"},{\"attributes\":{},\"id\":\"3472\",\"type\":\"UnionRenderers\"},{\"attributes\":{\"children\":[{\"id\":\"3416\"}],\"margin\":[0,0,0,0],\"name\":\"Row08231\"},\"id\":\"3415\",\"type\":\"Row\"},{\"attributes\":{},\"id\":\"3349\",\"type\":\"CategoricalScale\"},{\"attributes\":{\"margin\":[5,5,5,5],\"name\":\"interactive08227\",\"text\":\"&lt;table border=&quot;0&quot; class=&quot;dataframe panel-df&quot;&gt;\\n  &lt;thead&gt;\\n    &lt;tr style=&quot;text-align: right;&quot;&gt;\\n      &lt;th&gt;&lt;/th&gt;\\n      &lt;th&gt;average_house_value&lt;/th&gt;\\n    &lt;/tr&gt;\\n    &lt;tr&gt;\\n      &lt;th&gt;year&lt;/th&gt;\\n      &lt;th&gt;&lt;/th&gt;\\n    &lt;/tr&gt;\\n  &lt;/thead&gt;\\n  &lt;tbody&gt;\\n    &lt;tr&gt;\\n      &lt;th&gt;2001&lt;/th&gt;\\n      &lt;td&gt;289882.885714&lt;/td&gt;\\n    &lt;/tr&gt;\\n    &lt;tr&gt;\\n      &lt;th&gt;2006&lt;/th&gt;\\n      &lt;td&gt;424059.664286&lt;/td&gt;\\n    &lt;/tr&gt;\\n    &lt;tr&gt;\\n      &lt;th&gt;2011&lt;/th&gt;\\n      &lt;td&gt;530424.721429&lt;/td&gt;\\n    &lt;/tr&gt;\\n    &lt;tr&gt;\\n      &lt;th&gt;2016&lt;/th&gt;\\n      &lt;td&gt;664068.328571&lt;/td&gt;\\n    &lt;/tr&gt;\\n  &lt;/tbody&gt;\\n&lt;/table&gt;\"},\"id\":\"3416\",\"type\":\"panel.models.markup.HTML\"},{\"attributes\":{},\"id\":\"3360\",\"type\":\"SaveTool\"},{\"attributes\":{\"source\":{\"id\":\"3374\"}},\"id\":\"3381\",\"type\":\"CDSView\"},{\"attributes\":{\"axis_label\":\"neighbourhood\",\"bounds\":\"auto\",\"formatter\":{\"id\":\"3463\"},\"major_label_orientation\":1.5707963267948966,\"ticker\":{\"id\":\"3436\"}},\"id\":\"3435\",\"type\":\"CategoricalAxis\"},{\"attributes\":{},\"id\":\"3361\",\"type\":\"PanTool\"},{\"attributes\":{\"children\":[{\"id\":\"3421\"},{\"id\":\"3422\"}],\"margin\":[0,0,0,0],\"name\":\"Column08237\"},\"id\":\"3420\",\"type\":\"Column\"},{\"attributes\":{\"below\":[{\"id\":\"3435\"}],\"center\":[{\"id\":\"3437\"},{\"id\":\"3441\"}],\"left\":[{\"id\":\"3438\"}],\"margin\":[5,5,5,5],\"min_border_bottom\":10,\"min_border_left\":10,\"min_border_right\":10,\"min_border_top\":10,\"plot_height\":400,\"plot_width\":650,\"renderers\":[{\"id\":\"3461\"}],\"sizing_mode\":\"fixed\",\"title\":{\"id\":\"3427\"},\"toolbar\":{\"id\":\"3448\"},\"x_range\":{\"id\":\"3423\"},\"x_scale\":{\"id\":\"3431\"},\"y_range\":{\"id\":\"3424\"},\"y_scale\":{\"id\":\"3433\"}},\"id\":\"3426\",\"subtype\":\"Figure\",\"type\":\"Plot\"},{\"attributes\":{\"children\":[{\"id\":\"3329\"},{\"id\":\"3330\"}],\"margin\":[0,0,0,0],\"name\":\"Column08179\"},\"id\":\"3328\",\"type\":\"Column\"},{\"attributes\":{\"overlay\":{\"id\":\"3365\"}},\"id\":\"3363\",\"type\":\"BoxZoomTool\"},{\"attributes\":{\"margin\":[5,5,5,5],\"name\":\"interactive08173\",\"text\":\"&lt;pre&gt;&lt;pandas.plotting._core.SeriesPlotMethods object at 0x0000027ECDF74508&gt;&lt;/pre&gt;\"},\"id\":\"3333\",\"type\":\"panel.models.markup.HTML\"},{\"attributes\":{\"children\":[{\"id\":\"3407\"},{\"id\":\"3409\"}],\"margin\":[0,0,0,0],\"name\":\"Column08221\"},\"id\":\"3406\",\"type\":\"Column\"},{\"attributes\":{\"callback\":null,\"renderers\":[{\"id\":\"3461\"}],\"tags\":[\"hv_created\"],\"tooltips\":[[\"neighbourhood\",\"@{neighbourhood}\"],[\"average_house_value\",\"@{average_house_value}\"]]},\"id\":\"3425\",\"type\":\"HoverTool\"},{\"attributes\":{\"children\":[{\"id\":\"3412\"},{\"id\":\"3413\"}],\"margin\":[0,0,0,0],\"name\":\"Column08233\"},\"id\":\"3411\",\"type\":\"Column\"},{\"attributes\":{\"css_classes\":[\"markdown\"],\"margin\":[5,5,5,5],\"name\":\"Markdown08225\",\"text\":\"&lt;h2&gt;Average Value per Year&lt;/h2&gt;\"},\"id\":\"3412\",\"type\":\"panel.models.markup.HTML\"},{\"attributes\":{\"children\":[{\"id\":\"3419\"},{\"id\":\"3420\"}],\"margin\":[0,0,0,0],\"name\":\"Column08318\"},\"id\":\"3418\",\"type\":\"Column\"},{\"attributes\":{\"fill_alpha\":{\"value\":0.1},\"fill_color\":{\"value\":\"#30a2da\"},\"line_alpha\":{\"value\":0.1},\"top\":{\"field\":\"average_house_value\"},\"width\":{\"value\":0.8},\"x\":{\"field\":\"neighbourhood\"}},\"id\":\"3459\",\"type\":\"VBar\"},{\"attributes\":{\"margin\":[0,0,0,0],\"name\":\"Column08169\"},\"id\":\"3323\",\"type\":\"Column\"},{\"attributes\":{\"callback\":null,\"renderers\":[{\"id\":\"3380\"}],\"tags\":[\"hv_created\"],\"tooltips\":[[\"year\",\"@{year}\"],[\"Variable\",\"@{Variable}\"],[\"value\",\"@{value}\"]]},\"id\":\"3343\",\"type\":\"HoverTool\"},{\"attributes\":{\"active_drag\":\"auto\",\"active_inspect\":\"auto\",\"active_multi\":null,\"active_scroll\":\"auto\",\"active_tap\":\"auto\",\"tools\":[{\"id\":\"3343\"},{\"id\":\"3360\"},{\"id\":\"3361\"},{\"id\":\"3362\"},{\"id\":\"3363\"},{\"id\":\"3364\"}]},\"id\":\"3366\",\"type\":\"Toolbar\"},{\"attributes\":{\"fill_color\":{\"value\":\"#30a2da\"},\"top\":{\"field\":\"average_house_value\"},\"width\":{\"value\":0.8},\"x\":{\"field\":\"neighbourhood\"}},\"id\":\"3458\",\"type\":\"VBar\"},{\"attributes\":{\"margin\":[0,0,0,0],\"name\":\"Column08232\"},\"id\":\"3414\",\"type\":\"Column\"},{\"attributes\":{},\"id\":\"3436\",\"type\":\"CategoricalTicker\"},{\"attributes\":{},\"id\":\"3433\",\"type\":\"LinearScale\"},{\"attributes\":{\"children\":[{\"id\":\"3323\"},{\"id\":\"3324\"}],\"margin\":[0,0,0,0],\"name\":\"Column08165\"},\"id\":\"3322\",\"type\":\"Column\"},{\"attributes\":{\"fill_alpha\":{\"value\":0.2},\"fill_color\":{\"field\":\"Variable\",\"transform\":{\"id\":\"3373\"}},\"line_alpha\":{\"value\":0.2},\"top\":{\"field\":\"value\"},\"width\":{\"value\":0.8},\"x\":{\"field\":\"xoffsets\"}},\"id\":\"3379\",\"type\":\"VBar\"},{\"attributes\":{\"factors\":[\"Bridle Path-Sunnybrook-York Mills\",\"Forest Hill South\",\"Lawrence Park South\",\"Rosedale-Moore Park\",\"St.Andrew-Windfields\",\"Casa Loma\",\"Bedford Park-Nortown\",\"Forest Hill North\",\"Kingsway South\",\"Yonge-St.Clair\"],\"tags\":[[[\"neighbourhood\",\"neighbourhood\",null]]]},\"id\":\"3423\",\"type\":\"FactorRange\"},{\"attributes\":{\"children\":[{\"id\":\"3414\"},{\"id\":\"3415\"}],\"margin\":[0,0,0,0],\"name\":\"Column08228\"},\"id\":\"3413\",\"type\":\"Column\"},{\"attributes\":{\"axis_label\":\"average house value\",\"bounds\":\"auto\",\"formatter\":{\"id\":\"3466\"},\"major_label_orientation\":\"horizontal\",\"ticker\":{\"id\":\"3439\"}},\"id\":\"3438\",\"type\":\"LinearAxis\"},{\"attributes\":{},\"id\":\"3375\",\"type\":\"Selection\"},{\"attributes\":{},\"id\":\"3385\",\"type\":\"BasicTickFormatter\"},{\"attributes\":{\"child\":{\"id\":\"3335\"},\"name\":\"Column08224\",\"title\":\"Dwelling Units per Year\"},\"id\":\"3410\",\"type\":\"Panel\"},{\"attributes\":{\"axis\":{\"id\":\"3438\"},\"dimension\":1,\"grid_line_color\":null,\"ticker\":null},\"id\":\"3441\",\"type\":\"Grid\"},{\"attributes\":{\"children\":[{\"id\":\"3326\"}],\"margin\":[0,0,0,0],\"name\":\"Row08168\"},\"id\":\"3324\",\"type\":\"Row\"},{\"attributes\":{\"margin\":[0,0,0,0],\"name\":\"Column08223\"},\"id\":\"3338\",\"type\":\"Column\"},{\"attributes\":{\"css_classes\":[\"markdown\"],\"margin\":[5,5,5,5],\"name\":\"Markdown08171\",\"text\":\"&lt;h3&gt;Average House Value by Neighbourhood&lt;/h3&gt;\"},\"id\":\"3329\",\"type\":\"panel.models.markup.HTML\"},{\"attributes\":{},\"id\":\"3439\",\"type\":\"BasicTicker\"},{\"attributes\":{},\"id\":\"3463\",\"type\":\"CategoricalTickFormatter\"},{\"attributes\":{\"data_source\":{\"id\":\"3374\"},\"glyph\":{\"id\":\"3377\"},\"hover_glyph\":null,\"muted_glyph\":{\"id\":\"3379\"},\"nonselection_glyph\":{\"id\":\"3378\"},\"selection_glyph\":null,\"view\":{\"id\":\"3381\"}},\"id\":\"3380\",\"type\":\"GlyphRenderer\"},{\"attributes\":{},\"id\":\"3443\",\"type\":\"PanTool\"},{\"attributes\":{\"children\":[{\"id\":\"3321\"},{\"id\":\"3322\"}],\"margin\":[0,0,0,0],\"name\":\"Column08170\"},\"id\":\"3320\",\"type\":\"Column\"},{\"attributes\":{\"bottom_units\":\"screen\",\"fill_alpha\":0.5,\"fill_color\":\"lightgrey\",\"left_units\":\"screen\",\"level\":\"overlay\",\"line_alpha\":1.0,\"line_color\":\"black\",\"line_dash\":[4,4],\"line_width\":2,\"right_units\":\"screen\",\"top_units\":\"screen\"},\"id\":\"3365\",\"type\":\"BoxAnnotation\"},{\"attributes\":{},\"id\":\"3485\",\"type\":\"UnionRenderers\"},{\"attributes\":{},\"id\":\"3382\",\"type\":\"CategoricalTickFormatter\"},{\"attributes\":{},\"id\":\"3456\",\"type\":\"Selection\"},{\"attributes\":{\"data_source\":{\"id\":\"3455\"},\"glyph\":{\"id\":\"3458\"},\"hover_glyph\":null,\"muted_glyph\":{\"id\":\"3460\"},\"nonselection_glyph\":{\"id\":\"3459\"},\"selection_glyph\":null,\"view\":{\"id\":\"3462\"}},\"id\":\"3461\",\"type\":\"GlyphRenderer\"},{\"attributes\":{\"text\":\"Number of Dwelling Types per Year\",\"text_color\":{\"value\":\"black\"},\"text_font_size\":{\"value\":\"12pt\"}},\"id\":\"3345\",\"type\":\"Title\"},{\"attributes\":{\"children\":[{\"id\":\"3338\"},{\"id\":\"3339\"}],\"margin\":[0,0,0,0],\"name\":\"Column08183\"},\"id\":\"3337\",\"type\":\"Column\"},{\"attributes\":{\"source\":{\"id\":\"3455\"}},\"id\":\"3462\",\"type\":\"CDSView\"},{\"attributes\":{\"child\":{\"id\":\"3320\"},\"name\":\"Column08170\",\"title\":\"Mapbox Plot\"},\"id\":\"3327\",\"type\":\"Panel\"},{\"attributes\":{\"children\":[{\"id\":\"3340\"}],\"margin\":[0,0,0,0],\"name\":\"Row08222\"},\"id\":\"3339\",\"type\":\"Row\"},{\"attributes\":{\"end\":4086.5,\"reset_end\":4086.5,\"reset_start\":0.0,\"tags\":[[[\"value\",\"value\",null]]]},\"id\":\"3342\",\"type\":\"Range1d\"},{\"attributes\":{\"data\":{\"customdata\":[{\"__ndarray__\":\"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\",\"dtype\":\"float64\",\"order\":\"little\",\"shape\":[140,8]}],\"hovertext\":[[\"Agincourt North\",\"Agincourt South-Malvern West\",\"Alderwood\",\"Annex\",\"Banbury-Don Mills\",\"Bathurst Manor\",\"Bay Street Corridor\",\"Bayview Village\",\"Bayview Woods-Steeles\",\"Bedford Park-Nortown\",\"Beechborough-Greenbrook\",\"Bendale\",\"Birchcliffe-Cliffside\",\"Black Creek\",\"Blake-Jones\",\"Briar Hill-Belgravia\",\"Bridle Path-Sunnybrook-York Mills\",\"Broadview North\",\"Brookhaven-Amesbury\",\"Cabbagetown-South St.James Town\",\"Caledonia-Fairbank\",\"Casa Loma\",\"Centennial Scarborough\",\"Church-Yonge Corridor\",\"Clairlea-Birchmount\",\"Clanton Park\",\"Cliffcrest\",\"Corso Italia-Davenport\",\"Danforth\",\"Danforth-East York\",\"Don Valley Village\",\"Dorset Park\",\"Dovercourt-Wallace Emerson-Juncti\",\"Downsview-Roding-CFB\",\"Dufferin Grove\",\"East End-Danforth\",\"Edenbridge-Humber Valley\",\"Eglinton East\",\"Elms-Old Rexdale\",\"Englemount-Lawrence\",\"Eringate-Centennial-West Deane\",\"Etobicoke West Mall\",\"Flemingdon Park\",\"Forest Hill North\",\"Forest Hill South\",\"Glenfield-Jane Heights\",\"Greenwood-Coxwell\",\"Guildwood\",\"Henry Farm\",\"High Park North\",\"High Park-Swansea\",\"Highland Creek\",\"Hillcrest Village\",\"Humber Heights-Westmount\",\"Humber Summit\",\"Humbermede\",\"Humewood-Cedarvale\",\"Ionview\",\"Islington-City Centre West\",\"Junction Area\",\"Keelesdale-Eglinton West\",\"Kennedy Park\",\"Kensington-Chinatown\",\"Kingsview Village-The Westway\",\"Kingsway South\",\"L'Amoreaux\",\"Lambton Baby Point\",\"Lansing-Westgate\",\"Lawrence Park North\",\"Lawrence Park South\",\"Leaside-Bennington\",\"Little Portugal\",\"Long Branch\",\"Malvern\",\"Maple Leaf\",\"Markland Wood\",\"Milliken\",\"Mimico\",\"Morningside\",\"Moss Park\",\"Mount Dennis\",\"Mount Olive-Silverstone-Jamestown\",\"Mount Pleasant East\",\"Mount Pleasant West\",\"New Toronto\",\"Newtonbrook East\",\"Newtonbrook West\",\"Niagara\",\"North Riverdale\",\"North St.James Town\",\"O'Connor-Parkview\",\"Oakridge\",\"Oakwood Village\",\"Old East York\",\"Palmerston-Little Italy\",\"Parkwoods-Donalda\",\"Pelmo Park-Humberlea\",\"Playter Estates-Danforth\",\"Pleasant View\",\"Princess-Rosethorn\",\"Regent Park\",\"Rexdale-Kipling\",\"Rockcliffe-Smythe\",\"Roncesvalles\",\"Rosedale-Moore Park\",\"Rouge\",\"Runnymede-Bloor West Village\",\"Rustic\",\"Scarborough Village\",\"South Parkdale\",\"South Riverdale\",\"St.Andrew-Windfields\",\"Steeles\",\"Stonegate-Queensway\",\"Tam O'Shanter-Sullivan\",\"Taylor-Massey\",\"The Beaches\",\"Thistletown-Beaumond Heights\",\"Thorncliffe Park\",\"Trinity-Bellwoods\",\"University\",\"Victoria Village\",\"Waterfront Communities-The Island\",\"West Hill\",\"West Humber-Clairville\",\"Westminster-Branson\",\"Weston\",\"Weston-Pellam Park\",\"Wexford/Maryvale\",\"Willowdale East\",\"Willowdale West\",\"Willowridge-Martingrove-Richview\",\"Woburn\",\"Woodbine Corridor\",\"Woodbine-Lumsden\",\"Wychwood\",\"Yonge-Eglinton\",\"Yonge-St.Clair\",\"York University Heights\",\"Yorkdale-Glen Park\"]],\"lat\":[{\"__ndarray__\":\"U/xKrRjnRUArfwi78uRFQGLShJJuzUVAiKL+gvbVRUAuVWmLa95FQG3/DGfl4UVA2X/4VCnURUAcpxHIX+NFQFWFipr95UVAhKk9V6HdRUCIzGRRu9hFQBE36a5T4UVAOpzQVuvYRUC/Y3js5+FFQGUFO9WM1kVAdJqBoXnZRUCGn6zWkd1FQBmI6Wsr2EVAHqN+D8XZRUCgzBZ7ddVFQINmfAQj2EVAvhr77UbXRUBYVMTpJORFQJdFtF9v1EVALWO//lbbRUD+lzEm+d5FQDjN0LJN3EVAIh27l73WRUD5o4cljtdFQMEXiX1A2EVASdu290LkRUCm6w3nL+FFQJ0G0uY01UVAGNQShtzdRUBnHFUT5dNFQFCwewKT10VAC2bplt/VRUBFsLuK1t5FQGYM97pa3EVAvL8PQTTcRUC/NajkOdRFQNNidGmR0kVA4j0HlqPbRUAFvA7NI9pFQPu2WDjm2EVAPX0E/nDfRUAjKwEpGNZFQOrKyqPZ30VAqebm2bTiRUA9uUMWK9RFQDl05XmR0kVActOPGzjlRUDPdyJOyOZFQPibmhWb2EVA7URJSCThRUD3o9GyKN9FQCSyUc5+2EVA0svFayDeRUB4u7lTFdFFQNK9d2l91UVANs/w6sXXRUCyaYQC39xFQARCZ6mn00VABCaqlnjZRUAWD7WOptNFQGHg2gXa5UVAgQrDVybURUB9yAD1i+BFQJAhlZxy3UVAf+fNl83bRUBIcQoCFtpFQN8qFXXi0kVABfoCgtLLRUDFFJtF3uZFQL4VR+2X20VAR3Nk5RfRRUDWllNlDOlFQFfD0ZfWzkVAZDE9oyXkRUDqkvXECNRFQCu+BBsV2EVAvbczXZnfRUATVY2YONpFQK+mgO4q2kVA26xVFuDMRUDu1HULUeVFQEJCUhOW5EVAVMtSwn7RRUAKKeTvA9ZFQAJLSzi21UVAY6w+cHjaRUBCKGurRNlFQAytkOoi2EVAxI7vIDDZRUCOtoVCX9RFQIiEzu+k4EVAhrO2hNfbRUDo3MxsANdFQNDffNG75EVAlz1kJUHVRUBidVifetRFQOLwWQmj3EVAmjORiF/WRUAzn3sotNJFQAHy66hm10VAJ5F1Hx3pRUAVlrLrYtRFQLn39AEW20VAL+rmJIzeRUCz469ef9FFQFGgkQAc00VADsvRqczgRUAW7PEID+hFQLsueKhY0UVAEzGAS9vjRUAjamCz9dhFQPyDUPfk1UVAHZ9eY3beRUAkXK+Gl9pFQDCRHPo400VA2TLPAM3URUCSMtIgP91FQGvj2/0i0UVAalnvHj3iRUCiBKLMq9tFQNbLziaw40VA6Y96mfLZRUDRRVxjRNZFQJX/PTbR30VAO3ZIGKPiRUDqcHwGt+JFQDujlK2B10VA4alPiyTiRUD1G7t+oNZFQNkdWn3Y2EVAUldnSqXWRUCS/uJCM9pFQO50a8IL2EVAsfM+pwPiRUC7XVBbettFQA==\",\"dtype\":\"float64\",\"order\":\"little\",\"shape\":[140]}],\"lon\":[{\"__ndarray__\":\"GObrzxHRU8Chm6LI/9BTwGXg48Cp4lPArp1qJdvZU8AVu4XHYdZTwNBX+wEw3VPA04cuqK/YU8AYHsGuIthTwLud2J502FPAoEhBAeXaU8D8cXetr95TwDbIZj950FPAkB3pRvfQU8CnJfMbaOFTwLWAt92X1VPA3twEhPvcU8C8WlH3P9hTwFK8RqLC1lPASb/55BPfU8AP46BKbtdTwAYW2TEi3VPAPJPsxxzaU8Aw3odqp8lTwHBxO9FB2FPAlLK5KALSU8AbTrI4kNxTwAUZnuoSz1PACZRmVqPcU8BO4t7CG9VTwJG4hbY11VPAbzH9GqLWU8BDObCg2dFTwMIdAw0R3FPAlEH/TmTfU8Dq/0Vl/dtTwCRbRLEo01PAcy+s8m/hU8DAcNfgt89TwAYea4gi41PAaU9ugP7bU8DPusoDJuVTwOWkKH5p5FPA9ZJSEkrVU8AxjZGyZttTwFG2Di+E2lPA7kGlndzgU8DTWV6gwdRTwDtKb8l7zFPAxW0b49bVU8AMjQ7l191TwNjmUp7x3VPAyKV9tVvLU8BcH9YbtdZTwKN5W0Rv4VPAU8rvXZjjU8DYtJQktuJTwMxS/Clf21PANesQKHDRU8BCq7yyxeJTwI3rIRIs3lPAh2SOBizeU8BBGiUaqtBTwBZR0WBs2VPANshFMRDjU8AqhlBKreBTwEy/yPQZ1FPAS0KeNL/fU8DWnA8RL9tTwHgfDcja2VPAlLW4jPzZU8BLEa66bddTwEWLQ2iK21PAG070VCLiU8DabVm2Pc5TwCRMSb3E3lPAp28+GrPkU8CIYAO/mdFTwDQVHD0C4FPAZf6wKUDNU8Am8WbLgddTwLNDHdL/31PASP7cp5XlU8CeLBCYothTwG+0iM0s2VPAI3P6tKngU8Av/hHh+tlTwGwP92ic21PAAo2IGGXaU8AXVfEMe9ZTwEtCOwoE2FPAZUMvivvTU8D7Lc+95tFTwMN2/3El3FPA4JgrpHjVU8B/7Wg1x9pTwGANSKkh1VPAxgMlYM/hU8A6FC55ttZTwJQsistv1VPAHFI1D9riU8CsN4uTEtdTwAfBFRY95FPAUM6rlaTfU8D/RwH9WdxTwK8S4oBM2FPAueQTDe3LU8D7H8PXFd9TwEOEC7vg31PApRAKQuDNU8C472ocHtxTwJeQrE971VPAWGHIJELYU8CKzNinjtRTwGVDDnwS4FPA+jIoBWPTU8D8T0AL8NJTwLNV7qos01PAV5+jPBDkU8CBxachZtZTwGZ2SPeU2lPAUYTU7azZU8DXjZDkJtRTwD5bKBUk2FPAk7X6qE7LU8COYD60KuZTwLZ9l2v03FPA04MnmQHhU8CGaN+idN1TwIlij9wc01PAJfsQ6bHZU8CVCWQbXdtTwE4gkVt441PAyJ41JqHOU8AXgW+iL9RTwLVDcBrq01PAYY0OozvbU8DGSN1r1NlTwMxL9rZ22VPADfug20nfU8DQ2DRCQd1TwA==\",\"dtype\":\"float64\",\"order\":\"little\",\"shape\":[140]}],\"marker.color\":[{\"__ndarray__\":\"AAAAAE4hFEEAAAAAtGUUQQAAAABKHhpBAAAAAMLLJkEAAAAAjq0iQQAAAAAjnR5BAAAAAJbbGUEAAACA9XQgQQAAAABLQSFBAAAAgN5kLEEAAAAAv6MWQQAAAAANYRJBAAAAAAyxGkEAAAAATtcPQQAAAAA0Nx9BAAAAAFJPFkEAAADA1Uo3QQAAAAC1DxtBAAAAAHxrFUEAAAAAeigeQQAAAADJExZBAAAAgJDwLUEAAAAAGwQZQQAAAACWyRhBAAAAAO2jFUEAAACAEtUgQQAAAAA4ehlBAAAAAGqhGUEAAAAA/H8cQQAAAAC9vBlBAAAAAOlKGEEAAAAAgvsPQQAAAAAuiBpBAAAAAJ5HF0EAAAAA0+0bQQAAAACZLR1BAAAAAAVMKEEAAAAAmmoQQQAAAADVYBBBAAAAgNFcIUEAAAAAV0cYQQAAAACQ4hJBAAAAALhdCUEAAAAAwf0pQQAAAIDYPzJBAAAAALf+E0EAAAAAvp8XQQAAAAB2ixZBAAAAAJiUFkEAAAAAIkAgQQAAAICDyiFBAAAAAJosGkEAAAAAPBwYQQAAAAD6aRtBAAAAAEp9FUEAAAAAn4QTQQAAAAD7RSVBAAAAABePEUEAAAAAlZEbQQAAAADVcRpBAAAAAFuzE0EAAAAABogRQQAAAACX4hpBAAAAAKOmFEEAAACAxLspQQAAAICH2CNBAAAAAKeLFEEAAAAAwbYiQQAAAADBLCdBAAAAwIuxMEEAAACAj5woQQAAAABBfCBBAAAAAJmMF0EAAAAAglsPQQAAAAC0qRtBAAAAABsZG0EAAAAAcQ4VQQAAAABKBBhBAAAAAFZlEUEAAAAAwP0YQQAAAACTAhBBAAAAAPLnDkEAAACA9KskQQAAAABXkxxBAAAAABDkGEEAAACAqhMhQQAAAABiHBxBAAAAACSVFkEAAACArnQlQQAAAAD/HBlBAAAAAC81EkEAAAAAxsUZQQAAAADL7RpBAAAAAFYQG0EAAACA3/wiQQAAAADyvxtBAAAAAN2+GEEAAACANs0jQQAAAAD9yRZBAAAAAGVeJ0EAAAAACfYXQQAAAACdCBZBAAAAAPEYFUEAAAAAJRAfQQAAAAAIsDBBAAAAAHv3FkEAAAAAJNkgQQAAAADKTxpBAAAAAK8hFEEAAAAA2k8bQQAAAACyxRtBAAAAAIZ9LkEAAAAAOvMWQQAAAIBAzCBBAAAAABqaFUEAAAAAsDkNQQAAAACEVSRBAAAAAODwFkEAAAAABikPQQAAAICDTyBBAAAAgJneIkEAAAAAFH4VQQAAAAB8ABdBAAAAAJ5fEUEAAAAAWfMUQQAAAAAhUhVBAAAAAJ/MEkEAAAAA6HgVQQAAAAB9QhVBAAAAANagHEEAAAAAW3McQQAAAABYVhxBAAAAACc4EkEAAAAAGy8bQQAAAAD6kxZBAAAAALFFIUEAAACAI7YoQQAAAIBI0ShBAAAAAK6rEkEAAAAANUwaQQ==\",\"dtype\":\"float64\",\"order\":\"little\",\"shape\":[140]}],\"marker.size\":[{\"__ndarray__\":\"AAAAAE4hFEEAAAAAtGUUQQAAAABKHhpBAAAAAMLLJkEAAAAAjq0iQQAAAAAjnR5BAAAAAJbbGUEAAACA9XQgQQAAAABLQSFBAAAAgN5kLEEAAAAAv6MWQQAAAAANYRJBAAAAAAyxGkEAAAAATtcPQQAAAAA0Nx9BAAAAAFJPFkEAAADA1Uo3QQAAAAC1DxtBAAAAAHxrFUEAAAAAeigeQQAAAADJExZBAAAAgJDwLUEAAAAAGwQZQQAAAACWyRhBAAAAAO2jFUEAAACAEtUgQQAAAAA4ehlBAAAAAGqhGUEAAAAA/H8cQQAAAAC9vBlBAAAAAOlKGEEAAAAAgvsPQQAAAAAuiBpBAAAAAJ5HF0EAAAAA0+0bQQAAAACZLR1BAAAAAAVMKEEAAAAAmmoQQQAAAADVYBBBAAAAgNFcIUEAAAAAV0cYQQAAAACQ4hJBAAAAALhdCUEAAAAAwf0pQQAAAIDYPzJBAAAAALf+E0EAAAAAvp8XQQAAAAB2ixZBAAAAAJiUFkEAAAAAIkAgQQAAAICDyiFBAAAAAJosGkEAAAAAPBwYQQAAAAD6aRtBAAAAAEp9FUEAAAAAn4QTQQAAAAD7RSVBAAAAABePEUEAAAAAlZEbQQAAAADVcRpBAAAAAFuzE0EAAAAABogRQQAAAACX4hpBAAAAAKOmFEEAAACAxLspQQAAAICH2CNBAAAAAKeLFEEAAAAAwbYiQQAAAADBLCdBAAAAwIuxMEEAAACAj5woQQAAAABBfCBBAAAAAJmMF0EAAAAAglsPQQAAAAC0qRtBAAAAABsZG0EAAAAAcQ4VQQAAAABKBBhBAAAAAFZlEUEAAAAAwP0YQQAAAACTAhBBAAAAAPLnDkEAAACA9KskQQAAAABXkxxBAAAAABDkGEEAAACAqhMhQQAAAABiHBxBAAAAACSVFkEAAACArnQlQQAAAAD/HBlBAAAAAC81EkEAAAAAxsUZQQAAAADL7RpBAAAAAFYQG0EAAACA3/wiQQAAAADyvxtBAAAAAN2+GEEAAACANs0jQQAAAAD9yRZBAAAAAGVeJ0EAAAAACfYXQQAAAACdCBZBAAAAAPEYFUEAAAAAJRAfQQAAAAAIsDBBAAAAAHv3FkEAAAAAJNkgQQAAAADKTxpBAAAAAK8hFEEAAAAA2k8bQQAAAACyxRtBAAAAAIZ9LkEAAAAAOvMWQQAAAIBAzCBBAAAAABqaFUEAAAAAsDkNQQAAAACEVSRBAAAAAODwFkEAAAAABikPQQAAAICDTyBBAAAAgJneIkEAAAAAFH4VQQAAAAB8ABdBAAAAAJ5fEUEAAAAAWfMUQQAAAAAhUhVBAAAAAJ/MEkEAAAAA6HgVQQAAAAB9QhVBAAAAANagHEEAAAAAW3McQQAAAABYVhxBAAAAACc4EkEAAAAAGy8bQQAAAAD6kxZBAAAAALFFIUEAAACAI7YoQQAAAIBI0ShBAAAAAK6rEkEAAAAANUwaQQ==\",\"dtype\":\"float64\",\"order\":\"little\",\"shape\":[140]}]},\"selected\":{\"id\":\"3486\"},\"selection_policy\":{\"id\":\"3485\"}},\"id\":\"3325\",\"type\":\"ColumnDataSource\"},{\"attributes\":{\"below\":[{\"id\":\"3353\"}],\"center\":[{\"id\":\"3355\"},{\"id\":\"3359\"}],\"left\":[{\"id\":\"3356\"}],\"margin\":[5,5,5,5],\"min_border_bottom\":10,\"min_border_left\":10,\"min_border_right\":10,\"min_border_top\":10,\"plot_height\":500,\"plot_width\":500,\"renderers\":[{\"id\":\"3380\"}],\"sizing_mode\":\"fixed\",\"title\":{\"id\":\"3345\"},\"toolbar\":{\"id\":\"3366\"},\"x_range\":{\"id\":\"3341\"},\"x_scale\":{\"id\":\"3349\"},\"y_range\":{\"id\":\"3342\"},\"y_scale\":{\"id\":\"3351\"}},\"id\":\"3344\",\"subtype\":\"Figure\",\"type\":\"Plot\"},{\"attributes\":{\"children\":[{\"id\":\"3336\"},{\"id\":\"3337\"}],\"margin\":[0,0,0,0],\"name\":\"Column08224\"},\"id\":\"3335\",\"type\":\"Column\"},{\"attributes\":{\"fill_alpha\":{\"value\":0.2},\"fill_color\":{\"value\":\"#30a2da\"},\"line_alpha\":{\"value\":0.2},\"top\":{\"field\":\"average_house_value\"},\"width\":{\"value\":0.8},\"x\":{\"field\":\"neighbourhood\"}},\"id\":\"3460\",\"type\":\"VBar\"},{\"attributes\":{\"bottom_units\":\"screen\",\"fill_alpha\":0.5,\"fill_color\":\"lightgrey\",\"left_units\":\"screen\",\"level\":\"overlay\",\"line_alpha\":1.0,\"line_color\":\"black\",\"line_dash\":[4,4],\"line_width\":2,\"right_units\":\"screen\",\"top_units\":\"screen\"},\"id\":\"3447\",\"type\":\"BoxAnnotation\"}],\"root_ids\":[\"3317\",\"3538\"]},\"title\":\"Bokeh Application\",\"version\":\"2.2.3\"}};\n",
       "    var render_items = [{\"docid\":\"50cf63c1-41f7-49fd-82a2-4e45ed51b05f\",\"root_ids\":[\"3317\"],\"roots\":{\"3317\":\"0dd797f3-e564-4d9f-b875-fc43f281f8de\"}}];\n",
       "    root.Bokeh.embed.embed_items_notebook(docs_json, render_items);\n",
       "  }\n",
       "  if (root.Bokeh !== undefined && root.Bokeh.Panel !== undefined && root['Plotly'] !== undefined ) {\n",
       "    embed_document(root);\n",
       "  } else {\n",
       "    var attempts = 0;\n",
       "    var timer = setInterval(function(root) {\n",
       "      if (root.Bokeh !== undefined && root.Bokeh.Panel !== undefined && root['Plotly'] !== undefined) {\n",
       "        clearInterval(timer);\n",
       "        embed_document(root);\n",
       "      } else if (document.readyState == \"complete\") {\n",
       "        attempts++;\n",
       "        if (attempts > 100) {\n",
       "          clearInterval(timer);\n",
       "          console.log(\"Bokeh: ERROR: Unable to run BokehJS code because BokehJS library is missing\");\n",
       "        }\n",
       "      }\n",
       "    }, 10, root)\n",
       "  }\n",
       "})(window);</script>"
      ],
      "text/plain": [
       "Tabs\n",
       "    [0] Markdown(str)\n",
       "    [1] Column\n",
       "        [0] Markdown(str)\n",
       "        [1] Column\n",
       "            [0] Column()\n",
       "            [1] Row\n",
       "                [0] Plotly(Figure, name='interactive08164')\n",
       "    [2] Column\n",
       "        [0] Markdown(str)\n",
       "        [1] Column\n",
       "            [0] Column()\n",
       "            [1] Row\n",
       "                [0] Str(SeriesPlotMethods, name='interactive08173')\n",
       "    [3] Column\n",
       "        [0] Markdown(str)\n",
       "        [1] Column\n",
       "            [0] Column()\n",
       "            [1] Row\n",
       "                [0] Row(name='interactive08182')\n",
       "                    [0] HoloViews(DynamicMap, name='interactive08182')\n",
       "                    [1] Column\n",
       "                        [0] WidgetBox\n",
       "                            [0] Select(margin=(20, 20, 20, 20), name='neighbourhood', options=['Agincourt North', ...], value='Agincourt North', width=250)\n",
       "                        [1] VSpacer()\n",
       "    [4] Column\n",
       "        [0] Markdown(str)\n",
       "        [1] Column\n",
       "            [0] Column()\n",
       "            [1] Row\n",
       "                [0] DataFrame(Series, name='interactive08227')\n",
       "    [5] Column\n",
       "        [0] Markdown(str)\n",
       "        [1] Column\n",
       "            [0] Column()\n",
       "            [1] Row\n",
       "                [0] HoloViews(Bars, name='interactive08236')"
      ]
     },
     "execution_count": 106,
     "metadata": {
      "application/vnd.holoviews_exec.v0+json": {
       "id": "3317"
      }
     },
     "output_type": "execute_result"
    }
   ],
   "source": [
    "dashboard.servable()"
   ]
  },
  {
   "cell_type": "code",
   "execution_count": null,
   "metadata": {},
   "outputs": [],
   "source": []
  }
 ],
 "metadata": {
  "kernelspec": {
   "display_name": "Python 3",
   "language": "python",
   "name": "python3"
  },
  "language_info": {
   "codemirror_mode": {
    "name": "ipython",
    "version": 3
   },
   "file_extension": ".py",
   "mimetype": "text/x-python",
   "name": "python",
   "nbconvert_exporter": "python",
   "pygments_lexer": "ipython3",
   "version": "3.7.9"
  }
 },
 "nbformat": 4,
 "nbformat_minor": 4
}
